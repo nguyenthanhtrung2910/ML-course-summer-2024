{
  "cells": [
    {
      "cell_type": "markdown",
      "metadata": {
        "id": "0mZKSmK_IzW5"
      },
      "source": [
        "#  Install and import required libraries."
      ]
    },
    {
      "cell_type": "code",
      "execution_count": 1,
      "metadata": {
        "colab": {
          "base_uri": "https://localhost:8080/"
        },
        "id": "QF7KEIZ2mB_w",
        "outputId": "bc306d4f-e40d-4665-b0dc-fdf1f2faa66c"
      },
      "outputs": [
        {
          "name": "stdout",
          "output_type": "stream",
          "text": [
            "\u001b[2K     \u001b[90m━━━━━━━━━━━━━━━━━━━━━━━━━━━━━━━━━━━━━━━━\u001b[0m \u001b[32m42.4/42.4 kB\u001b[0m \u001b[31m1.1 MB/s\u001b[0m eta \u001b[36m0:00:00\u001b[0m\n",
            "\u001b[2K   \u001b[90m━━━━━━━━━━━━━━━━━━━━━━━━━━━━━━━━━━━━━━━━\u001b[0m \u001b[32m2.3/2.3 MB\u001b[0m \u001b[31m18.8 MB/s\u001b[0m eta \u001b[36m0:00:00\u001b[0m\n",
            "\u001b[?25h"
          ]
        }
      ],
      "source": [
        "!pip install -q timm"
      ]
    },
    {
      "cell_type": "code",
      "execution_count": 2,
      "metadata": {
        "id": "5o6bxqloSFZP"
      },
      "outputs": [],
      "source": [
        "import os\n",
        "import math\n",
        "\n",
        "from tqdm import tqdm\n",
        "import numpy as np\n",
        "import pandas as pd\n",
        "import matplotlib.pyplot as plt\n",
        "import torch\n",
        "import torch.nn as nn\n",
        "import torchvision\n",
        "import cv2\n",
        "import albumentations\n",
        "import timm\n",
        "from albumentations.pytorch import ToTensorV2\n",
        "from sklearn.metrics import accuracy_score"
      ]
    },
    {
      "cell_type": "markdown",
      "metadata": {
        "id": "5mxxW-QdJLsY"
      },
      "source": [
        "# Prepare Dataset."
      ]
    },
    {
      "cell_type": "markdown",
      "metadata": {
        "id": "wR5QtmS1JSKt"
      },
      "source": [
        "## Download and unzip downloaded file."
      ]
    },
    {
      "cell_type": "code",
      "execution_count": 3,
      "metadata": {
        "colab": {
          "base_uri": "https://localhost:8080/"
        },
        "id": "F8HAXPhpJBzU",
        "outputId": "8b6e6137-9f9b-424d-cf88-d6da44f9245c"
      },
      "outputs": [
        {
          "name": "stdout",
          "output_type": "stream",
          "text": [
            "--2024-08-25 22:11:47--  http://cs231n.stanford.edu/tiny-imagenet-200.zip\n",
            "Resolving cs231n.stanford.edu (cs231n.stanford.edu)... 171.64.64.64\n",
            "Connecting to cs231n.stanford.edu (cs231n.stanford.edu)|171.64.64.64|:80... connected.\n",
            "HTTP request sent, awaiting response... 301 Moved Permanently\n",
            "Location: https://cs231n.stanford.edu/tiny-imagenet-200.zip [following]\n",
            "--2024-08-25 22:11:47--  https://cs231n.stanford.edu/tiny-imagenet-200.zip\n",
            "Connecting to cs231n.stanford.edu (cs231n.stanford.edu)|171.64.64.64|:443... connected.\n",
            "HTTP request sent, awaiting response... 200 OK\n",
            "Length: 248100043 (237M) [application/zip]\n",
            "Saving to: ‘tiny-imagenet-200.zip’\n",
            "\n",
            "tiny-imagenet-200.z 100%[===================>] 236.61M  24.1MB/s    in 7.8s    \n",
            "\n",
            "2024-08-25 22:11:54 (30.5 MB/s) - ‘tiny-imagenet-200.zip’ saved [248100043/248100043]\n",
            "\n"
          ]
        }
      ],
      "source": [
        "!wget http://cs231n.stanford.edu/tiny-imagenet-200.zip"
      ]
    },
    {
      "cell_type": "code",
      "execution_count": 4,
      "metadata": {
        "id": "X9MSKMwGJBzV"
      },
      "outputs": [],
      "source": [
        "!unzip tiny-imagenet-200.zip >> out.txt"
      ]
    },
    {
      "cell_type": "markdown",
      "metadata": {
        "id": "553uPsfSJlK4"
      },
      "source": [
        "## Class for our dataset."
      ]
    },
    {
      "cell_type": "code",
      "execution_count": 5,
      "metadata": {
        "id": "nk1nkZ4_1E1H"
      },
      "outputs": [],
      "source": [
        "class TinyINDataset(torch.utils.data.Dataset):\n",
        "    \"\"\"\n",
        "    Dataset has two lists. One list contains paths to all images in dataset.\n",
        "    The other contains respective class order.\n",
        "    \"\"\"\n",
        "    def __init__(self, path, classes, transform, dataset_type):\n",
        "        #allowed dataset type can be only 'train' or 'val'\n",
        "        assert dataset_type in ['train', 'val'], 'Dataset can have two allowed type: train or val'\n",
        "        #a dict with key - class name and value - its respective order\n",
        "        class_to_int = {cls:i for i, cls in enumerate(classes)}\n",
        "        #paths to all images in dataset\n",
        "        self.images_paths = []\n",
        "        #respective class order of image\n",
        "        self.labels = []\n",
        "\n",
        "        if dataset_type == 'train':\n",
        "          for cls in os.listdir(path):\n",
        "            images_names = os.listdir(os.path.join(path, cls, 'images'))\n",
        "            self.images_paths.extend([os.path.join(path, cls, 'images', image_name) for image_name in images_names])\n",
        "            self.labels.extend([class_to_int[cls] for _ in range(len(images_names))])\n",
        "        else:\n",
        "          images_names = os.listdir(os.path.join(path, 'images'))\n",
        "          self.images_paths = [os.path.join(path, 'images', image_name) for image_name in images_names]\n",
        "          df = pd.read_csv(os.path.join(path, 'val_annotations.txt'), sep='\\t', header=None)\n",
        "          df = df[[0,1]]\n",
        "          image_name_to_class = {image_name: cls for image_name, cls in zip(df.values[:,0], df.values[:,1])}\n",
        "          self.labels = [class_to_int[image_name_to_class[image_name]] for image_name in images_names]\n",
        "\n",
        "        self.transform = transform\n",
        "\n",
        "    def __getitem__(self, idx):\n",
        "        image = cv2.imread(self.images_paths[idx])\n",
        "        image = cv2.cvtColor(image, cv2.COLOR_BGR2RGB)\n",
        "        #we do resize (if necessary) in transform\n",
        "        if self.transform is not None:\n",
        "            image = self.transform(image=image)[\"image\"]\n",
        "\n",
        "        label = self.labels[idx]\n",
        "\n",
        "        return image, torch.tensor(label)\n",
        "\n",
        "    def __len__(self):\n",
        "        return len(self.images_paths)"
      ]
    },
    {
      "cell_type": "markdown",
      "metadata": {
        "id": "8R5Jz8njNCMX"
      },
      "source": [
        "## Data Augmentation.\n",
        "All images in Tiny ImageNet have commom fixable size  64x64 so we don't need to resize or crop our images."
      ]
    },
    {
      "cell_type": "code",
      "execution_count": 6,
      "metadata": {
        "id": "2-8MReF_9H2I"
      },
      "outputs": [],
      "source": [
        "train_transform = albumentations.Compose(\n",
        "    [\n",
        "        albumentations.ShiftScaleRotate(shift_limit=0.05, scale_limit=0.05, rotate_limit=15, p=0.5),\n",
        "        # albumentations.RandomCrop(height=256, width=256),\n",
        "        albumentations.RGBShift(r_shift_limit=5, g_shift_limit=5, b_shift_limit=5, p=0.5),\n",
        "        albumentations.RandomBrightnessContrast(p=0.5),\n",
        "        albumentations.Normalize(mean=(0.485, 0.456, 0.406), std=(0.229, 0.224, 0.225)),\n",
        "        ToTensorV2(),\n",
        "    ]\n",
        ")\n",
        "\n",
        "val_transform = albumentations.Compose(\n",
        "    [\n",
        "        # albumentations.CenterCrop(height=256, width=256),\n",
        "        albumentations.Normalize(mean=(0.485, 0.456, 0.406), std=(0.229, 0.224, 0.225)),\n",
        "        ToTensorV2(),\n",
        "    ]\n",
        ")"
      ]
    },
    {
      "cell_type": "markdown",
      "metadata": {
        "id": "F9hbGQqJN1qq"
      },
      "source": [
        "## Create train and validation dataset."
      ]
    },
    {
      "cell_type": "code",
      "execution_count": 7,
      "metadata": {
        "id": "YPwXq6iYATS4"
      },
      "outputs": [],
      "source": [
        "classes = sorted(os.listdir('tiny-imagenet-200/train/'))\n",
        "train_dataset = TinyINDataset('tiny-imagenet-200/train', classes, train_transform, 'train')\n",
        "val_dataset = TinyINDataset('tiny-imagenet-200/val', classes, train_transform, 'val')"
      ]
    },
    {
      "cell_type": "markdown",
      "metadata": {
        "id": "Z-Vm04l4OLrt"
      },
      "source": [
        "# Create our model."
      ]
    },
    {
      "cell_type": "markdown",
      "metadata": {
        "id": "TyFNKoNzOViY"
      },
      "source": [
        "# Class for our model.\n"
      ]
    },
    {
      "cell_type": "code",
      "execution_count": 8,
      "metadata": {
        "id": "40XPWaXiJBzT"
      },
      "outputs": [],
      "source": [
        "class MyModel(torch.nn.Module):\n",
        "  def __init__(\n",
        "          self,\n",
        "          model_name: str,\n",
        "          pretrained: bool,\n",
        "          exportable: bool,\n",
        "          num_classes: int,\n",
        "          global_pool: str,\n",
        "    ) -> None:\n",
        "\n",
        "    super().__init__()\n",
        "    #create model from timm\n",
        "    self._backbone = timm.create_model(\n",
        "      model_name=model_name,\n",
        "      pretrained=pretrained,\n",
        "      exportable=exportable,\n",
        "      num_classes=num_classes,\n",
        "      global_pool=global_pool,\n",
        "    )\n",
        "    in_features = self._backbone.get_classifier().in_features\n",
        "    #remove old head (fully connnected layers) from model\n",
        "    self._backbone.reset_classifier(num_classes=0)\n",
        "    #add new head\n",
        "    self.fc_head = torch.nn.Sequential(\n",
        "        torch.nn.Linear(in_features, 512),\n",
        "        torch.nn.BatchNorm1d(512),\n",
        "        torch.nn.ReLU(inplace=True),\n",
        "\n",
        "        torch.nn.Linear(512, 512),\n",
        "        torch.nn.BatchNorm1d(512),\n",
        "        torch.nn.ReLU(inplace=True),\n",
        "\n",
        "        torch.nn.Linear(512, num_classes),\n",
        "    )\n",
        "\n",
        "  def forward(self, tensor: torch.Tensor) -> torch.Tensor:\n",
        "    return self.fc_head(self._backbone(tensor))"
      ]
    },
    {
      "cell_type": "markdown",
      "metadata": {
        "id": "LSQC91EpTcXI"
      },
      "source": [
        "## Create model and move it to GPU."
      ]
    },
    {
      "cell_type": "code",
      "execution_count": 9,
      "metadata": {
        "colab": {
          "base_uri": "https://localhost:8080/",
          "height": 153,
          "referenced_widgets": [
            "6c18d4b7d93d4437bd98f824d48e80b9",
            "0ddd76fb2d0540048095916989afd8c2",
            "05cbf777a0df4d85bc565383bedab4dc",
            "313ff21d7d2c493aabd5ae5c2e418e23",
            "2379aee6fa884a3993e66a9592c1ba72",
            "225823fc7d7e4a56b96d05a429bda2cc",
            "b5de49b9c6e94a809e46efd34b357d28",
            "1192ae81766f41b692af214b9b764b31",
            "fa6328b2eedd4c0b8fe2763e3ca42e67",
            "bfee3bafd79c45fc8088ac36273d638c",
            "aa7cc8debd7c44329a714d7b7e228768"
          ]
        },
        "id": "cB2lm2t-wQZi",
        "outputId": "229b1ba6-9ba9-4a63-ea8a-10663abed03f"
      },
      "outputs": [
        {
          "name": "stderr",
          "output_type": "stream",
          "text": [
            "/usr/local/lib/python3.10/dist-packages/huggingface_hub/utils/_token.py:89: UserWarning: \n",
            "The secret `HF_TOKEN` does not exist in your Colab secrets.\n",
            "To authenticate with the Hugging Face Hub, create a token in your settings tab (https://huggingface.co/settings/tokens), set it as secret in your Google Colab and restart your session.\n",
            "You will be able to reuse this secret in all of your notebooks.\n",
            "Please note that authentication is recommended but still optional to access public models or datasets.\n",
            "  warnings.warn(\n"
          ]
        },
        {
          "data": {
            "application/vnd.jupyter.widget-view+json": {
              "model_id": "6c18d4b7d93d4437bd98f824d48e80b9",
              "version_major": 2,
              "version_minor": 0
            },
            "text/plain": [
              "model.safetensors:   0%|          | 0.00/102M [00:00<?, ?B/s]"
            ]
          },
          "metadata": {},
          "output_type": "display_data"
        }
      ],
      "source": [
        "model = MyModel('resnet50.a1_in1k', pretrained=True, exportable=True,  num_classes=200, global_pool='avg')"
      ]
    },
    {
      "cell_type": "code",
      "execution_count": 10,
      "metadata": {
        "colab": {
          "base_uri": "https://localhost:8080/"
        },
        "id": "ROG-G3ut_1i7",
        "outputId": "77b1b230-260f-4af8-8d45-8e3eb2b631e3"
      },
      "outputs": [
        {
          "data": {
            "text/plain": [
              "torch.Size([2, 200])"
            ]
          },
          "execution_count": 10,
          "metadata": {},
          "output_type": "execute_result"
        }
      ],
      "source": [
        "model.cuda()\n",
        "model(torch.rand(2,3,64,64).cuda()).shape"
      ]
    },
    {
      "cell_type": "markdown",
      "metadata": {
        "id": "RxYGOSzSTv4u"
      },
      "source": [
        "# Training Process."
      ]
    },
    {
      "cell_type": "markdown",
      "metadata": {
        "id": "d-jFod-jT5e_"
      },
      "source": [
        "## Create dataloaders, loss function and optimizer."
      ]
    },
    {
      "cell_type": "code",
      "execution_count": 11,
      "metadata": {
        "id": "xIBtzB7gzbsG"
      },
      "outputs": [],
      "source": [
        "train_loader = torch.utils.data.DataLoader(\n",
        "    train_dataset,\n",
        "    batch_size=32,\n",
        "    shuffle=True,\n",
        "    pin_memory=True,\n",
        "    num_workers=2,\n",
        ")\n",
        "\n",
        "val_loader = torch.utils.data.DataLoader(\n",
        "    val_dataset,\n",
        "    batch_size=32,\n",
        "    shuffle=False,\n",
        "    pin_memory=True,\n",
        "    num_workers=2\n",
        ")"
      ]
    },
    {
      "cell_type": "code",
      "execution_count": 12,
      "metadata": {
        "id": "XItN0hOj6m-V"
      },
      "outputs": [],
      "source": [
        "criterion = nn.CrossEntropyLoss()\n",
        "optimizer = torch.optim.Adam(model.parameters(), lr=5e-5)"
      ]
    },
    {
      "cell_type": "markdown",
      "metadata": {
        "id": "M_bTN_U3UJ0R"
      },
      "source": [
        "## Training loop."
      ]
    },
    {
      "cell_type": "code",
      "execution_count": 13,
      "metadata": {
        "colab": {
          "base_uri": "https://localhost:8080/"
        },
        "id": "IW1Bivrd63LP",
        "outputId": "fd351a87-26e6-4faf-db87-fd92834a8a09"
      },
      "outputs": [
        {
          "name": "stderr",
          "output_type": "stream",
          "text": [
            "  0%|          | 3/3125.0 [00:00<12:36,  4.13it/s]"
          ]
        },
        {
          "name": "stdout",
          "output_type": "stream",
          "text": [
            "Epoch   0\t iter   0\t loss 5.459\n"
          ]
        },
        {
          "name": "stderr",
          "output_type": "stream",
          "text": [
            " 16%|█▌        | 503/3125.0 [00:30<02:16, 19.21it/s]"
          ]
        },
        {
          "name": "stdout",
          "output_type": "stream",
          "text": [
            "Epoch   0\t iter 500\t loss 4.532\n"
          ]
        },
        {
          "name": "stderr",
          "output_type": "stream",
          "text": [
            " 32%|███▏      | 1005/3125.0 [00:59<01:47, 19.80it/s]"
          ]
        },
        {
          "name": "stdout",
          "output_type": "stream",
          "text": [
            "Epoch   0\t iter 1000\t loss 3.788\n"
          ]
        },
        {
          "name": "stderr",
          "output_type": "stream",
          "text": [
            " 48%|████▊     | 1503/3125.0 [01:30<01:26, 18.82it/s]"
          ]
        },
        {
          "name": "stdout",
          "output_type": "stream",
          "text": [
            "Epoch   0\t iter 1500\t loss 3.397\n"
          ]
        },
        {
          "name": "stderr",
          "output_type": "stream",
          "text": [
            " 64%|██████▍   | 2005/3125.0 [01:59<00:56, 19.73it/s]"
          ]
        },
        {
          "name": "stdout",
          "output_type": "stream",
          "text": [
            "Epoch   0\t iter 2000\t loss 2.68\n"
          ]
        },
        {
          "name": "stderr",
          "output_type": "stream",
          "text": [
            " 80%|████████  | 2503/3125.0 [02:27<00:51, 12.03it/s]"
          ]
        },
        {
          "name": "stdout",
          "output_type": "stream",
          "text": [
            "Epoch   0\t iter 2500\t loss 3.054\n"
          ]
        },
        {
          "name": "stderr",
          "output_type": "stream",
          "text": [
            " 96%|█████████▌| 3004/3125.0 [02:55<00:08, 14.24it/s]"
          ]
        },
        {
          "name": "stdout",
          "output_type": "stream",
          "text": [
            "Epoch   0\t iter 3000\t loss 2.489\n"
          ]
        },
        {
          "name": "stderr",
          "output_type": "stream",
          "text": [
            "100%|██████████| 3125/3125.0 [03:03<00:00, 17.05it/s]\n"
          ]
        },
        {
          "name": "stdout",
          "output_type": "stream",
          "text": [
            "Epoch   0\t val_acc 0.5225\n"
          ]
        },
        {
          "name": "stderr",
          "output_type": "stream",
          "text": [
            "  0%|          | 3/3125.0 [00:00<05:58,  8.70it/s]"
          ]
        },
        {
          "name": "stdout",
          "output_type": "stream",
          "text": [
            "Epoch   1\t iter   0\t loss 2.311\n"
          ]
        },
        {
          "name": "stderr",
          "output_type": "stream",
          "text": [
            " 16%|█▌        | 503/3125.0 [00:27<03:26, 12.71it/s]"
          ]
        },
        {
          "name": "stdout",
          "output_type": "stream",
          "text": [
            "Epoch   1\t iter 500\t loss 2.433\n"
          ]
        },
        {
          "name": "stderr",
          "output_type": "stream",
          "text": [
            " 32%|███▏      | 1003/3125.0 [00:56<01:47, 19.69it/s]"
          ]
        },
        {
          "name": "stdout",
          "output_type": "stream",
          "text": [
            "Epoch   1\t iter 1000\t loss 2.243\n"
          ]
        },
        {
          "name": "stderr",
          "output_type": "stream",
          "text": [
            " 48%|████▊     | 1504/3125.0 [01:25<01:21, 19.95it/s]"
          ]
        },
        {
          "name": "stdout",
          "output_type": "stream",
          "text": [
            "Epoch   1\t iter 1500\t loss 2.033\n"
          ]
        },
        {
          "name": "stderr",
          "output_type": "stream",
          "text": [
            " 64%|██████▍   | 2004/3125.0 [01:53<00:56, 19.83it/s]"
          ]
        },
        {
          "name": "stdout",
          "output_type": "stream",
          "text": [
            "Epoch   1\t iter 2000\t loss 1.981\n"
          ]
        },
        {
          "name": "stderr",
          "output_type": "stream",
          "text": [
            " 80%|████████  | 2505/3125.0 [02:22<00:30, 20.51it/s]"
          ]
        },
        {
          "name": "stdout",
          "output_type": "stream",
          "text": [
            "Epoch   1\t iter 2500\t loss 1.746\n"
          ]
        },
        {
          "name": "stderr",
          "output_type": "stream",
          "text": [
            " 96%|█████████▌| 3004/3125.0 [02:52<00:07, 16.49it/s]"
          ]
        },
        {
          "name": "stdout",
          "output_type": "stream",
          "text": [
            "Epoch   1\t iter 3000\t loss 1.174\n"
          ]
        },
        {
          "name": "stderr",
          "output_type": "stream",
          "text": [
            "100%|██████████| 3125/3125.0 [02:58<00:00, 17.46it/s]\n"
          ]
        },
        {
          "name": "stdout",
          "output_type": "stream",
          "text": [
            "Epoch   1\t val_acc 0.5983\n"
          ]
        },
        {
          "name": "stderr",
          "output_type": "stream",
          "text": [
            "  0%|          | 4/3125.0 [00:00<03:46, 13.79it/s]"
          ]
        },
        {
          "name": "stdout",
          "output_type": "stream",
          "text": [
            "Epoch   2\t iter   0\t loss 2.243\n"
          ]
        },
        {
          "name": "stderr",
          "output_type": "stream",
          "text": [
            " 16%|█▌        | 504/3125.0 [00:30<02:16, 19.24it/s]"
          ]
        },
        {
          "name": "stdout",
          "output_type": "stream",
          "text": [
            "Epoch   2\t iter 500\t loss 2.074\n"
          ]
        },
        {
          "name": "stderr",
          "output_type": "stream",
          "text": [
            " 32%|███▏      | 1003/3125.0 [00:58<01:44, 20.32it/s]"
          ]
        },
        {
          "name": "stdout",
          "output_type": "stream",
          "text": [
            "Epoch   2\t iter 1000\t loss 1.659\n"
          ]
        },
        {
          "name": "stderr",
          "output_type": "stream",
          "text": [
            " 48%|████▊     | 1502/3125.0 [01:26<02:12, 12.25it/s]"
          ]
        },
        {
          "name": "stdout",
          "output_type": "stream",
          "text": [
            "Epoch   2\t iter 1500\t loss 1.479\n"
          ]
        },
        {
          "name": "stderr",
          "output_type": "stream",
          "text": [
            " 64%|██████▍   | 2002/3125.0 [01:54<01:21, 13.84it/s]"
          ]
        },
        {
          "name": "stdout",
          "output_type": "stream",
          "text": [
            "Epoch   2\t iter 2000\t loss 1.435\n"
          ]
        },
        {
          "name": "stderr",
          "output_type": "stream",
          "text": [
            " 80%|████████  | 2504/3125.0 [02:22<00:31, 19.83it/s]"
          ]
        },
        {
          "name": "stdout",
          "output_type": "stream",
          "text": [
            "Epoch   2\t iter 2500\t loss 1.762\n"
          ]
        },
        {
          "name": "stderr",
          "output_type": "stream",
          "text": [
            " 96%|█████████▌| 3003/3125.0 [02:51<00:06, 19.19it/s]"
          ]
        },
        {
          "name": "stdout",
          "output_type": "stream",
          "text": [
            "Epoch   2\t iter 3000\t loss 1.347\n"
          ]
        },
        {
          "name": "stderr",
          "output_type": "stream",
          "text": [
            "100%|██████████| 3125/3125.0 [02:58<00:00, 17.48it/s]\n"
          ]
        },
        {
          "name": "stdout",
          "output_type": "stream",
          "text": [
            "Epoch   2\t val_acc 0.6154\n"
          ]
        },
        {
          "name": "stderr",
          "output_type": "stream",
          "text": [
            "  0%|          | 3/3125.0 [00:00<04:17, 12.11it/s]"
          ]
        },
        {
          "name": "stdout",
          "output_type": "stream",
          "text": [
            "Epoch   3\t iter   0\t loss 1.739\n"
          ]
        },
        {
          "name": "stderr",
          "output_type": "stream",
          "text": [
            " 16%|█▌        | 503/3125.0 [00:29<02:17, 19.09it/s]"
          ]
        },
        {
          "name": "stdout",
          "output_type": "stream",
          "text": [
            "Epoch   3\t iter 500\t loss 1.58\n"
          ]
        },
        {
          "name": "stderr",
          "output_type": "stream",
          "text": [
            " 32%|███▏      | 1004/3125.0 [00:58<01:45, 20.10it/s]"
          ]
        },
        {
          "name": "stdout",
          "output_type": "stream",
          "text": [
            "Epoch   3\t iter 1000\t loss 1.746\n"
          ]
        },
        {
          "name": "stderr",
          "output_type": "stream",
          "text": [
            " 48%|████▊     | 1505/3125.0 [01:27<01:21, 19.79it/s]"
          ]
        },
        {
          "name": "stdout",
          "output_type": "stream",
          "text": [
            "Epoch   3\t iter 1500\t loss 1.596\n"
          ]
        },
        {
          "name": "stderr",
          "output_type": "stream",
          "text": [
            " 64%|██████▍   | 2004/3125.0 [01:56<00:56, 19.91it/s]"
          ]
        },
        {
          "name": "stdout",
          "output_type": "stream",
          "text": [
            "Epoch   3\t iter 2000\t loss 1.506\n"
          ]
        },
        {
          "name": "stderr",
          "output_type": "stream",
          "text": [
            " 80%|████████  | 2503/3125.0 [02:24<00:44, 14.11it/s]"
          ]
        },
        {
          "name": "stdout",
          "output_type": "stream",
          "text": [
            "Epoch   3\t iter 2500\t loss 1.446\n"
          ]
        },
        {
          "name": "stderr",
          "output_type": "stream",
          "text": [
            " 96%|█████████▌| 3002/3125.0 [02:51<00:09, 13.22it/s]"
          ]
        },
        {
          "name": "stdout",
          "output_type": "stream",
          "text": [
            "Epoch   3\t iter 3000\t loss 1.387\n"
          ]
        },
        {
          "name": "stderr",
          "output_type": "stream",
          "text": [
            "100%|██████████| 3125/3125.0 [02:58<00:00, 17.49it/s]\n"
          ]
        },
        {
          "name": "stdout",
          "output_type": "stream",
          "text": [
            "Epoch   3\t val_acc 0.6286\n"
          ]
        },
        {
          "name": "stderr",
          "output_type": "stream",
          "text": [
            "  0%|          | 3/3125.0 [00:00<04:11, 12.41it/s]"
          ]
        },
        {
          "name": "stdout",
          "output_type": "stream",
          "text": [
            "Epoch   4\t iter   0\t loss 1.172\n"
          ]
        },
        {
          "name": "stderr",
          "output_type": "stream",
          "text": [
            " 16%|█▌        | 503/3125.0 [00:28<03:33, 12.28it/s]"
          ]
        },
        {
          "name": "stdout",
          "output_type": "stream",
          "text": [
            "Epoch   4\t iter 500\t loss 1.88\n"
          ]
        },
        {
          "name": "stderr",
          "output_type": "stream",
          "text": [
            " 32%|███▏      | 1004/3125.0 [00:55<01:42, 20.62it/s]"
          ]
        },
        {
          "name": "stdout",
          "output_type": "stream",
          "text": [
            "Epoch   4\t iter 1000\t loss 1.021\n"
          ]
        },
        {
          "name": "stderr",
          "output_type": "stream",
          "text": [
            " 48%|████▊     | 1503/3125.0 [01:24<01:21, 20.02it/s]"
          ]
        },
        {
          "name": "stdout",
          "output_type": "stream",
          "text": [
            "Epoch   4\t iter 1500\t loss 1.143\n"
          ]
        },
        {
          "name": "stderr",
          "output_type": "stream",
          "text": [
            " 64%|██████▍   | 2003/3125.0 [01:54<01:00, 18.46it/s]"
          ]
        },
        {
          "name": "stdout",
          "output_type": "stream",
          "text": [
            "Epoch   4\t iter 2000\t loss 1.324\n"
          ]
        },
        {
          "name": "stderr",
          "output_type": "stream",
          "text": [
            " 80%|████████  | 2504/3125.0 [02:24<00:31, 19.88it/s]"
          ]
        },
        {
          "name": "stdout",
          "output_type": "stream",
          "text": [
            "Epoch   4\t iter 2500\t loss 1.552\n"
          ]
        },
        {
          "name": "stderr",
          "output_type": "stream",
          "text": [
            " 96%|█████████▌| 3003/3125.0 [02:53<00:06, 20.00it/s]"
          ]
        },
        {
          "name": "stdout",
          "output_type": "stream",
          "text": [
            "Epoch   4\t iter 3000\t loss 1.271\n"
          ]
        },
        {
          "name": "stderr",
          "output_type": "stream",
          "text": [
            "100%|██████████| 3125/3125.0 [02:59<00:00, 17.37it/s]\n"
          ]
        },
        {
          "name": "stdout",
          "output_type": "stream",
          "text": [
            "Epoch   4\t val_acc 0.6374\n"
          ]
        },
        {
          "name": "stderr",
          "output_type": "stream",
          "text": [
            "  0%|          | 4/3125.0 [00:00<03:45, 13.86it/s]"
          ]
        },
        {
          "name": "stdout",
          "output_type": "stream",
          "text": [
            "Epoch   5\t iter   0\t loss 0.925\n"
          ]
        },
        {
          "name": "stderr",
          "output_type": "stream",
          "text": [
            " 16%|█▌        | 503/3125.0 [00:29<02:10, 20.15it/s]"
          ]
        },
        {
          "name": "stdout",
          "output_type": "stream",
          "text": [
            "Epoch   5\t iter 500\t loss 1.406\n"
          ]
        },
        {
          "name": "stderr",
          "output_type": "stream",
          "text": [
            " 32%|███▏      | 1004/3125.0 [00:58<01:58, 17.85it/s]"
          ]
        },
        {
          "name": "stdout",
          "output_type": "stream",
          "text": [
            "Epoch   5\t iter 1000\t loss 1.255\n"
          ]
        },
        {
          "name": "stderr",
          "output_type": "stream",
          "text": [
            " 48%|████▊     | 1502/3125.0 [01:26<02:18, 11.76it/s]"
          ]
        },
        {
          "name": "stdout",
          "output_type": "stream",
          "text": [
            "Epoch   5\t iter 1500\t loss 1.414\n"
          ]
        },
        {
          "name": "stderr",
          "output_type": "stream",
          "text": [
            " 64%|██████▍   | 2002/3125.0 [01:54<01:20, 13.96it/s]"
          ]
        },
        {
          "name": "stdout",
          "output_type": "stream",
          "text": [
            "Epoch   5\t iter 2000\t loss 1.604\n"
          ]
        },
        {
          "name": "stderr",
          "output_type": "stream",
          "text": [
            " 80%|████████  | 2503/3125.0 [02:23<00:31, 19.44it/s]"
          ]
        },
        {
          "name": "stdout",
          "output_type": "stream",
          "text": [
            "Epoch   5\t iter 2500\t loss 1.712\n"
          ]
        },
        {
          "name": "stderr",
          "output_type": "stream",
          "text": [
            " 96%|█████████▌| 3004/3125.0 [02:52<00:06, 19.04it/s]"
          ]
        },
        {
          "name": "stdout",
          "output_type": "stream",
          "text": [
            "Epoch   5\t iter 3000\t loss 0.9392\n"
          ]
        },
        {
          "name": "stderr",
          "output_type": "stream",
          "text": [
            "100%|██████████| 3125/3125.0 [03:00<00:00, 17.27it/s]\n"
          ]
        },
        {
          "name": "stdout",
          "output_type": "stream",
          "text": [
            "Epoch   5\t val_acc 0.6435\n"
          ]
        },
        {
          "name": "stderr",
          "output_type": "stream",
          "text": [
            "  0%|          | 3/3125.0 [00:00<06:26,  8.07it/s]"
          ]
        },
        {
          "name": "stdout",
          "output_type": "stream",
          "text": [
            "Epoch   6\t iter   0\t loss 0.9925\n"
          ]
        },
        {
          "name": "stderr",
          "output_type": "stream",
          "text": [
            " 16%|█▌        | 503/3125.0 [00:29<02:21, 18.48it/s]"
          ]
        },
        {
          "name": "stdout",
          "output_type": "stream",
          "text": [
            "Epoch   6\t iter 500\t loss 1.023\n"
          ]
        },
        {
          "name": "stderr",
          "output_type": "stream",
          "text": [
            " 32%|███▏      | 1004/3125.0 [00:59<01:48, 19.57it/s]"
          ]
        },
        {
          "name": "stdout",
          "output_type": "stream",
          "text": [
            "Epoch   6\t iter 1000\t loss 1.495\n"
          ]
        },
        {
          "name": "stderr",
          "output_type": "stream",
          "text": [
            " 48%|████▊     | 1504/3125.0 [01:29<01:20, 20.20it/s]"
          ]
        },
        {
          "name": "stdout",
          "output_type": "stream",
          "text": [
            "Epoch   6\t iter 1500\t loss 1.074\n"
          ]
        },
        {
          "name": "stderr",
          "output_type": "stream",
          "text": [
            " 64%|██████▍   | 2004/3125.0 [01:58<00:58, 19.28it/s]"
          ]
        },
        {
          "name": "stdout",
          "output_type": "stream",
          "text": [
            "Epoch   6\t iter 2000\t loss 1.572\n"
          ]
        },
        {
          "name": "stderr",
          "output_type": "stream",
          "text": [
            " 80%|████████  | 2503/3125.0 [02:27<00:33, 18.78it/s]"
          ]
        },
        {
          "name": "stdout",
          "output_type": "stream",
          "text": [
            "Epoch   6\t iter 2500\t loss 1.223\n"
          ]
        },
        {
          "name": "stderr",
          "output_type": "stream",
          "text": [
            " 96%|█████████▌| 3003/3125.0 [02:56<00:07, 17.29it/s]"
          ]
        },
        {
          "name": "stdout",
          "output_type": "stream",
          "text": [
            "Epoch   6\t iter 3000\t loss 0.8616\n"
          ]
        },
        {
          "name": "stderr",
          "output_type": "stream",
          "text": [
            "100%|██████████| 3125/3125.0 [03:02<00:00, 17.08it/s]\n"
          ]
        },
        {
          "name": "stdout",
          "output_type": "stream",
          "text": [
            "Epoch   6\t val_acc 0.6479\n"
          ]
        },
        {
          "name": "stderr",
          "output_type": "stream",
          "text": [
            "  0%|          | 3/3125.0 [00:00<04:27, 11.66it/s]"
          ]
        },
        {
          "name": "stdout",
          "output_type": "stream",
          "text": [
            "Epoch   7\t iter   0\t loss 1.095\n"
          ]
        },
        {
          "name": "stderr",
          "output_type": "stream",
          "text": [
            " 16%|█▌        | 505/3125.0 [00:29<02:10, 20.01it/s]"
          ]
        },
        {
          "name": "stdout",
          "output_type": "stream",
          "text": [
            "Epoch   7\t iter 500\t loss 1.374\n"
          ]
        },
        {
          "name": "stderr",
          "output_type": "stream",
          "text": [
            " 32%|███▏      | 1002/3125.0 [00:58<03:03, 11.59it/s]"
          ]
        },
        {
          "name": "stdout",
          "output_type": "stream",
          "text": [
            "Epoch   7\t iter 1000\t loss 1.574\n"
          ]
        },
        {
          "name": "stderr",
          "output_type": "stream",
          "text": [
            " 48%|████▊     | 1503/3125.0 [01:27<02:07, 12.71it/s]"
          ]
        },
        {
          "name": "stdout",
          "output_type": "stream",
          "text": [
            "Epoch   7\t iter 1500\t loss 0.6506\n"
          ]
        },
        {
          "name": "stderr",
          "output_type": "stream",
          "text": [
            " 64%|██████▍   | 2004/3125.0 [01:55<00:57, 19.59it/s]"
          ]
        },
        {
          "name": "stdout",
          "output_type": "stream",
          "text": [
            "Epoch   7\t iter 2000\t loss 0.9593\n"
          ]
        },
        {
          "name": "stderr",
          "output_type": "stream",
          "text": [
            " 80%|████████  | 2504/3125.0 [02:25<00:32, 19.11it/s]"
          ]
        },
        {
          "name": "stdout",
          "output_type": "stream",
          "text": [
            "Epoch   7\t iter 2500\t loss 0.5343\n"
          ]
        },
        {
          "name": "stderr",
          "output_type": "stream",
          "text": [
            " 96%|█████████▌| 3003/3125.0 [02:54<00:06, 19.48it/s]"
          ]
        },
        {
          "name": "stdout",
          "output_type": "stream",
          "text": [
            "Epoch   7\t iter 3000\t loss 0.9864\n"
          ]
        },
        {
          "name": "stderr",
          "output_type": "stream",
          "text": [
            "100%|██████████| 3125/3125.0 [03:02<00:00, 17.15it/s]\n"
          ]
        },
        {
          "name": "stdout",
          "output_type": "stream",
          "text": [
            "Epoch   7\t val_acc 0.6535\n"
          ]
        },
        {
          "name": "stderr",
          "output_type": "stream",
          "text": [
            "  0%|          | 3/3125.0 [00:00<04:10, 12.47it/s]"
          ]
        },
        {
          "name": "stdout",
          "output_type": "stream",
          "text": [
            "Epoch   8\t iter   0\t loss 1.014\n"
          ]
        },
        {
          "name": "stderr",
          "output_type": "stream",
          "text": [
            " 16%|█▌        | 505/3125.0 [00:29<02:13, 19.69it/s]"
          ]
        },
        {
          "name": "stdout",
          "output_type": "stream",
          "text": [
            "Epoch   8\t iter 500\t loss 0.7536\n"
          ]
        },
        {
          "name": "stderr",
          "output_type": "stream",
          "text": [
            " 32%|███▏      | 1005/3125.0 [01:10<01:46, 19.96it/s]"
          ]
        },
        {
          "name": "stdout",
          "output_type": "stream",
          "text": [
            "Epoch   8\t iter 1000\t loss 1.175\n"
          ]
        },
        {
          "name": "stderr",
          "output_type": "stream",
          "text": [
            " 48%|████▊     | 1502/3125.0 [01:38<02:18, 11.74it/s]"
          ]
        },
        {
          "name": "stdout",
          "output_type": "stream",
          "text": [
            "Epoch   8\t iter 1500\t loss 0.8382\n"
          ]
        },
        {
          "name": "stderr",
          "output_type": "stream",
          "text": [
            " 64%|██████▍   | 2003/3125.0 [02:04<01:08, 16.39it/s]"
          ]
        },
        {
          "name": "stdout",
          "output_type": "stream",
          "text": [
            "Epoch   8\t iter 2000\t loss 1.108\n"
          ]
        },
        {
          "name": "stderr",
          "output_type": "stream",
          "text": [
            " 80%|████████  | 2504/3125.0 [02:32<00:30, 20.47it/s]"
          ]
        },
        {
          "name": "stdout",
          "output_type": "stream",
          "text": [
            "Epoch   8\t iter 2500\t loss 1.214\n"
          ]
        },
        {
          "name": "stderr",
          "output_type": "stream",
          "text": [
            " 96%|█████████▌| 3005/3125.0 [03:00<00:05, 20.73it/s]"
          ]
        },
        {
          "name": "stdout",
          "output_type": "stream",
          "text": [
            "Epoch   8\t iter 3000\t loss 1.008\n"
          ]
        },
        {
          "name": "stderr",
          "output_type": "stream",
          "text": [
            "100%|██████████| 3125/3125.0 [03:06<00:00, 16.72it/s]\n"
          ]
        },
        {
          "name": "stdout",
          "output_type": "stream",
          "text": [
            "Epoch   8\t val_acc 0.6544\n"
          ]
        },
        {
          "name": "stderr",
          "output_type": "stream",
          "text": [
            "  0%|          | 4/3125.0 [00:00<03:42, 14.03it/s]"
          ]
        },
        {
          "name": "stdout",
          "output_type": "stream",
          "text": [
            "Epoch   9\t iter   0\t loss 0.7611\n"
          ]
        },
        {
          "name": "stderr",
          "output_type": "stream",
          "text": [
            " 16%|█▌        | 504/3125.0 [00:28<02:06, 20.67it/s]"
          ]
        },
        {
          "name": "stdout",
          "output_type": "stream",
          "text": [
            "Epoch   9\t iter 500\t loss 0.4225\n"
          ]
        },
        {
          "name": "stderr",
          "output_type": "stream",
          "text": [
            " 32%|███▏      | 1005/3125.0 [00:56<01:42, 20.73it/s]"
          ]
        },
        {
          "name": "stdout",
          "output_type": "stream",
          "text": [
            "Epoch   9\t iter 1000\t loss 0.5712\n"
          ]
        },
        {
          "name": "stderr",
          "output_type": "stream",
          "text": [
            " 48%|████▊     | 1503/3125.0 [01:23<02:07, 12.71it/s]"
          ]
        },
        {
          "name": "stdout",
          "output_type": "stream",
          "text": [
            "Epoch   9\t iter 1500\t loss 0.9383\n"
          ]
        },
        {
          "name": "stderr",
          "output_type": "stream",
          "text": [
            " 64%|██████▍   | 2003/3125.0 [01:49<01:01, 18.17it/s]"
          ]
        },
        {
          "name": "stdout",
          "output_type": "stream",
          "text": [
            "Epoch   9\t iter 2000\t loss 0.7938\n"
          ]
        },
        {
          "name": "stderr",
          "output_type": "stream",
          "text": [
            " 80%|████████  | 2505/3125.0 [02:17<00:30, 20.28it/s]"
          ]
        },
        {
          "name": "stdout",
          "output_type": "stream",
          "text": [
            "Epoch   9\t iter 2500\t loss 0.6615\n"
          ]
        },
        {
          "name": "stderr",
          "output_type": "stream",
          "text": [
            " 96%|█████████▌| 3005/3125.0 [02:44<00:05, 20.73it/s]"
          ]
        },
        {
          "name": "stdout",
          "output_type": "stream",
          "text": [
            "Epoch   9\t iter 3000\t loss 0.7168\n"
          ]
        },
        {
          "name": "stderr",
          "output_type": "stream",
          "text": [
            "100%|██████████| 3125/3125.0 [02:50<00:00, 18.29it/s]\n"
          ]
        },
        {
          "name": "stdout",
          "output_type": "stream",
          "text": [
            "Epoch   9\t val_acc 0.6593\n"
          ]
        },
        {
          "name": "stderr",
          "output_type": "stream",
          "text": [
            "  0%|          | 4/3125.0 [00:00<03:53, 13.36it/s]"
          ]
        },
        {
          "name": "stdout",
          "output_type": "stream",
          "text": [
            "Epoch  10\t iter   0\t loss 1.064\n"
          ]
        },
        {
          "name": "stderr",
          "output_type": "stream",
          "text": [
            " 16%|█▌        | 503/3125.0 [00:29<02:20, 18.61it/s]"
          ]
        },
        {
          "name": "stdout",
          "output_type": "stream",
          "text": [
            "Epoch  10\t iter 500\t loss 0.3238\n"
          ]
        },
        {
          "name": "stderr",
          "output_type": "stream",
          "text": [
            " 32%|███▏      | 1004/3125.0 [00:57<01:42, 20.74it/s]"
          ]
        },
        {
          "name": "stdout",
          "output_type": "stream",
          "text": [
            "Epoch  10\t iter 1000\t loss 0.9425\n"
          ]
        },
        {
          "name": "stderr",
          "output_type": "stream",
          "text": [
            " 48%|████▊     | 1505/3125.0 [01:25<01:23, 19.36it/s]"
          ]
        },
        {
          "name": "stdout",
          "output_type": "stream",
          "text": [
            "Epoch  10\t iter 1500\t loss 0.8375\n"
          ]
        },
        {
          "name": "stderr",
          "output_type": "stream",
          "text": [
            " 64%|██████▍   | 2002/3125.0 [01:54<01:33, 11.99it/s]"
          ]
        },
        {
          "name": "stdout",
          "output_type": "stream",
          "text": [
            "Epoch  10\t iter 2000\t loss 0.5456\n"
          ]
        },
        {
          "name": "stderr",
          "output_type": "stream",
          "text": [
            " 80%|████████  | 2503/3125.0 [02:21<00:36, 16.98it/s]"
          ]
        },
        {
          "name": "stdout",
          "output_type": "stream",
          "text": [
            "Epoch  10\t iter 2500\t loss 0.5871\n"
          ]
        },
        {
          "name": "stderr",
          "output_type": "stream",
          "text": [
            " 96%|█████████▌| 3003/3125.0 [02:50<00:06, 18.83it/s]"
          ]
        },
        {
          "name": "stdout",
          "output_type": "stream",
          "text": [
            "Epoch  10\t iter 3000\t loss 0.8661\n"
          ]
        },
        {
          "name": "stderr",
          "output_type": "stream",
          "text": [
            "100%|██████████| 3125/3125.0 [02:58<00:00, 17.51it/s]\n"
          ]
        },
        {
          "name": "stdout",
          "output_type": "stream",
          "text": [
            "Epoch  10\t val_acc 0.6573\n"
          ]
        }
      ],
      "source": [
        "epochs = 10\n",
        "epoch_iter = 0\n",
        "#buffer to save losses across training process\n",
        "losses_buffer = []\n",
        "#buffer to save accuracy in val_dataset after every epoch\n",
        "accuracy_buffer = []\n",
        "acc = 0\n",
        "total = len(train_dataset)/32 if len(train_dataset)%32 == 0 else math.floor(len(train_dataset)/32)+1\n",
        "while epoch_iter <= epochs and acc < 0.8:\n",
        "    model.train()\n",
        "    for j, (x, y) in tqdm(enumerate(train_loader), total=total):\n",
        "        optimizer.zero_grad(set_to_none = True)\n",
        "        x = x.cuda(non_blocking = True)\n",
        "        y = y.cuda(non_blocking = True)\n",
        "        y_pred = model(x)\n",
        "        loss = criterion(y_pred, y)\n",
        "        loss.backward()\n",
        "        optimizer.step()\n",
        "        if j%500 == 0:\n",
        "            print(f\"Epoch {epoch_iter:3}\\t iter {j:3}\\t loss {loss:1.4}\")\n",
        "            losses_buffer.append(loss.cpu().detach().numpy())\n",
        "\n",
        "    model.eval()\n",
        "    y_preds = []\n",
        "    y_trues = []\n",
        "    with torch.no_grad():\n",
        "        for j, (x, y) in enumerate(val_loader):\n",
        "            x = x.cuda(non_blocking = True)\n",
        "            y = y.cuda(non_blocking = True)\n",
        "            y_pred = model(x)\n",
        "            y_trues.extend(y.tolist())\n",
        "            y_preds.extend(y_pred.argmax(dim=1).tolist())\n",
        "    acc = accuracy_score(y_true = y_trues, y_pred = y_preds)\n",
        "    accuracy_buffer.append(acc)\n",
        "    print(f\"Epoch {epoch_iter:3}\\t val_acc {acc:1.4}\")\n",
        "\n",
        "    epoch_iter += 1"
      ]
    },
    {
      "cell_type": "code",
      "execution_count": 14,
      "metadata": {
        "colab": {
          "base_uri": "https://localhost:8080/",
          "height": 724
        },
        "id": "QDU0qJNR4STU",
        "outputId": "096e3935-7175-46f9-c527-740e61b00b16"
      },
      "outputs": [
        {
          "data": {
            "image/png": "[encoded data removed]",
            "text/plain": [
              "<Figure size 960x720 with 2 Axes>"
            ]
          },
          "metadata": {},
          "output_type": "display_data"
        }
      ],
      "source": [
        "fig, axs = plt.subplots(2, 1, figsize=[8, 6], dpi = 120)\n",
        "\n",
        "axs[0].plot(np.arange(len(losses_buffer)), losses_buffer, color='red')\n",
        "axs[0].set_xlabel(\"$k$\")\n",
        "axs[0].set_ylabel(\"Loss function\")\n",
        "axs[0].set_title(\"Losses across training process\")\n",
        "axs[0].grid()\n",
        "\n",
        "axs[1].plot(np.arange(len(accuracy_buffer)), accuracy_buffer, color='blue')\n",
        "axs[1].set_xlabel(\"$epoch$\")\n",
        "axs[1].set_ylabel(\"Accuracy\")\n",
        "axs[1].set_title(\"Accuracy after every epoch\")\n",
        "axs[1].grid()\n",
        "\n",
        "fig.tight_layout()\n",
        "plt.show()"
      ]
    },
    {
      "cell_type": "markdown",
      "metadata": {
        "id": "7vsBg5aFURvn"
      },
      "source": [
        "# Save trained model."
      ]
    },
    {
      "cell_type": "code",
      "execution_count": 15,
      "metadata": {
        "colab": {
          "base_uri": "https://localhost:8080/"
        },
        "id": "TpRhTyu3qNHu",
        "outputId": "e886350c-faa1-43d8-99b2-62d713b429a5"
      },
      "outputs": [
        {
          "name": "stdout",
          "output_type": "stream",
          "text": [
            "Mounted at /content/drive\n"
          ]
        }
      ],
      "source": [
        "from google.colab import drive\n",
        "drive.mount('/content/drive')"
      ]
    },
    {
      "cell_type": "code",
      "execution_count": 16,
      "metadata": {
        "id": "zSpOoJoOqOYG"
      },
      "outputs": [],
      "source": [
        "torch.save(model.state_dict(), '/content/drive/MyDrive/model_state_dict.pth')"
      ]
    }
  ],
  "metadata": {
    "accelerator": "GPU",
    "colab": {
      "gpuType": "T4",
      "provenance": []
    },
    "kernelspec": {
      "display_name": "Python 3",
      "name": "python3"
    },
    "language_info": {
      "codemirror_mode": {
        "name": "ipython",
        "version": 3
      },
      "file_extension": ".py",
      "mimetype": "text/x-python",
      "name": "python",
      "nbconvert_exporter": "python",
      "pygments_lexer": "ipython3",
      "version": "3.8.8"
    },
    "widgets": {
      "application/vnd.jupyter.widget-state+json": {
        "05cbf777a0df4d85bc565383bedab4dc": {
          "model_module": "@jupyter-widgets/controls",
          "model_module_version": "1.5.0",
          "model_name": "FloatProgressModel",
          "state": {
            "_dom_classes": [],
            "_model_module": "@jupyter-widgets/controls",
            "_model_module_version": "1.5.0",
            "_model_name": "FloatProgressModel",
            "_view_count": null,
            "_view_module": "@jupyter-widgets/controls",
            "_view_module_version": "1.5.0",
            "_view_name": "ProgressView",
            "bar_style": "success",
            "description": "",
            "description_tooltip": null,
            "layout": "IPY_MODEL_1192ae81766f41b692af214b9b764b31",
            "max": 102469840,
            "min": 0,
            "orientation": "horizontal",
            "style": "IPY_MODEL_fa6328b2eedd4c0b8fe2763e3ca42e67",
            "value": 102469840
          }
        },
        "0ddd76fb2d0540048095916989afd8c2": {
          "model_module": "@jupyter-widgets/controls",
          "model_module_version": "1.5.0",
          "model_name": "HTMLModel",
          "state": {
            "_dom_classes": [],
            "_model_module": "@jupyter-widgets/controls",
            "_model_module_version": "1.5.0",
            "_model_name": "HTMLModel",
            "_view_count": null,
            "_view_module": "@jupyter-widgets/controls",
            "_view_module_version": "1.5.0",
            "_view_name": "HTMLView",
            "description": "",
            "description_tooltip": null,
            "layout": "IPY_MODEL_225823fc7d7e4a56b96d05a429bda2cc",
            "placeholder": "​",
            "style": "IPY_MODEL_b5de49b9c6e94a809e46efd34b357d28",
            "value": "model.safetensors: 100%"
          }
        },
        "1192ae81766f41b692af214b9b764b31": {
          "model_module": "@jupyter-widgets/base",
          "model_module_version": "1.2.0",
          "model_name": "LayoutModel",
          "state": {
            "_model_module": "@jupyter-widgets/base",
            "_model_module_version": "1.2.0",
            "_model_name": "LayoutModel",
            "_view_count": null,
            "_view_module": "@jupyter-widgets/base",
            "_view_module_version": "1.2.0",
            "_view_name": "LayoutView",
            "align_content": null,
            "align_items": null,
            "align_self": null,
            "border": null,
            "bottom": null,
            "display": null,
            "flex": null,
            "flex_flow": null,
            "grid_area": null,
            "grid_auto_columns": null,
            "grid_auto_flow": null,
            "grid_auto_rows": null,
            "grid_column": null,
            "grid_gap": null,
            "grid_row": null,
            "grid_template_areas": null,
            "grid_template_columns": null,
            "grid_template_rows": null,
            "height": null,
            "justify_content": null,
            "justify_items": null,
            "left": null,
            "margin": null,
            "max_height": null,
            "max_width": null,
            "min_height": null,
            "min_width": null,
            "object_fit": null,
            "object_position": null,
            "order": null,
            "overflow": null,
            "overflow_x": null,
            "overflow_y": null,
            "padding": null,
            "right": null,
            "top": null,
            "visibility": null,
            "width": null
          }
        },
        "225823fc7d7e4a56b96d05a429bda2cc": {
          "model_module": "@jupyter-widgets/base",
          "model_module_version": "1.2.0",
          "model_name": "LayoutModel",
          "state": {
            "_model_module": "@jupyter-widgets/base",
            "_model_module_version": "1.2.0",
            "_model_name": "LayoutModel",
            "_view_count": null,
            "_view_module": "@jupyter-widgets/base",
            "_view_module_version": "1.2.0",
            "_view_name": "LayoutView",
            "align_content": null,
            "align_items": null,
            "align_self": null,
            "border": null,
            "bottom": null,
            "display": null,
            "flex": null,
            "flex_flow": null,
            "grid_area": null,
            "grid_auto_columns": null,
            "grid_auto_flow": null,
            "grid_auto_rows": null,
            "grid_column": null,
            "grid_gap": null,
            "grid_row": null,
            "grid_template_areas": null,
            "grid_template_columns": null,
            "grid_template_rows": null,
            "height": null,
            "justify_content": null,
            "justify_items": null,
            "left": null,
            "margin": null,
            "max_height": null,
            "max_width": null,
            "min_height": null,
            "min_width": null,
            "object_fit": null,
            "object_position": null,
            "order": null,
            "overflow": null,
            "overflow_x": null,
            "overflow_y": null,
            "padding": null,
            "right": null,
            "top": null,
            "visibility": null,
            "width": null
          }
        },
        "2379aee6fa884a3993e66a9592c1ba72": {
          "model_module": "@jupyter-widgets/base",
          "model_module_version": "1.2.0",
          "model_name": "LayoutModel",
          "state": {
            "_model_module": "@jupyter-widgets/base",
            "_model_module_version": "1.2.0",
            "_model_name": "LayoutModel",
            "_view_count": null,
            "_view_module": "@jupyter-widgets/base",
            "_view_module_version": "1.2.0",
            "_view_name": "LayoutView",
            "align_content": null,
            "align_items": null,
            "align_self": null,
            "border": null,
            "bottom": null,
            "display": null,
            "flex": null,
            "flex_flow": null,
            "grid_area": null,
            "grid_auto_columns": null,
            "grid_auto_flow": null,
            "grid_auto_rows": null,
            "grid_column": null,
            "grid_gap": null,
            "grid_row": null,
            "grid_template_areas": null,
            "grid_template_columns": null,
            "grid_template_rows": null,
            "height": null,
            "justify_content": null,
            "justify_items": null,
            "left": null,
            "margin": null,
            "max_height": null,
            "max_width": null,
            "min_height": null,
            "min_width": null,
            "object_fit": null,
            "object_position": null,
            "order": null,
            "overflow": null,
            "overflow_x": null,
            "overflow_y": null,
            "padding": null,
            "right": null,
            "top": null,
            "visibility": null,
            "width": null
          }
        },
        "313ff21d7d2c493aabd5ae5c2e418e23": {
          "model_module": "@jupyter-widgets/controls",
          "model_module_version": "1.5.0",
          "model_name": "HTMLModel",
          "state": {
            "_dom_classes": [],
            "_model_module": "@jupyter-widgets/controls",
            "_model_module_version": "1.5.0",
            "_model_name": "HTMLModel",
            "_view_count": null,
            "_view_module": "@jupyter-widgets/controls",
            "_view_module_version": "1.5.0",
            "_view_name": "HTMLView",
            "description": "",
            "description_tooltip": null,
            "layout": "IPY_MODEL_bfee3bafd79c45fc8088ac36273d638c",
            "placeholder": "​",
            "style": "IPY_MODEL_aa7cc8debd7c44329a714d7b7e228768",
            "value": " 102M/102M [00:00&lt;00:00, 196MB/s]"
          }
        },
        "6c18d4b7d93d4437bd98f824d48e80b9": {
          "model_module": "@jupyter-widgets/controls",
          "model_module_version": "1.5.0",
          "model_name": "HBoxModel",
          "state": {
            "_dom_classes": [],
            "_model_module": "@jupyter-widgets/controls",
            "_model_module_version": "1.5.0",
            "_model_name": "HBoxModel",
            "_view_count": null,
            "_view_module": "@jupyter-widgets/controls",
            "_view_module_version": "1.5.0",
            "_view_name": "HBoxView",
            "box_style": "",
            "children": [
              "IPY_MODEL_0ddd76fb2d0540048095916989afd8c2",
              "IPY_MODEL_05cbf777a0df4d85bc565383bedab4dc",
              "IPY_MODEL_313ff21d7d2c493aabd5ae5c2e418e23"
            ],
            "layout": "IPY_MODEL_2379aee6fa884a3993e66a9592c1ba72"
          }
        },
        "aa7cc8debd7c44329a714d7b7e228768": {
          "model_module": "@jupyter-widgets/controls",
          "model_module_version": "1.5.0",
          "model_name": "DescriptionStyleModel",
          "state": {
            "_model_module": "@jupyter-widgets/controls",
            "_model_module_version": "1.5.0",
            "_model_name": "DescriptionStyleModel",
            "_view_count": null,
            "_view_module": "@jupyter-widgets/base",
            "_view_module_version": "1.2.0",
            "_view_name": "StyleView",
            "description_width": ""
          }
        },
        "b5de49b9c6e94a809e46efd34b357d28": {
          "model_module": "@jupyter-widgets/controls",
          "model_module_version": "1.5.0",
          "model_name": "DescriptionStyleModel",
          "state": {
            "_model_module": "@jupyter-widgets/controls",
            "_model_module_version": "1.5.0",
            "_model_name": "DescriptionStyleModel",
            "_view_count": null,
            "_view_module": "@jupyter-widgets/base",
            "_view_module_version": "1.2.0",
            "_view_name": "StyleView",
            "description_width": ""
          }
        },
        "bfee3bafd79c45fc8088ac36273d638c": {
          "model_module": "@jupyter-widgets/base",
          "model_module_version": "1.2.0",
          "model_name": "LayoutModel",
          "state": {
            "_model_module": "@jupyter-widgets/base",
            "_model_module_version": "1.2.0",
            "_model_name": "LayoutModel",
            "_view_count": null,
            "_view_module": "@jupyter-widgets/base",
            "_view_module_version": "1.2.0",
            "_view_name": "LayoutView",
            "align_content": null,
            "align_items": null,
            "align_self": null,
            "border": null,
            "bottom": null,
            "display": null,
            "flex": null,
            "flex_flow": null,
            "grid_area": null,
            "grid_auto_columns": null,
            "grid_auto_flow": null,
            "grid_auto_rows": null,
            "grid_column": null,
            "grid_gap": null,
            "grid_row": null,
            "grid_template_areas": null,
            "grid_template_columns": null,
            "grid_template_rows": null,
            "height": null,
            "justify_content": null,
            "justify_items": null,
            "left": null,
            "margin": null,
            "max_height": null,
            "max_width": null,
            "min_height": null,
            "min_width": null,
            "object_fit": null,
            "object_position": null,
            "order": null,
            "overflow": null,
            "overflow_x": null,
            "overflow_y": null,
            "padding": null,
            "right": null,
            "top": null,
            "visibility": null,
            "width": null
          }
        },
        "fa6328b2eedd4c0b8fe2763e3ca42e67": {
          "model_module": "@jupyter-widgets/controls",
          "model_module_version": "1.5.0",
          "model_name": "ProgressStyleModel",
          "state": {
            "_model_module": "@jupyter-widgets/controls",
            "_model_module_version": "1.5.0",
            "_model_name": "ProgressStyleModel",
            "_view_count": null,
            "_view_module": "@jupyter-widgets/base",
            "_view_module_version": "1.2.0",
            "_view_name": "StyleView",
            "bar_color": null,
            "description_width": ""
          }
        }
      }
    }
  },
  "nbformat": 4,
  "nbformat_minor": 0
}
