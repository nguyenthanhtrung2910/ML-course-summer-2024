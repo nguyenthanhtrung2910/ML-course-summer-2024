{
  "cells": [
    {
      "cell_type": "markdown",
      "metadata": {
        "id": "wxiV4QtjzGWX"
      },
      "source": [
        "# Seminar 2. Введение в pytorch"
      ]
    },
    {
      "cell_type": "markdown",
      "metadata": {
        "id": "kN12HfjKEN0r"
      },
      "source": [
        "<img src=\"https://github.com/karfly/learning-deep-learning/raw/master/01_intro/static/pytorch-vs-numpy-logo.png\" align=\"center\"/>"
      ]
    },
    {
      "cell_type": "markdown",
      "metadata": {
        "id": "o5UspNoIEN0t"
      },
      "source": [
        "References:\n",
        "- [PyTorch tutorial by Jeremy Howard](https://pytorch.org/tutorials/beginner/nn_tutorial.html)"
      ]
    },
    {
      "cell_type": "markdown",
      "metadata": {
        "id": "zDUvmqlzEN0v"
      },
      "source": [
        "# PyTorch vs. NumPy"
      ]
    },
    {
      "cell_type": "markdown",
      "metadata": {
        "id": "tQv2qhSmEN0y"
      },
      "source": [
        "Библиотеки NumPy и PyTorch обе предоставляют функционал для научных вычислений (поддерживают многомерные массивы и высокопроизводительные матричные операции).\n",
        "\n",
        "Однако для работы с нейронными сетями PyTorch гораздо лучше подходит, так как обладает двумя преимуществами:\n",
        " - pytorch имеет встроенный модуль для автоматического дифференцирования (autograd)\n",
        " - pytorch имеет поддержку вычислений на GPU.\n"
      ]
    },
    {
      "cell_type": "code",
      "execution_count": 1,
      "metadata": {
        "colab": {
          "base_uri": "https://localhost:8080/"
        },
        "id": "HDDNj_ZBLTPD",
        "outputId": "dede7034-a846-458d-c17d-85a4b1853d18"
      },
      "outputs": [
        {
          "output_type": "stream",
          "name": "stdout",
          "text": [
            "Thu Aug 15 06:37:08 2024       \n",
            "+---------------------------------------------------------------------------------------+\n",
            "| NVIDIA-SMI 535.104.05             Driver Version: 535.104.05   CUDA Version: 12.2     |\n",
            "|-----------------------------------------+----------------------+----------------------+\n",
            "| GPU  Name                 Persistence-M | Bus-Id        Disp.A | Volatile Uncorr. ECC |\n",
            "| Fan  Temp   Perf          Pwr:Usage/Cap |         Memory-Usage | GPU-Util  Compute M. |\n",
            "|                                         |                      |               MIG M. |\n",
            "|=========================================+======================+======================|\n",
            "|   0  Tesla T4                       Off | 00000000:00:04.0 Off |                    0 |\n",
            "| N/A   52C    P8              10W /  70W |      0MiB / 15360MiB |      0%      Default |\n",
            "|                                         |                      |                  N/A |\n",
            "+-----------------------------------------+----------------------+----------------------+\n",
            "                                                                                         \n",
            "+---------------------------------------------------------------------------------------+\n",
            "| Processes:                                                                            |\n",
            "|  GPU   GI   CI        PID   Type   Process name                            GPU Memory |\n",
            "|        ID   ID                                                             Usage      |\n",
            "|=======================================================================================|\n",
            "|  No running processes found                                                           |\n",
            "+---------------------------------------------------------------------------------------+\n"
          ]
        }
      ],
      "source": [
        "!nvidia-smi"
      ]
    },
    {
      "cell_type": "markdown",
      "metadata": {
        "id": "fC2iYMtQEN00"
      },
      "source": [
        "## Установка\n",
        "\n",
        " - Option 1: ```pip install torch```\n",
        " - Option 2.1: ```conda install pytorch torchvision torchaudio cudatoolkit=12.0 -c pytorch``` (для версии с ГПУ)\n",
        " - Option 2.2: ```conda install pytorch torchvision torchaudio cpuonly -c pytorch``` (для ЦПУ)\n",
        " - Option 3: самостоятельная компиляция из исходного кода (```https://github.com/pytorch/pytorch#from-source ```)"
      ]
    },
    {
      "cell_type": "markdown",
      "metadata": {
        "id": "cKJqWEQ7EN09"
      },
      "source": [
        "# Начало работы"
      ]
    },
    {
      "cell_type": "code",
      "execution_count": 2,
      "metadata": {
        "colab": {
          "base_uri": "https://localhost:8080/"
        },
        "id": "cmvSp9N2EN0-",
        "outputId": "ddb46cfd-244b-40d3-81bb-3354d0ca4a97"
      },
      "outputs": [
        {
          "output_type": "stream",
          "name": "stdout",
          "text": [
            "torch version: 2.3.1+cu121\n",
            "torchvision version: 0.18.1+cu121\n"
          ]
        }
      ],
      "source": [
        "import torch\n",
        "import torchvision\n",
        "\n",
        "print(\"torch version:\", torch.__version__)\n",
        "print(\"torchvision version:\", torchvision.__version__)"
      ]
    },
    {
      "cell_type": "code",
      "execution_count": 3,
      "metadata": {
        "colab": {
          "base_uri": "https://localhost:8080/"
        },
        "id": "C_6ZU3iXEN1J",
        "outputId": "c73ba767-8933-40ab-c064-6713d0f886e4"
      },
      "outputs": [
        {
          "output_type": "stream",
          "name": "stdout",
          "text": [
            "numpy version: 1.26.4\n"
          ]
        }
      ],
      "source": [
        "import numpy as np\n",
        "print(\"numpy version:\", np.__version__)"
      ]
    },
    {
      "cell_type": "markdown",
      "metadata": {
        "id": "kzWtJHl-EN1P"
      },
      "source": [
        "## Базовые операции в pytorch"
      ]
    },
    {
      "cell_type": "markdown",
      "metadata": {
        "id": "LYOMuUo1EN1S"
      },
      "source": [
        "### Создание массивов"
      ]
    },
    {
      "cell_type": "markdown",
      "metadata": {
        "id": "_EuABh-dEN1S"
      },
      "source": [
        "NumPy:"
      ]
    },
    {
      "cell_type": "code",
      "execution_count": 4,
      "metadata": {
        "colab": {
          "base_uri": "https://localhost:8080/"
        },
        "id": "uYcsH_B0EN1U",
        "outputId": "c144cec6-1844-4e00-b034-cacc0ed9e904",
        "scrolled": false
      },
      "outputs": [
        {
          "output_type": "stream",
          "name": "stdout",
          "text": [
            "x_numpy = \n",
            "[[1. 2. 3.]\n",
            " [4. 5. 6.]\n",
            " [7. 8. 9.]]\n",
            "\n"
          ]
        }
      ],
      "source": [
        "x_numpy = np.array(\n",
        "    [\n",
        "        [1.0, 2.0, 3.0],\n",
        "        [4.0, 5.0, 6.0],\n",
        "        [7.0, 8.0, 9.0]\n",
        "    ]\n",
        ")\n",
        "\n",
        "print(\"x_numpy = \\n{}\\n\".format(x_numpy))"
      ]
    },
    {
      "cell_type": "code",
      "execution_count": 6,
      "metadata": {
        "colab": {
          "base_uri": "https://localhost:8080/"
        },
        "id": "q4qzZ1zNMYl2",
        "outputId": "f13dc532-6edf-469f-a2d1-599419b83608"
      },
      "outputs": [
        {
          "output_type": "execute_result",
          "data": {
            "text/plain": [
              "(numpy.ndarray, dtype('float64'))"
            ]
          },
          "metadata": {},
          "execution_count": 6
        }
      ],
      "source": [
        "type(x_numpy), x_numpy.dtype"
      ]
    },
    {
      "cell_type": "markdown",
      "metadata": {
        "id": "keDdQ9uuEN1a"
      },
      "source": [
        "PyTorch:"
      ]
    },
    {
      "cell_type": "code",
      "execution_count": 7,
      "metadata": {
        "colab": {
          "base_uri": "https://localhost:8080/"
        },
        "id": "VwT8bOqhEN1b",
        "outputId": "c7d2ce77-4379-4f10-8db9-133a7b524b8b"
      },
      "outputs": [
        {
          "output_type": "stream",
          "name": "stdout",
          "text": [
            "x_torch = \n",
            "tensor([[1., 2., 3.],\n",
            "        [4., 5., 6.],\n",
            "        [7., 8., 9.]])\n",
            "\n"
          ]
        }
      ],
      "source": [
        "x_torch = torch.tensor(\n",
        "    [\n",
        "        [1.0, 2.0, 3.0],\n",
        "        [4.0, 5.0, 6.0],\n",
        "        [7.0, 8.0, 9.0]\n",
        "    ]\n",
        ")\n",
        "\n",
        "print(\"x_torch = \\n{}\\n\".format(x_torch))"
      ]
    },
    {
      "cell_type": "code",
      "source": [
        "x_torch + x_numpy"
      ],
      "metadata": {
        "colab": {
          "base_uri": "https://localhost:8080/"
        },
        "id": "rrOJN4GhyMC4",
        "outputId": "984907b1-5993-4100-8126-400ba587c93d"
      },
      "execution_count": 8,
      "outputs": [
        {
          "output_type": "execute_result",
          "data": {
            "text/plain": [
              "tensor([[ 2.,  4.,  6.],\n",
              "        [ 8., 10., 12.],\n",
              "        [14., 16., 18.]], dtype=torch.float64)"
            ]
          },
          "metadata": {},
          "execution_count": 8
        }
      ]
    },
    {
      "cell_type": "code",
      "execution_count": 9,
      "metadata": {
        "colab": {
          "base_uri": "https://localhost:8080/"
        },
        "id": "kXjeCOJyMjsW",
        "outputId": "5184accf-4e0a-4834-ab25-75c26f52864e"
      },
      "outputs": [
        {
          "output_type": "execute_result",
          "data": {
            "text/plain": [
              "(numpy.ndarray, torch.Tensor)"
            ]
          },
          "metadata": {},
          "execution_count": 9
        }
      ],
      "source": [
        "type(x_torch.numpy()), type(x_torch)"
      ]
    },
    {
      "cell_type": "code",
      "source": [
        "x_torch.dtype"
      ],
      "metadata": {
        "colab": {
          "base_uri": "https://localhost:8080/"
        },
        "id": "StF9lbtjyeq9",
        "outputId": "0bcd1418-7b81-44ef-fb7a-de6bda057bd9"
      },
      "execution_count": 10,
      "outputs": [
        {
          "output_type": "execute_result",
          "data": {
            "text/plain": [
              "torch.float32"
            ]
          },
          "metadata": {},
          "execution_count": 10
        }
      ]
    },
    {
      "cell_type": "code",
      "source": [
        "x_torch_double = torch.tensor(\n",
        "    [\n",
        "        [1.0, 2.0, 3.0],\n",
        "        [4.0, 5.0, 6.0],\n",
        "        [7.0, 8.0, 9.0]\n",
        "    ], dtype=torch.float64\n",
        ")"
      ],
      "metadata": {
        "id": "savqDEwdy9PS"
      },
      "execution_count": 11,
      "outputs": []
    },
    {
      "cell_type": "code",
      "source": [
        "x_torch_double"
      ],
      "metadata": {
        "colab": {
          "base_uri": "https://localhost:8080/"
        },
        "id": "RkSq1s_6zHKQ",
        "outputId": "fb370b8e-4cdc-40eb-becd-94377dc1b0de"
      },
      "execution_count": 12,
      "outputs": [
        {
          "output_type": "execute_result",
          "data": {
            "text/plain": [
              "tensor([[1., 2., 3.],\n",
              "        [4., 5., 6.],\n",
              "        [7., 8., 9.]], dtype=torch.float64)"
            ]
          },
          "metadata": {},
          "execution_count": 12
        }
      ]
    },
    {
      "cell_type": "markdown",
      "metadata": {
        "id": "0uweboz3EN1e"
      },
      "source": [
        "### Индексация"
      ]
    },
    {
      "cell_type": "markdown",
      "metadata": {
        "id": "8mbQQ3Y8EN1f"
      },
      "source": [
        "NumPy:"
      ]
    },
    {
      "cell_type": "code",
      "execution_count": 13,
      "metadata": {
        "colab": {
          "base_uri": "https://localhost:8080/"
        },
        "id": "_us7LQadEN1g",
        "outputId": "d9cbbe7d-33b4-4dba-d3d2-eaee3c8c7fab"
      },
      "outputs": [
        {
          "output_type": "stream",
          "name": "stdout",
          "text": [
            "x_numpy[0, 0] = \n",
            "1.0\n",
            "\n",
            "x_numpy[:, 0] = \n",
            "[1. 4. 7.]\n",
            "\n",
            "x_numpy[:2, 1:3] = \n",
            "[[2. 3.]\n",
            " [5. 6.]]\n",
            "\n"
          ]
        }
      ],
      "source": [
        "print(\"x_numpy[0, 0] = \\n{}\\n\".format(x_numpy[0][0]))\n",
        "print(\"x_numpy[:, 0] = \\n{}\\n\".format(x_numpy[:, 0]))\n",
        "print(\"x_numpy[:2, 1:3] = \\n{}\\n\".format(x_numpy[:2, 1:3]))"
      ]
    },
    {
      "cell_type": "markdown",
      "metadata": {
        "id": "EGD_eVTlEN1i"
      },
      "source": [
        "PyTorch:"
      ]
    },
    {
      "cell_type": "code",
      "execution_count": 14,
      "metadata": {
        "colab": {
          "base_uri": "https://localhost:8080/"
        },
        "id": "Nrf5UxdDEN1j",
        "outputId": "9b163cda-84f7-49ea-ee20-6b2fc06ab044"
      },
      "outputs": [
        {
          "output_type": "stream",
          "name": "stdout",
          "text": [
            "x_torch[0, 0] = \n",
            "1.0\n",
            "\n",
            "x_torch[:, 0] = \n",
            "tensor([1., 4., 7.])\n",
            "\n",
            "x_torch[:2, 1:3] = \n",
            "tensor([[2., 3.],\n",
            "        [5., 6.]])\n",
            "\n"
          ]
        }
      ],
      "source": [
        "print(\"x_torch[0, 0] = \\n{}\\n\".format(x_torch[0, 0]))\n",
        "print(\"x_torch[:, 0] = \\n{}\\n\".format(x_torch[:, 0]))\n",
        "print(\"x_torch[:2, 1:3] = \\n{}\\n\".format(x_torch[:2, 1:3]))"
      ]
    },
    {
      "cell_type": "markdown",
      "metadata": {
        "id": "1Wwoj2bfEN1n"
      },
      "source": [
        "### Математические операции"
      ]
    },
    {
      "cell_type": "code",
      "source": [
        "x_numpy"
      ],
      "metadata": {
        "colab": {
          "base_uri": "https://localhost:8080/"
        },
        "id": "_NL-4LN20gtI",
        "outputId": "32a0b3d5-eb34-4673-f683-f64cba4635df"
      },
      "execution_count": 16,
      "outputs": [
        {
          "output_type": "execute_result",
          "data": {
            "text/plain": [
              "array([[1., 2., 3.],\n",
              "       [4., 5., 6.],\n",
              "       [7., 8., 9.]])"
            ]
          },
          "metadata": {},
          "execution_count": 16
        }
      ]
    },
    {
      "cell_type": "code",
      "source": [
        "x_numpy.mean()"
      ],
      "metadata": {
        "colab": {
          "base_uri": "https://localhost:8080/"
        },
        "id": "0Y_K9rU70j6q",
        "outputId": "f981b85d-5e1e-4647-b63a-182e72330125"
      },
      "execution_count": 17,
      "outputs": [
        {
          "output_type": "execute_result",
          "data": {
            "text/plain": [
              "5.0"
            ]
          },
          "metadata": {},
          "execution_count": 17
        }
      ]
    },
    {
      "cell_type": "code",
      "source": [
        "x_numpy.mean(axis=1)"
      ],
      "metadata": {
        "colab": {
          "base_uri": "https://localhost:8080/"
        },
        "id": "nx-lKzJP0qtU",
        "outputId": "13fdc06e-9e96-4a42-d072-2763699fb703"
      },
      "execution_count": 19,
      "outputs": [
        {
          "output_type": "execute_result",
          "data": {
            "text/plain": [
              "array([2., 5., 8.])"
            ]
          },
          "metadata": {},
          "execution_count": 19
        }
      ]
    },
    {
      "cell_type": "markdown",
      "metadata": {
        "id": "VZAoYz9QEN1n"
      },
      "source": [
        "NumPy:"
      ]
    },
    {
      "cell_type": "code",
      "execution_count": 20,
      "metadata": {
        "colab": {
          "base_uri": "https://localhost:8080/"
        },
        "id": "n7Tqkx0yEN1o",
        "outputId": "b4b8883a-682a-4743-c89c-44a37169bfbb"
      },
      "outputs": [
        {
          "output_type": "stream",
          "name": "stdout",
          "text": [
            "x_numpy ** 2 = \n",
            "[[ 1.  4.  9.]\n",
            " [16. 25. 36.]\n",
            " [49. 64. 81.]]\n",
            "\n",
            "np.cos(x_numpy) = \n",
            "[[ 0.54030231 -0.41614684 -0.9899925 ]\n",
            " [-0.65364362  0.28366219  0.96017029]\n",
            " [ 0.75390225 -0.14550003 -0.91113026]]\n",
            "\n",
            "x_numpy.mean(axis=0) = \n",
            "[4. 5. 6.]\n",
            "\n",
            "x_numpy.T = \n",
            "[[1. 4. 7.]\n",
            " [2. 5. 8.]\n",
            " [3. 6. 9.]]\n",
            "\n",
            "x_numpy.reshape(1, -1) = \n",
            "[[1. 2. 3. 4. 5. 6. 7. 8. 9.]]\n",
            "\n",
            "x_numpy.flatten() = \n",
            "[1. 2. 3. 4. 5. 6. 7. 8. 9.]\n",
            "\n"
          ]
        }
      ],
      "source": [
        "print(\"x_numpy ** 2 = \\n{}\\n\".format(x_numpy ** 2)) # или np.square\n",
        "print(\"np.cos(x_numpy) = \\n{}\\n\".format(np.cos(x_numpy)))\n",
        "print(\"x_numpy.mean(axis=0) = \\n{}\\n\".format(x_numpy.mean(axis=0)))\n",
        "print(\"x_numpy.T = \\n{}\\n\".format(x_numpy.T))\n",
        "print(\"x_numpy.reshape(1, -1) = \\n{}\\n\".format(x_numpy.reshape(1, -1)))\n",
        "print(\"x_numpy.flatten() = \\n{}\\n\".format(x_numpy.flatten()))"
      ]
    },
    {
      "cell_type": "markdown",
      "metadata": {
        "id": "L3GiVyzqEN1r"
      },
      "source": [
        "PyTorch:"
      ]
    },
    {
      "cell_type": "code",
      "execution_count": 21,
      "metadata": {
        "colab": {
          "base_uri": "https://localhost:8080/"
        },
        "id": "CCZVGSkGEN1s",
        "outputId": "171bbdf4-0d92-4bd3-f248-25ceb96a1cbc"
      },
      "outputs": [
        {
          "output_type": "stream",
          "name": "stdout",
          "text": [
            "x_torch ** 2 = \n",
            "tensor([[ 1.,  4.,  9.],\n",
            "        [16., 25., 36.],\n",
            "        [49., 64., 81.]])\n",
            "\n",
            "np.cos(x_torch) = \n",
            "tensor([[ 0.5403, -0.4161, -0.9900],\n",
            "        [-0.6536,  0.2837,  0.9602],\n",
            "        [ 0.7539, -0.1455, -0.9111]])\n",
            "\n",
            "x_torch.mean(dim=0) = \n",
            "tensor([4., 5., 6.])\n",
            "\n",
            "x_torch.t() = \n",
            "tensor([[1., 4., 7.],\n",
            "        [2., 5., 8.],\n",
            "        [3., 6., 9.]])\n",
            "\n",
            "x_torch.reshape(1, -1) = \n",
            "tensor([[1., 2., 3., 4., 5., 6., 7., 8., 9.]])\n",
            "\n",
            "x_torch.flatten() = \n",
            "tensor([1., 2., 3., 4., 5., 6., 7., 8., 9.])\n",
            "\n"
          ]
        }
      ],
      "source": [
        "print(\"x_torch ** 2 = \\n{}\\n\".format(x_torch ** 2))\n",
        "print(\"np.cos(x_torch) = \\n{}\\n\".format(torch.cos(x_torch)))\n",
        "print(\"x_torch.mean(dim=0) = \\n{}\\n\".format(x_torch.mean(dim=0)))\n",
        "print(\"x_torch.t() = \\n{}\\n\".format(x_torch.t()))\n",
        "print(\"x_torch.reshape(1, -1) = \\n{}\\n\".format(x_torch.reshape(1, -1)))\n",
        "print(\"x_torch.flatten() = \\n{}\\n\".format(x_torch.flatten()))"
      ]
    },
    {
      "cell_type": "markdown",
      "metadata": {
        "id": "uQQP4MHXEN1v"
      },
      "source": [
        "### Разные массивы"
      ]
    },
    {
      "cell_type": "markdown",
      "metadata": {
        "id": "DPJIJe70EN1v"
      },
      "source": [
        "NumPy:"
      ]
    },
    {
      "cell_type": "code",
      "source": [],
      "metadata": {
        "colab": {
          "base_uri": "https://localhost:8080/"
        },
        "id": "BvdXkR8_2WQD",
        "outputId": "1cd4d3f0-975b-4b41-df4a-205ec7af9667"
      },
      "execution_count": 22,
      "outputs": [
        {
          "output_type": "stream",
          "name": "stdout",
          "text": [
            "np.arange(3) = \n",
            "[0 1 2]\n",
            "\n"
          ]
        }
      ]
    },
    {
      "cell_type": "code",
      "execution_count": 23,
      "metadata": {
        "colab": {
          "base_uri": "https://localhost:8080/"
        },
        "id": "pgAqkIwAEN1w",
        "outputId": "c067d50d-6756-48a2-ab32-aa3e88f40c15"
      },
      "outputs": [
        {
          "output_type": "stream",
          "name": "stdout",
          "text": [
            "np.arange(3) = \n",
            "[0 1 2]\n",
            "\n",
            "np.linspace(0.0, 1.0, num=9).reshape(3, 3) = \n",
            "[[0.    0.125 0.25 ]\n",
            " [0.375 0.5   0.625]\n",
            " [0.75  0.875 1.   ]]\n",
            "\n",
            "np.ones() = \n",
            "[[1. 1. 1. 1. 1.]\n",
            " [1. 1. 1. 1. 1.]]\n",
            "\n",
            "np.random.rand(3, 2) = \n",
            "[[0.72516761 0.86694189]\n",
            " [0.39353444 0.64929623]\n",
            " [0.93456775 0.20887369]]\n",
            "\n",
            "np.random.randn(3, 2) = \n",
            "[[-0.05015224 -0.62605982]\n",
            " [ 0.98833231 -0.08792362]\n",
            " [ 0.12641281  1.8127339 ]]\n",
            "\n"
          ]
        }
      ],
      "source": [
        "print(\"np.arange(3) = \\n{}\\n\".format(np.arange(3)))\n",
        "print(\"np.linspace(0.0, 1.0, num=9).reshape(3, 3) = \\n{}\\n\".format(np.linspace(0.0, 1.0, num=9).reshape(3, 3)))\n",
        "print(\"np.ones() = \\n{}\\n\".format(np.ones((2, 5))))\n",
        "print(\"np.random.rand(3, 2) = \\n{}\\n\".format(np.random.rand(3, 2)))\n",
        "print(\"np.random.randn(3, 2) = \\n{}\\n\".format(np.random.randn(3, 2)))"
      ]
    },
    {
      "cell_type": "markdown",
      "metadata": {
        "id": "PZIqJqoKEN1y"
      },
      "source": [
        "PyTorch:"
      ]
    },
    {
      "cell_type": "code",
      "execution_count": 24,
      "metadata": {
        "colab": {
          "base_uri": "https://localhost:8080/"
        },
        "id": "OBTpQ2wtEN1z",
        "outputId": "7edd9c77-bb08-474c-b8a5-83c1d8cecd8a"
      },
      "outputs": [
        {
          "output_type": "stream",
          "name": "stdout",
          "text": [
            "torch.arange(3) = \n",
            "tensor([0, 1, 2])\n",
            "\n",
            "torch.linspace(0.0, 1.0, steps=9).reshape(3, 3) = \n",
            "tensor([[0.0000, 0.1250, 0.2500],\n",
            "        [0.3750, 0.5000, 0.6250],\n",
            "        [0.7500, 0.8750, 1.0000]])\n",
            "\n",
            "torch.ones() = \n",
            "tensor([[1., 1., 1., 1., 1.],\n",
            "        [1., 1., 1., 1., 1.]])\n",
            "\n",
            "torch.rand(3, 2) = \n",
            "tensor([[0.6206, 0.5758],\n",
            "        [0.9390, 0.8784],\n",
            "        [0.7937, 0.9858]])\n",
            "\n",
            "torch.randn(3, 2) = \n",
            "tensor([[ 0.0322,  0.2803],\n",
            "        [-1.3109,  0.8286],\n",
            "        [ 0.4820, -0.3697]])\n",
            "\n"
          ]
        }
      ],
      "source": [
        "print(\"torch.arange(3) = \\n{}\\n\".format(torch.arange(3)))\n",
        "print(\"torch.linspace(0.0, 1.0, steps=9).reshape(3, 3) = \\n{}\\n\".format(torch.linspace(0.0, 1.0, steps=9).reshape(3, 3)))\n",
        "print(\"torch.ones() = \\n{}\\n\".format(torch.ones((2, 5))))\n",
        "print(\"torch.rand(3, 2) = \\n{}\\n\".format(torch.rand(3, 2)))\n",
        "print(\"torch.randn(3, 2) = \\n{}\\n\".format(torch.randn(3, 2)))"
      ]
    },
    {
      "cell_type": "markdown",
      "metadata": {
        "id": "fY4gNOx3EN13"
      },
      "source": [
        "### 2 arrays/tensors"
      ]
    },
    {
      "cell_type": "markdown",
      "metadata": {
        "id": "GK6EUMZtEN13"
      },
      "source": [
        "NumPy:"
      ]
    },
    {
      "cell_type": "code",
      "execution_count": 25,
      "metadata": {
        "colab": {
          "base_uri": "https://localhost:8080/"
        },
        "id": "cYMnjrpIEN14",
        "outputId": "bdf2d804-17d9-42b2-d6bf-6501f81220a5"
      },
      "outputs": [
        {
          "output_type": "stream",
          "name": "stdout",
          "text": [
            "x = \n",
            "[[0 1 2]\n",
            " [3 4 5]\n",
            " [6 7 8]]\n",
            "\n",
            "y = \n",
            "[[0.    0.125 0.25 ]\n",
            " [0.375 0.5   0.625]\n",
            " [0.75  0.875 1.   ]]\n",
            "\n",
            "x * y = \n",
            "[[0.    0.125 0.5  ]\n",
            " [1.125 2.    3.125]\n",
            " [4.5   6.125 8.   ]]\n",
            "\n",
            "x.dot(y) = \n",
            "[[ 1.875  2.25   2.625]\n",
            " [ 5.25   6.75   8.25 ]\n",
            " [ 8.625 11.25  13.875]]\n",
            "\n",
            "np.concatenate([x, y], axis=1) = \n",
            "[[0.    1.    2.   ]\n",
            " [3.    4.    5.   ]\n",
            " [6.    7.    8.   ]\n",
            " [0.    0.125 0.25 ]\n",
            " [0.375 0.5   0.625]\n",
            " [0.75  0.875 1.   ]]\n",
            "\n"
          ]
        }
      ],
      "source": [
        "x_numpy = np.arange(0, 9).reshape(3, 3)\n",
        "y_numpy = np.linspace(0.0, 1.0, num=9).reshape(3, 3)\n",
        "\n",
        "print(\"x = \\n{}\\n\".format(x_numpy))\n",
        "print(\"y = \\n{}\\n\".format(y_numpy))\n",
        "print(\"x * y = \\n{}\\n\".format(x_numpy * y_numpy))\n",
        "print(\"x.dot(y) = \\n{}\\n\".format(x_numpy@(y_numpy)))\n",
        "print(\"np.concatenate([x, y], axis=1) = \\n{}\\n\".format(np.concatenate([x_numpy, y_numpy], axis=0)))"
      ]
    },
    {
      "cell_type": "markdown",
      "metadata": {
        "id": "amWUZPdwEN16"
      },
      "source": [
        "PyTorch:"
      ]
    },
    {
      "cell_type": "code",
      "execution_count": 27,
      "metadata": {
        "colab": {
          "base_uri": "https://localhost:8080/"
        },
        "id": "YRsm1knzEN17",
        "outputId": "330e0720-efb3-4bf3-fdd3-1559975bf72e"
      },
      "outputs": [
        {
          "output_type": "stream",
          "name": "stdout",
          "text": [
            "x = \n",
            "tensor([[0., 1., 2.],\n",
            "        [3., 4., 5.],\n",
            "        [6., 7., 8.]])\n",
            "\n",
            "y = \n",
            "tensor([[0.0000, 0.1250, 0.2500],\n",
            "        [0.3750, 0.5000, 0.6250],\n",
            "        [0.7500, 0.8750, 1.0000]])\n",
            "\n",
            "x * y = \n",
            "tensor([[0.0000, 0.1250, 0.5000],\n",
            "        [1.1250, 2.0000, 3.1250],\n",
            "        [4.5000, 6.1250, 8.0000]])\n",
            "\n",
            "x.mm(y) = \n",
            "tensor([[ 1.8750,  2.2500,  2.6250],\n",
            "        [ 5.2500,  6.7500,  8.2500],\n",
            "        [ 8.6250, 11.2500, 13.8750]])\n",
            "\n",
            "torch.cat([x, y], dim=1) = \n",
            "tensor([[0.0000, 1.0000, 2.0000],\n",
            "        [3.0000, 4.0000, 5.0000],\n",
            "        [6.0000, 7.0000, 8.0000],\n",
            "        [0.0000, 0.1250, 0.2500],\n",
            "        [0.3750, 0.5000, 0.6250],\n",
            "        [0.7500, 0.8750, 1.0000]])\n",
            "\n"
          ]
        }
      ],
      "source": [
        "x_torch = torch.arange(0, 9).reshape(3, 3).type(torch.float)\n",
        "y_torch = torch.linspace(0.0, 1.0, steps=9).reshape(3, 3)\n",
        "\n",
        "print(\"x = \\n{}\\n\".format(x_torch))\n",
        "print(\"y = \\n{}\\n\".format(y_torch))\n",
        "print(\"x * y = \\n{}\\n\".format(x_torch * y_torch))\n",
        "print(\"x.mm(y) = \\n{}\\n\".format(x_torch @ (y_torch)))\n",
        "print(\"torch.cat([x, y], dim=1) = \\n{}\\n\".format(torch.cat([x_torch, y_torch], dim=0)))\n",
        "# print(\" = \\n{}\\n\".format())"
      ]
    },
    {
      "cell_type": "code",
      "execution_count": 29,
      "metadata": {
        "id": "AZA-rzpTP3UP",
        "colab": {
          "base_uri": "https://localhost:8080/"
        },
        "outputId": "077b3dca-c9c5-45c4-8132-76028e736945"
      },
      "outputs": [
        {
          "output_type": "execute_result",
          "data": {
            "text/plain": [
              "array([0.        , 0.02040816, 0.04081633, 0.06122449, 0.08163265,\n",
              "       0.10204082, 0.12244898, 0.14285714, 0.16326531, 0.18367347,\n",
              "       0.20408163, 0.2244898 , 0.24489796, 0.26530612, 0.28571429,\n",
              "       0.30612245, 0.32653061, 0.34693878, 0.36734694, 0.3877551 ,\n",
              "       0.40816327, 0.42857143, 0.44897959, 0.46938776, 0.48979592,\n",
              "       0.51020408, 0.53061224, 0.55102041, 0.57142857, 0.59183673,\n",
              "       0.6122449 , 0.63265306, 0.65306122, 0.67346939, 0.69387755,\n",
              "       0.71428571, 0.73469388, 0.75510204, 0.7755102 , 0.79591837,\n",
              "       0.81632653, 0.83673469, 0.85714286, 0.87755102, 0.89795918,\n",
              "       0.91836735, 0.93877551, 0.95918367, 0.97959184, 1.        ])"
            ]
          },
          "metadata": {},
          "execution_count": 29
        }
      ],
      "source": [
        "y_numpy = np.linspace(0,1 ,50)\n",
        "y_numpy"
      ]
    },
    {
      "cell_type": "code",
      "execution_count": 30,
      "metadata": {
        "id": "b4DhTO0jQHCH",
        "colab": {
          "base_uri": "https://localhost:8080/"
        },
        "outputId": "2a5a5830-bc45-440e-ec4e-1b8ef4da4348"
      },
      "outputs": [
        {
          "output_type": "execute_result",
          "data": {
            "text/plain": [
              "tensor([0.0000, 0.0204, 0.0408, 0.0612, 0.0816, 0.1020, 0.1224, 0.1429, 0.1633,\n",
              "        0.1837, 0.2041, 0.2245, 0.2449, 0.2653, 0.2857, 0.3061, 0.3265, 0.3469,\n",
              "        0.3673, 0.3878, 0.4082, 0.4286, 0.4490, 0.4694, 0.4898, 0.5102, 0.5306,\n",
              "        0.5510, 0.5714, 0.5918, 0.6122, 0.6327, 0.6531, 0.6735, 0.6939, 0.7143,\n",
              "        0.7347, 0.7551, 0.7755, 0.7959, 0.8163, 0.8367, 0.8571, 0.8776, 0.8980,\n",
              "        0.9184, 0.9388, 0.9592, 0.9796, 1.0000], dtype=torch.float64)"
            ]
          },
          "metadata": {},
          "execution_count": 30
        }
      ],
      "source": [
        "y_torch = torch.linspace(0,1, 50, dtype=torch.float64)\n",
        "y_torch"
      ]
    },
    {
      "cell_type": "code",
      "source": [
        "y_torch.dtype"
      ],
      "metadata": {
        "colab": {
          "base_uri": "https://localhost:8080/"
        },
        "id": "S1xX2aLNNjyk",
        "outputId": "83b4f637-9413-44ff-cbc0-1a544e7d5ffa"
      },
      "execution_count": 31,
      "outputs": [
        {
          "output_type": "execute_result",
          "data": {
            "text/plain": [
              "torch.float64"
            ]
          },
          "metadata": {},
          "execution_count": 31
        }
      ]
    },
    {
      "cell_type": "code",
      "source": [
        "(torch.tensor(y_numpy) - y_torch == torch.as_tensor(y_numpy) - y_torch).all()"
      ],
      "metadata": {
        "colab": {
          "base_uri": "https://localhost:8080/"
        },
        "id": "mKYYOXhuN3KL",
        "outputId": "4df107a5-de9c-4a74-dca3-54be2f0838c8"
      },
      "execution_count": 34,
      "outputs": [
        {
          "output_type": "execute_result",
          "data": {
            "text/plain": [
              "tensor(True)"
            ]
          },
          "metadata": {},
          "execution_count": 34
        }
      ]
    },
    {
      "cell_type": "markdown",
      "source": [
        "- ```torch.tensor``` создает копию массива\n",
        "- ```torch.as_tensor``` по возможности НЕ создает копию массива"
      ],
      "metadata": {
        "id": "gkEobHYAOfy1"
      }
    },
    {
      "cell_type": "code",
      "source": [
        "x = np.array([10,20])\n",
        "print('before:', x)\n",
        "y = torch.tensor(x)\n",
        "#y = x.copy() если х - тензор\n",
        "y += 2\n",
        "\n",
        "print(\"after:\", x,y)"
      ],
      "metadata": {
        "colab": {
          "base_uri": "https://localhost:8080/"
        },
        "id": "RYQLlnQmOfMM",
        "outputId": "19c7af13-2f15-4892-b405-0e3e50a02c4f"
      },
      "execution_count": 36,
      "outputs": [
        {
          "output_type": "stream",
          "name": "stdout",
          "text": [
            "before: [10 20]\n",
            "after: [10 20] tensor([12, 22])\n"
          ]
        }
      ]
    },
    {
      "cell_type": "code",
      "source": [
        "x = np.array([10,20])\n",
        "print('before:', x)\n",
        "y = torch.as_tensor(x)\n",
        "y += 2\n",
        "\n",
        "print(\"after 1:\", x,y)\n",
        "\n",
        "x += 5\n",
        "#x = x + 5\n",
        "print(\"after 2:\", x,y)\n"
      ],
      "metadata": {
        "colab": {
          "base_uri": "https://localhost:8080/"
        },
        "id": "VVc_hqfaO_ba",
        "outputId": "865e1fb8-257a-4ab3-e50e-d7c42fd39477"
      },
      "execution_count": 37,
      "outputs": [
        {
          "output_type": "stream",
          "name": "stdout",
          "text": [
            "before: [10 20]\n",
            "after 1: [12 22] tensor([12, 22])\n",
            "after 2: [17 27] tensor([17, 27])\n"
          ]
        }
      ]
    },
    {
      "cell_type": "markdown",
      "metadata": {
        "id": "Um7HM4rSEN19"
      },
      "source": [
        "## Есть ли отличия????\n",
        "\n",
        "На первый взгляд, все, что надо сделать для работы с torch - это заменить `np.` на `torch.`. В большинстве случаев так сработает, но есть важные ньюансы:\n",
        "\n",
        "- по умолчанию float массивы в numpy имеют тип данных fp64 (8 байт), в то время как в torch - fp32 (4 байта).\n",
        "- `axis` в NumPy [`x.mean(axis=0)`] vs. `dim` в PyTorch [`x.mean(dim=0)`]\n",
        "- некоторые функции [`np.concatenate` vs. `torch.cat`]\n",
        "\n",
        "Полезные ссылки:\n",
        " - [PyTorch forum](https://discuss.pytorch.org)"
      ]
    },
    {
      "cell_type": "markdown",
      "metadata": {
        "id": "tREZcXqsEN1-"
      },
      "source": [
        "## A bit more examples:"
      ]
    },
    {
      "cell_type": "markdown",
      "metadata": {
        "id": "ccoS9gOeEN1_"
      },
      "source": [
        "NumPy -> PyTorch:"
      ]
    },
    {
      "cell_type": "code",
      "execution_count": null,
      "metadata": {
        "id": "6g0bQXy0EN1_"
      },
      "outputs": [],
      "source": [
        "x_numpy = np.arange(9).reshape(3, 3)\n",
        "x_torch = torch.from_numpy(x_numpy)\n",
        "\n",
        "print(\"x_torch = \\n{}\\n\".format(x_torch))"
      ]
    },
    {
      "cell_type": "code",
      "execution_count": null,
      "metadata": {
        "id": "h3q3gDjjRnqz"
      },
      "outputs": [],
      "source": [
        "x_torch"
      ]
    },
    {
      "cell_type": "code",
      "execution_count": null,
      "metadata": {
        "id": "jl4Hk-IaRbv-"
      },
      "outputs": [],
      "source": [
        "x_torch[0][0] = 100"
      ]
    },
    {
      "cell_type": "code",
      "execution_count": null,
      "metadata": {
        "id": "0fU_s3h1RsLG"
      },
      "outputs": [],
      "source": [
        "x_torch"
      ]
    },
    {
      "cell_type": "code",
      "execution_count": null,
      "metadata": {
        "id": "2wpWrIQWRtRZ"
      },
      "outputs": [],
      "source": [
        "x_numpy"
      ]
    },
    {
      "cell_type": "code",
      "execution_count": null,
      "metadata": {
        "id": "nOyehYqgR3C0"
      },
      "outputs": [],
      "source": [
        "x_tensor_copy = torch.tensor(x_numpy) # creates a copy of the object\n",
        "x_tensor_copy"
      ]
    },
    {
      "cell_type": "code",
      "execution_count": null,
      "metadata": {
        "id": "31A9pahRR7ZQ"
      },
      "outputs": [],
      "source": [
        "x_tensor_copy[0][0] = 0\n",
        "x_tensor_copy"
      ]
    },
    {
      "cell_type": "code",
      "execution_count": null,
      "metadata": {
        "id": "aZIsHVULSB09"
      },
      "outputs": [],
      "source": [
        "x_numpy"
      ]
    },
    {
      "cell_type": "markdown",
      "metadata": {
        "id": "gWoj9g95EN2C"
      },
      "source": [
        "PyTorch -> NumPy:"
      ]
    },
    {
      "cell_type": "markdown",
      "source": [
        "`np.array` - аналог `torch.tensor`\n",
        "\n",
        "`x_torch.numpy()` - аналог `torch.as_tensor()`"
      ],
      "metadata": {
        "id": "Z452sgjR64tN"
      }
    },
    {
      "cell_type": "code",
      "execution_count": 40,
      "metadata": {
        "colab": {
          "base_uri": "https://localhost:8080/"
        },
        "id": "yRcWb2zFEN2C",
        "outputId": "f36f4d3d-a07e-4e36-f139-47e3c30f493d"
      },
      "outputs": [
        {
          "output_type": "stream",
          "name": "stdout",
          "text": [
            "x_numpy = \n",
            "[[100 101 102]\n",
            " [103 104 105]\n",
            " [106 107 108]]\n",
            "\n",
            "x_torch = \n",
            "tensor([[0, 1, 2],\n",
            "        [3, 4, 5],\n",
            "        [6, 7, 8]])\n",
            "\n"
          ]
        }
      ],
      "source": [
        "x_torch = torch.arange(9).reshape(3, 3)\n",
        "x_numpy = np.array(x_torch.numpy())\n",
        "x_numpy += 100\n",
        "print(\"x_numpy = \\n{}\\n\".format(x_numpy))\n",
        "print(\"x_torch = \\n{}\\n\".format(x_torch))"
      ]
    },
    {
      "cell_type": "markdown",
      "metadata": {
        "id": "HNzWxR3gEN2E"
      },
      "source": [
        "Inplace operations. In PyTorch you can peform inplace operations (no copying). Many tensor methods have their inplace twins with `_` symbol in the end:"
      ]
    },
    {
      "cell_type": "code",
      "source": [
        "torch.sin(x_torch)"
      ],
      "metadata": {
        "colab": {
          "base_uri": "https://localhost:8080/"
        },
        "id": "-wq4Y3Nq7HH9",
        "outputId": "853e2f49-2720-452a-fed8-0c2f91092fc8"
      },
      "execution_count": 41,
      "outputs": [
        {
          "output_type": "execute_result",
          "data": {
            "text/plain": [
              "tensor([[ 0.0000,  0.8415,  0.9093],\n",
              "        [ 0.1411, -0.7568, -0.9589],\n",
              "        [-0.2794,  0.6570,  0.9894]])"
            ]
          },
          "metadata": {},
          "execution_count": 41
        }
      ]
    },
    {
      "cell_type": "code",
      "execution_count": 42,
      "metadata": {
        "colab": {
          "base_uri": "https://localhost:8080/"
        },
        "id": "yQRzJP3SEN2E",
        "outputId": "7e532a37-396a-493b-f65f-29d0cfa16f54"
      },
      "outputs": [
        {
          "output_type": "stream",
          "name": "stdout",
          "text": [
            "[before] x = tensor([0., 1., 2., 3., 4.])\n",
            "[after]  x = tensor([0.0000, 1.0000, 1.4142, 1.7321, 2.0000])\n"
          ]
        }
      ],
      "source": [
        "x = torch.arange(5).type(torch.float)\n",
        "print(\"[before] x = {}\".format(x))\n",
        "\n",
        "x.sqrt_()\n",
        "print(\"[after]  x = {}\".format(x))"
      ]
    },
    {
      "cell_type": "code",
      "source": [
        "x = torch.arange(5).type(torch.float)\n",
        "print(\"[before] x = {}\".format(x))\n",
        "\n",
        "x.sqrt()\n",
        "print(\"[after]  x = {}\".format(x))"
      ],
      "metadata": {
        "colab": {
          "base_uri": "https://localhost:8080/"
        },
        "id": "VdM67CJZROvw",
        "outputId": "e8032f4a-525b-4141-bf4b-75351ecb3f3a"
      },
      "execution_count": 43,
      "outputs": [
        {
          "output_type": "stream",
          "name": "stdout",
          "text": [
            "[before] x = tensor([0., 1., 2., 3., 4.])\n",
            "[after]  x = tensor([0., 1., 2., 3., 4.])\n"
          ]
        }
      ]
    },
    {
      "cell_type": "code",
      "execution_count": 44,
      "metadata": {
        "colab": {
          "base_uri": "https://localhost:8080/"
        },
        "id": "uh85O9IWEN2I",
        "outputId": "370a83f1-9ce7-40e2-9036-e7cf53723b2b"
      },
      "outputs": [
        {
          "output_type": "stream",
          "name": "stdout",
          "text": [
            "[before] x = tensor([0., 1., 2., 3., 4.])\n",
            "[after]  x = tensor([0., 0., 0., 0., 0.])\n"
          ]
        }
      ],
      "source": [
        "x = torch.arange(5).type(torch.float)\n",
        "print(\"[before] x = {}\".format(x))\n",
        "\n",
        "x.zero_()\n",
        "print(\"[after]  x = {}\".format(x))"
      ]
    },
    {
      "cell_type": "markdown",
      "metadata": {
        "id": "P1an_NwGEN2K"
      },
      "source": [
        "## **Task 1.** Визуализация с matplotlib\n",
        "\n",
        "\n",
        "$$\n",
        "\\begin{cases}\n",
        "x = 16 \\sin^3(t) \\\\\n",
        "y = 13\\cos(t) - 5\\cos(2t) - 2\\cos(3t) - \\cos(4t) \\\\\n",
        "\\end{cases}\n",
        ",~ t \\in [0, 2\\pi]\n",
        "$$"
      ]
    },
    {
      "cell_type": "code",
      "execution_count": 45,
      "metadata": {
        "id": "qtpm-NHhEN2L"
      },
      "outputs": [],
      "source": [
        "from matplotlib import pylab as plt\n",
        "%matplotlib inline"
      ]
    },
    {
      "cell_type": "code",
      "execution_count": 46,
      "metadata": {
        "id": "TD2DA1p2EN2M"
      },
      "outputs": [],
      "source": [
        "t = torch.linspace(0.0, 2 * np.pi, 100)\n",
        "\n",
        "x = 16*(torch.sin(t))**3\n",
        "y = 13*torch.cos(t) - 5*torch.cos(2*t) - 2*torch.cos(3*t) - torch.cos(4*t)"
      ]
    },
    {
      "cell_type": "code",
      "execution_count": 48,
      "metadata": {
        "colab": {
          "base_uri": "https://localhost:8080/",
          "height": 430
        },
        "id": "ZoYtHv1UEN2O",
        "outputId": "45b2a121-a124-4d7c-e48b-ab888a667184"
      },
      "outputs": [
        {
          "output_type": "display_data",
          "data": {
            "text/plain": [
              "<Figure size 640x480 with 1 Axes>"
            ],
            "image/png": "[encoded data removed]"
          },
          "metadata": {}
        }
      ],
      "source": [
        "plt.plot(x.numpy(), y.numpy(), c='red');"
      ]
    },
    {
      "cell_type": "markdown",
      "metadata": {
        "id": "djnViH0QEN2R"
      },
      "source": [
        "## Автодифференцирование"
      ]
    },
    {
      "cell_type": "markdown",
      "metadata": {
        "id": "Heo06YY7EN2R"
      },
      "source": [
        "The most important feature of PyTorch is that it can **differentiate (almost)\n",
        "\n",
        "Пусть у нас есть функция $f(x) = x^2$. Если мы захотим подсчитать ее частную производную $\\frac{\\partial f}{\\partial x}$, то нам понадобится всего три строчки:"
      ]
    },
    {
      "cell_type": "code",
      "execution_count": 64,
      "metadata": {
        "colab": {
          "base_uri": "https://localhost:8080/"
        },
        "id": "f74iMZmwEN2R",
        "outputId": "dc4f4bd8-6c45-4895-db59-92d90d8a1cb5"
      },
      "outputs": [
        {
          "output_type": "stream",
          "name": "stdout",
          "text": [
            "None\n"
          ]
        }
      ],
      "source": [
        "x = torch.tensor(2.0, requires_grad=True)  # tells PyTorch that we'll need gradient of this tensor\n",
        "x_2 = torch.tensor(3., requires_grad=True)\n",
        "print(x.grad)\n",
        "f_x = x ** 2  # run our function\n",
        "f_new = x ** 2 + torch.sqrt(x_2)\n",
        "f_y = x ** 3"
      ]
    },
    {
      "cell_type": "code",
      "source": [
        "x.grad is None"
      ],
      "metadata": {
        "colab": {
          "base_uri": "https://localhost:8080/"
        },
        "id": "GCLOAxFG8jqO",
        "outputId": "90208518-cf02-41c0-f63e-b614abb67812"
      },
      "execution_count": 65,
      "outputs": [
        {
          "output_type": "execute_result",
          "data": {
            "text/plain": [
              "True"
            ]
          },
          "metadata": {},
          "execution_count": 65
        }
      ]
    },
    {
      "cell_type": "code",
      "source": [
        "f_x.backward()  # calculate gradient\n",
        "\n",
        "print(\"df/dx = {}\".format(x.grad))\n",
        "x.grad = None\n",
        "f_y.backward()\n",
        "print(\"df/dx = {}\".format(x.grad))\n",
        "x.grad = None\n",
        "f_new.backward()\n",
        "print(\"df/dx = {}\".format(x.grad))\n",
        "print(\"df/dx_2 = {}\".format(x_2.grad))\n"
      ],
      "metadata": {
        "colab": {
          "base_uri": "https://localhost:8080/"
        },
        "id": "oky1DnUu8gEV",
        "outputId": "775eea7f-f09e-41c8-ee25-6d4f5738808d"
      },
      "execution_count": 66,
      "outputs": [
        {
          "output_type": "stream",
          "name": "stdout",
          "text": [
            "df/dx = 4.0\n",
            "df/dx = 12.0\n",
            "df/dx = 4.0\n",
            "df/dx_2 = 0.28867512941360474\n"
          ]
        }
      ]
    },
    {
      "cell_type": "code",
      "source": [
        "labels = (torch.rand(1000) > 0.3).type(torch.long)\n",
        "x = torch.randn(1000, 256)"
      ],
      "metadata": {
        "id": "CmR8tZcn-AVP"
      },
      "execution_count": 85,
      "outputs": []
    },
    {
      "cell_type": "code",
      "source": [
        "def loss(y_hat, y):\n",
        "    return -1.* torch.sum(y*torch.log(y_hat.clip(0.001, 0.999)) + (1 - y)*torch.log(1 - y_hat.clip(0.001, 0.999)))\n",
        "\n",
        "def sigmoid(z):\n",
        "    return 1./(1+torch.exp(-z))"
      ],
      "metadata": {
        "id": "fBdgLD2U-Nug"
      },
      "execution_count": 142,
      "outputs": []
    },
    {
      "cell_type": "code",
      "source": [
        "w = torch.randn(1, 256, requires_grad=True)\n",
        "losses = []\n",
        "for i in range(5000):\n",
        "    #w = torch.clone(w)\n",
        "    y_hat = sigmoid(x @ w.t())\n",
        "    loss_fn = loss(y_hat, labels)\n",
        "    loss_fn.backward()\n",
        "    w.requires_grad=False\n",
        "    w -= 0.000000001 * w.grad\n",
        "    w.requires_grad=True\n",
        "    losses.append(loss_fn.item())\n",
        ""
      ],
      "metadata": {
        "id": "I8OmTP8F9qjM"
      },
      "execution_count": 147,
      "outputs": []
    },
    {
      "cell_type": "code",
      "source": [
        "plt.plot(losses)"
      ],
      "metadata": {
        "colab": {
          "base_uri": "https://localhost:8080/",
          "height": 463
        },
        "id": "KIldkcrjD29P",
        "outputId": "b0b82b61-91e6-4aae-c4d0-91d8212c3814"
      },
      "execution_count": 148,
      "outputs": [
        {
          "output_type": "execute_result",
          "data": {
            "text/plain": [
              "[<matplotlib.lines.Line2D at 0x7ee8a324f940>]"
            ]
          },
          "metadata": {},
          "execution_count": 148
        },
        {
          "output_type": "display_data",
          "data": {
            "text/plain": [
              "<Figure size 640x480 with 1 Axes>"
            ],
            "image/png": "[encoded data removed]"
          },
          "metadata": {}
        }
      ]
    },
    {
      "cell_type": "code",
      "source": [
        "w.grad"
      ],
      "metadata": {
        "colab": {
          "base_uri": "https://localhost:8080/"
        },
        "id": "LpHAWdhgDKZA",
        "outputId": "26a95a77-6423-4b04-cb50-49d612200875"
      },
      "execution_count": 132,
      "outputs": [
        {
          "output_type": "stream",
          "name": "stderr",
          "text": [
            "<ipython-input-132-d01581d16022>:1: UserWarning: The .grad attribute of a Tensor that is not a leaf Tensor is being accessed. Its .grad attribute won't be populated during autograd.backward(). If you indeed want the .grad field to be populated for a non-leaf Tensor, use .retain_grad() on the non-leaf Tensor. If you access the non-leaf Tensor by mistake, make sure you access the leaf Tensor instead. See github.com/pytorch/pytorch/pull/30531 for more informations. (Triggered internally at aten/src/ATen/core/TensorBody.h:489.)\n",
            "  w.grad\n"
          ]
        }
      ]
    },
    {
      "cell_type": "code",
      "source": [
        "w.requires_grad"
      ],
      "metadata": {
        "colab": {
          "base_uri": "https://localhost:8080/"
        },
        "id": "64a25oQ1_E8w",
        "outputId": "a747f46d-6532-49c4-96e9-677b2e350d45"
      },
      "execution_count": 120,
      "outputs": [
        {
          "output_type": "execute_result",
          "data": {
            "text/plain": [
              "True"
            ]
          },
          "metadata": {},
          "execution_count": 120
        }
      ]
    },
    {
      "cell_type": "markdown",
      "metadata": {
        "id": "tGiS_KvzEN2T"
      },
      "source": [
        "Суть в том, что в кач-ве $f(x)$ можно взять почти любую функцию (в том числе и нейросеть!). Для подробного изучения пакета можно почитать [мануал](https://pytorch.org/tutorials/beginner/blitz/autograd_tutorial.html)."
      ]
    },
    {
      "cell_type": "markdown",
      "metadata": {
        "id": "EYgCpK_BEN2T"
      },
      "source": [
        "## Simple linear regression."
      ]
    },
    {
      "cell_type": "markdown",
      "metadata": {
        "id": "xKiz71jOEN2T"
      },
      "source": [
        "Load data:"
      ]
    },
    {
      "cell_type": "code",
      "execution_count": null,
      "metadata": {
        "id": "PEdYJTCrEN2U"
      },
      "outputs": [],
      "source": [
        "from sklearn.datasets import load_boston\n",
        "boston = load_boston()\n",
        "\n",
        "plt.scatter(boston.data[:, -1], boston.target)\n",
        "plt.xlabel(\"x\")\n",
        "plt.ylabel(\"y\");"
      ]
    },
    {
      "cell_type": "markdown",
      "metadata": {
        "id": "OVrvakLdEN2W"
      },
      "source": [
        "Convert data to torch tensors:"
      ]
    },
    {
      "cell_type": "code",
      "execution_count": null,
      "metadata": {
        "id": "BR4PhsKxEN2W"
      },
      "outputs": [],
      "source": [
        "x = torch.from_numpy(boston.data[:, -1]).type(torch.float)\n",
        "x = (x - x.mean()) / x.std()  # normalization\n",
        "\n",
        "y = torch.from_numpy(boston.target).type(torch.float)"
      ]
    },
    {
      "cell_type": "markdown",
      "metadata": {
        "id": "xFjYW3l7EN2Y"
      },
      "source": [
        "1-dimensional linear regression is formulated like this:\n",
        "$$\\normalsize y^{pred} = wx + b$$\n",
        "where $x$ - is a feature, $w, b$ - model parameters (weight and bias), and $y^{pred}$ - model's prediction.\n",
        "\n",
        "As a loss function we'll use **Mean Square Error** (MSE):\n",
        "$$MSE(y, y^{pred}) = \\frac{1}{N}\\sum_{i=0}^{N-1}(y_{i} - y_{i}^{pred}) ^ 2$$\n",
        "where $N$ - is a length of training set.\n",
        "\n",
        "To train our model, we'll use **Gradient Descent** (GD):\n",
        "$$\\normalsize w_{i} = w_{i - 1} - \\eta \\frac{\\partial loss}{\\partial w_{i - 1}}$$\n",
        "\n",
        "$$\\normalsize b_{i} = b_{i - 1} - \\eta \\frac{\\partial loss}{\\partial b_{i - 1}}$$\n",
        "where $\\eta$ - is a learning rate.\n",
        "\n",
        "But we're not going to calculate this partial derivative by hand. PyTorch will do it for us!"
      ]
    },
    {
      "cell_type": "markdown",
      "metadata": {
        "id": "UCdA7jAjEN2Y"
      },
      "source": [
        "Declare model's parameters:"
      ]
    },
    {
      "cell_type": "code",
      "execution_count": null,
      "metadata": {
        "id": "CX8MKX2FEN2Y"
      },
      "outputs": [],
      "source": [
        "w = torch.tensor(1.0, requires_grad=True)\n",
        "b = torch.tensor(1.0, requires_grad=True)"
      ]
    },
    {
      "cell_type": "markdown",
      "metadata": {
        "id": "nbLG5n-2EN2a"
      },
      "source": [
        "Train loop:"
      ]
    },
    {
      "cell_type": "code",
      "execution_count": null,
      "metadata": {
        "id": "lUe0S6PnEN2a"
      },
      "outputs": [],
      "source": [
        "lr = 0.01\n",
        "n_iters = 200\n",
        "\n",
        "losses = []\n",
        "\n",
        "for i in range(n_iters):\n",
        "    # forward pass\n",
        "    y_pred = w * x + b\n",
        "\n",
        "    # calculate loss\n",
        "    loss = torch.mean((y - y_pred) ** 2)\n",
        "    losses.append(loss.item())\n",
        "\n",
        "    # calculate gradients\n",
        "    loss.backward()\n",
        "\n",
        "    # make gradient step\n",
        "    w.data = w.data - lr * w.grad.detach()  # detaching tensor from computational graph\n",
        "    b.data = b.data - lr * b.grad.detach()  #\n",
        "\n",
        "    # zero gradients (otherwise they'll accumulate)\n",
        "    w.grad.zero_()\n",
        "    b.grad.zero_()\n",
        "\n",
        "    # visualization\n",
        "    if i % 10 == 0:\n",
        "        #clear_output(True)\n",
        "\n",
        "        print(\"loss: {:.04}\".format(loss.item()))\n",
        "\n",
        "        # training set\n",
        "        plt.scatter(x.numpy(), y.numpy())\n",
        "\n",
        "        # our predictions\n",
        "        plt.scatter(x.numpy(), y_pred.detach().numpy(), color='red')\n",
        "\n",
        "        plt.xlabel(\"x\")\n",
        "        plt.ylabel(\"y\")\n",
        "        plt.show()\n",
        "\n",
        "\n",
        "plt.plot(losses)\n",
        "plt.xlabel(\"iters\")\n",
        "plt.ylabel(\"loss\");"
      ]
    },
    {
      "cell_type": "code",
      "execution_count": null,
      "metadata": {
        "id": "rRFQ8BgB3C9b"
      },
      "outputs": [],
      "source": []
    },
    {
      "cell_type": "markdown",
      "metadata": {
        "id": "S9YGy2pbEN2g"
      },
      "source": [
        "## Accelerating PyTorch with GPU"
      ]
    },
    {
      "cell_type": "markdown",
      "metadata": {
        "id": "3SdJSwEzEN2g"
      },
      "source": [
        "A **Graphics Processing Unit (GPU)** is a specialized electronic circuit designed to rapidly perform single-type matematical calculations. And for playing computer games...\n",
        "\n",
        "\n",
        "GPUs are built for doing same operation on multiple data efficiently. Machine learning algorithms (e.g. neural networks) usually consist of doing same operation (e.g. matrix multiplication) again and again, that's why GPUs are successfully applied for boosting algorithms' performance.\n",
        "\n",
        "If you're lucky enough to have access to a CUDA-capable GPU (you can rent one for about about $0.50/hour from most cloud providers or utilize free Google Colab) you can use it to speed up your code. First check that your GPU is working in Pytorch:"
      ]
    },
    {
      "cell_type": "code",
      "execution_count": null,
      "metadata": {
        "id": "XvyK8BXVEN2h"
      },
      "outputs": [],
      "source": [
        "print(torch.cuda.is_available())"
      ]
    },
    {
      "cell_type": "markdown",
      "metadata": {
        "id": "Qc_OnXaLEN2j"
      },
      "source": [
        "And then create a device object for it:"
      ]
    },
    {
      "cell_type": "code",
      "execution_count": null,
      "metadata": {
        "id": "2Hak5WpBEN2j"
      },
      "outputs": [],
      "source": [
        "device = torch.device(\"cuda\") if torch.cuda.is_available() else torch.device(\"cpu\")"
      ]
    },
    {
      "cell_type": "markdown",
      "metadata": {
        "id": "qfU9dB8ZEN2l"
      },
      "source": [
        "Now we can create tensor and transfer it to GPU:"
      ]
    },
    {
      "cell_type": "code",
      "execution_count": null,
      "metadata": {
        "id": "oGpVjUQvWdea"
      },
      "outputs": [],
      "source": [
        "device"
      ]
    },
    {
      "cell_type": "code",
      "execution_count": null,
      "metadata": {
        "id": "XpRI7FHTEN2m"
      },
      "outputs": [],
      "source": [
        "x = torch.arange(0, 9, device=device).reshape(3, 3).type(torch.float)\n",
        "#x = x.cuda()\n",
        "\n",
        "print(x)"
      ]
    },
    {
      "cell_type": "code",
      "source": [
        "!nvidia-smi"
      ],
      "metadata": {
        "id": "K_RsOqLnTiId"
      },
      "execution_count": null,
      "outputs": []
    },
    {
      "cell_type": "code",
      "execution_count": null,
      "metadata": {
        "id": "pU7y2EVPWxJB"
      },
      "outputs": [],
      "source": [
        "y = torch.arange(0, 9).reshape(3, 3).type(torch.float)\n"
      ]
    },
    {
      "cell_type": "code",
      "execution_count": null,
      "metadata": {
        "id": "kI35c31lWycZ"
      },
      "outputs": [],
      "source": [
        "y.cuda() + x"
      ]
    },
    {
      "cell_type": "code",
      "source": [
        "y + x.cpu()"
      ],
      "metadata": {
        "id": "zev1LS3UUFph"
      },
      "execution_count": null,
      "outputs": []
    },
    {
      "cell_type": "markdown",
      "metadata": {
        "id": "iEKnKb9bEN2o"
      },
      "source": [
        "If you have a GPU than you'll see that now `x` is a `cuda`-tensor."
      ]
    },
    {
      "cell_type": "markdown",
      "metadata": {
        "id": "oplW5EhtEN2o"
      },
      "source": [
        "Now let's multiply some large matricies on CPU and GPU to compare the speed:"
      ]
    },
    {
      "cell_type": "code",
      "execution_count": null,
      "metadata": {
        "id": "EXAll2b8EN2p"
      },
      "outputs": [],
      "source": [
        "size = 1000\n",
        "\n",
        "x = torch.arange(0, size ** 2).reshape(size, size).type(torch.float)\n",
        "x_gpu = x.clone().to(device)"
      ]
    },
    {
      "cell_type": "code",
      "execution_count": null,
      "metadata": {
        "id": "CEwXltBwYrVK"
      },
      "outputs": [],
      "source": [
        "x.device, x_gpu.device"
      ]
    },
    {
      "cell_type": "code",
      "execution_count": null,
      "metadata": {
        "id": "OeSolHCkEN2q"
      },
      "outputs": [],
      "source": [
        "%%time\n",
        "for i in range(20):\n",
        "  _=x.mm(x)"
      ]
    },
    {
      "cell_type": "code",
      "execution_count": null,
      "metadata": {
        "id": "KVo8FPk5EN2s"
      },
      "outputs": [],
      "source": [
        "%%time\n",
        "for i in range(20):\n",
        "  _=x_gpu.mm(x_gpu)\n",
        "\n",
        "if device == 'cuda':\n",
        "    torch.cuda.synchronize()  # always add synchronize() when you measure GPU runtime"
      ]
    },
    {
      "cell_type": "code",
      "execution_count": null,
      "metadata": {
        "id": "cpXrvMSoYZYF"
      },
      "outputs": [],
      "source": [
        "!nvidia-smi"
      ]
    },
    {
      "cell_type": "markdown",
      "metadata": {
        "id": "7zrF6g_DEN2t"
      },
      "source": [
        "As you can see, we can get dramatic boost of speed using GPU!\n",
        "\n",
        "Note, we can't compute operations with tensors located on different devices:"
      ]
    },
    {
      "cell_type": "code",
      "execution_count": null,
      "metadata": {
        "id": "e0dLcFqaEN2u"
      },
      "outputs": [],
      "source": [
        "try:\n",
        "    x.mm(x_gpu)\n",
        "except RuntimeError as e:\n",
        "    print(\"Tensors are located on different devices!\")\n",
        "    print(e)"
      ]
    },
    {
      "cell_type": "code",
      "source": [
        "try:\n",
        "    x_gpu.mm(x)\n",
        "except RuntimeError as e:\n",
        "    print(\"Tensors are located on different devices!\")\n",
        "    print(e)"
      ],
      "metadata": {
        "id": "LC1nmFyDVKyz"
      },
      "execution_count": null,
      "outputs": []
    },
    {
      "cell_type": "code",
      "source": [
        "x = torch.randn(100,100, device='cpu')"
      ],
      "metadata": {
        "id": "I9iUtcKPVSBU"
      },
      "execution_count": null,
      "outputs": []
    },
    {
      "cell_type": "code",
      "source": [
        "y = torch.randn(99,99, device='cpu')"
      ],
      "metadata": {
        "id": "x-u_kCCbVb1G"
      },
      "execution_count": null,
      "outputs": []
    },
    {
      "cell_type": "code",
      "source": [
        "x.mm(y)"
      ],
      "metadata": {
        "id": "2PPYry7YVh0p"
      },
      "execution_count": null,
      "outputs": []
    },
    {
      "cell_type": "code",
      "source": [
        "try:\n",
        "    x.mm(x_gpu)\n",
        "except RuntimeError as e:\n",
        "    print(\"Tensors are located on different devices!\")\n",
        "    print(e)"
      ],
      "metadata": {
        "id": "wmzT2MUBVjQG"
      },
      "execution_count": null,
      "outputs": []
    },
    {
      "cell_type": "code",
      "source": [
        "0.9 ** 20"
      ],
      "metadata": {
        "id": "kFVON3MHVpIl"
      },
      "execution_count": null,
      "outputs": []
    },
    {
      "cell_type": "code",
      "source": [],
      "metadata": {
        "id": "yiVkrXvmWulm"
      },
      "execution_count": null,
      "outputs": []
    }
  ],
  "metadata": {
    "accelerator": "GPU",
    "colab": {
      "provenance": [],
      "collapsed_sections": [
        "Um7HM4rSEN19"
      ],
      "gpuType": "T4"
    },
    "kernelspec": {
      "display_name": "Python 3",
      "name": "python3"
    },
    "language_info": {
      "codemirror_mode": {
        "name": "ipython",
        "version": 3
      },
      "file_extension": ".py",
      "mimetype": "text/x-python",
      "name": "python",
      "nbconvert_exporter": "python",
      "pygments_lexer": "ipython3",
      "version": "3.8.8"
    }
  },
  "nbformat": 4,
  "nbformat_minor": 0
}