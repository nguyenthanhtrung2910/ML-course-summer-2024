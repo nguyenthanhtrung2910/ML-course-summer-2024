{
  "nbformat": 4,
  "nbformat_minor": 0,
  "metadata": {
    "colab": {
      "provenance": [],
      "gpuType": "T4"
    },
    "kernelspec": {
      "name": "python3",
      "display_name": "Python 3"
    },
    "language_info": {
      "name": "python"
    },
    "accelerator": "GPU",
    "widgets": {
      "application/vnd.jupyter.widget-state+json": {
        "91729a6cdf2e4ad9ad9a4c1f917b28a4": {
          "model_module": "@jupyter-widgets/controls",
          "model_name": "HBoxModel",
          "model_module_version": "1.5.0",
          "state": {
            "_dom_classes": [],
            "_model_module": "@jupyter-widgets/controls",
            "_model_module_version": "1.5.0",
            "_model_name": "HBoxModel",
            "_view_count": null,
            "_view_module": "@jupyter-widgets/controls",
            "_view_module_version": "1.5.0",
            "_view_name": "HBoxView",
            "box_style": "",
            "children": [
              "IPY_MODEL_3ebdac42a7924e96b6ae91e58e93369e",
              "IPY_MODEL_bd71e4b2495543e18c2ed950246157bc",
              "IPY_MODEL_77a9d14af0334679bca7874df042ac01"
            ],
            "layout": "IPY_MODEL_57642db85954422cbc7038c673d9b6c6"
          }
        },
        "3ebdac42a7924e96b6ae91e58e93369e": {
          "model_module": "@jupyter-widgets/controls",
          "model_name": "HTMLModel",
          "model_module_version": "1.5.0",
          "state": {
            "_dom_classes": [],
            "_model_module": "@jupyter-widgets/controls",
            "_model_module_version": "1.5.0",
            "_model_name": "HTMLModel",
            "_view_count": null,
            "_view_module": "@jupyter-widgets/controls",
            "_view_module_version": "1.5.0",
            "_view_name": "HTMLView",
            "description": "",
            "description_tooltip": null,
            "layout": "IPY_MODEL_75d47c598b19487bba9471c4bf5c8c32",
            "placeholder": "​",
            "style": "IPY_MODEL_52f547d904de4095abf332ba7383f123",
            "value": "model.safetensors: 100%"
          }
        },
        "bd71e4b2495543e18c2ed950246157bc": {
          "model_module": "@jupyter-widgets/controls",
          "model_name": "FloatProgressModel",
          "model_module_version": "1.5.0",
          "state": {
            "_dom_classes": [],
            "_model_module": "@jupyter-widgets/controls",
            "_model_module_version": "1.5.0",
            "_model_name": "FloatProgressModel",
            "_view_count": null,
            "_view_module": "@jupyter-widgets/controls",
            "_view_module_version": "1.5.0",
            "_view_name": "ProgressView",
            "bar_style": "success",
            "description": "",
            "description_tooltip": null,
            "layout": "IPY_MODEL_140ef96356e444e484b0d51c91828b0e",
            "max": 87278522,
            "min": 0,
            "orientation": "horizontal",
            "style": "IPY_MODEL_81ca4834f60440ffb97cecda01e8fbe0",
            "value": 87278522
          }
        },
        "77a9d14af0334679bca7874df042ac01": {
          "model_module": "@jupyter-widgets/controls",
          "model_name": "HTMLModel",
          "model_module_version": "1.5.0",
          "state": {
            "_dom_classes": [],
            "_model_module": "@jupyter-widgets/controls",
            "_model_module_version": "1.5.0",
            "_model_name": "HTMLModel",
            "_view_count": null,
            "_view_module": "@jupyter-widgets/controls",
            "_view_module_version": "1.5.0",
            "_view_name": "HTMLView",
            "description": "",
            "description_tooltip": null,
            "layout": "IPY_MODEL_2436ece9b9f041a5abd1ccb358cc86da",
            "placeholder": "​",
            "style": "IPY_MODEL_a3c1003675634684b57dd8fc72065fe9",
            "value": " 87.3M/87.3M [00:00&lt;00:00, 223MB/s]"
          }
        },
        "57642db85954422cbc7038c673d9b6c6": {
          "model_module": "@jupyter-widgets/base",
          "model_name": "LayoutModel",
          "model_module_version": "1.2.0",
          "state": {
            "_model_module": "@jupyter-widgets/base",
            "_model_module_version": "1.2.0",
            "_model_name": "LayoutModel",
            "_view_count": null,
            "_view_module": "@jupyter-widgets/base",
            "_view_module_version": "1.2.0",
            "_view_name": "LayoutView",
            "align_content": null,
            "align_items": null,
            "align_self": null,
            "border": null,
            "bottom": null,
            "display": null,
            "flex": null,
            "flex_flow": null,
            "grid_area": null,
            "grid_auto_columns": null,
            "grid_auto_flow": null,
            "grid_auto_rows": null,
            "grid_column": null,
            "grid_gap": null,
            "grid_row": null,
            "grid_template_areas": null,
            "grid_template_columns": null,
            "grid_template_rows": null,
            "height": null,
            "justify_content": null,
            "justify_items": null,
            "left": null,
            "margin": null,
            "max_height": null,
            "max_width": null,
            "min_height": null,
            "min_width": null,
            "object_fit": null,
            "object_position": null,
            "order": null,
            "overflow": null,
            "overflow_x": null,
            "overflow_y": null,
            "padding": null,
            "right": null,
            "top": null,
            "visibility": null,
            "width": null
          }
        },
        "75d47c598b19487bba9471c4bf5c8c32": {
          "model_module": "@jupyter-widgets/base",
          "model_name": "LayoutModel",
          "model_module_version": "1.2.0",
          "state": {
            "_model_module": "@jupyter-widgets/base",
            "_model_module_version": "1.2.0",
            "_model_name": "LayoutModel",
            "_view_count": null,
            "_view_module": "@jupyter-widgets/base",
            "_view_module_version": "1.2.0",
            "_view_name": "LayoutView",
            "align_content": null,
            "align_items": null,
            "align_self": null,
            "border": null,
            "bottom": null,
            "display": null,
            "flex": null,
            "flex_flow": null,
            "grid_area": null,
            "grid_auto_columns": null,
            "grid_auto_flow": null,
            "grid_auto_rows": null,
            "grid_column": null,
            "grid_gap": null,
            "grid_row": null,
            "grid_template_areas": null,
            "grid_template_columns": null,
            "grid_template_rows": null,
            "height": null,
            "justify_content": null,
            "justify_items": null,
            "left": null,
            "margin": null,
            "max_height": null,
            "max_width": null,
            "min_height": null,
            "min_width": null,
            "object_fit": null,
            "object_position": null,
            "order": null,
            "overflow": null,
            "overflow_x": null,
            "overflow_y": null,
            "padding": null,
            "right": null,
            "top": null,
            "visibility": null,
            "width": null
          }
        },
        "52f547d904de4095abf332ba7383f123": {
          "model_module": "@jupyter-widgets/controls",
          "model_name": "DescriptionStyleModel",
          "model_module_version": "1.5.0",
          "state": {
            "_model_module": "@jupyter-widgets/controls",
            "_model_module_version": "1.5.0",
            "_model_name": "DescriptionStyleModel",
            "_view_count": null,
            "_view_module": "@jupyter-widgets/base",
            "_view_module_version": "1.2.0",
            "_view_name": "StyleView",
            "description_width": ""
          }
        },
        "140ef96356e444e484b0d51c91828b0e": {
          "model_module": "@jupyter-widgets/base",
          "model_name": "LayoutModel",
          "model_module_version": "1.2.0",
          "state": {
            "_model_module": "@jupyter-widgets/base",
            "_model_module_version": "1.2.0",
            "_model_name": "LayoutModel",
            "_view_count": null,
            "_view_module": "@jupyter-widgets/base",
            "_view_module_version": "1.2.0",
            "_view_name": "LayoutView",
            "align_content": null,
            "align_items": null,
            "align_self": null,
            "border": null,
            "bottom": null,
            "display": null,
            "flex": null,
            "flex_flow": null,
            "grid_area": null,
            "grid_auto_columns": null,
            "grid_auto_flow": null,
            "grid_auto_rows": null,
            "grid_column": null,
            "grid_gap": null,
            "grid_row": null,
            "grid_template_areas": null,
            "grid_template_columns": null,
            "grid_template_rows": null,
            "height": null,
            "justify_content": null,
            "justify_items": null,
            "left": null,
            "margin": null,
            "max_height": null,
            "max_width": null,
            "min_height": null,
            "min_width": null,
            "object_fit": null,
            "object_position": null,
            "order": null,
            "overflow": null,
            "overflow_x": null,
            "overflow_y": null,
            "padding": null,
            "right": null,
            "top": null,
            "visibility": null,
            "width": null
          }
        },
        "81ca4834f60440ffb97cecda01e8fbe0": {
          "model_module": "@jupyter-widgets/controls",
          "model_name": "ProgressStyleModel",
          "model_module_version": "1.5.0",
          "state": {
            "_model_module": "@jupyter-widgets/controls",
            "_model_module_version": "1.5.0",
            "_model_name": "ProgressStyleModel",
            "_view_count": null,
            "_view_module": "@jupyter-widgets/base",
            "_view_module_version": "1.2.0",
            "_view_name": "StyleView",
            "bar_color": null,
            "description_width": ""
          }
        },
        "2436ece9b9f041a5abd1ccb358cc86da": {
          "model_module": "@jupyter-widgets/base",
          "model_name": "LayoutModel",
          "model_module_version": "1.2.0",
          "state": {
            "_model_module": "@jupyter-widgets/base",
            "_model_module_version": "1.2.0",
            "_model_name": "LayoutModel",
            "_view_count": null,
            "_view_module": "@jupyter-widgets/base",
            "_view_module_version": "1.2.0",
            "_view_name": "LayoutView",
            "align_content": null,
            "align_items": null,
            "align_self": null,
            "border": null,
            "bottom": null,
            "display": null,
            "flex": null,
            "flex_flow": null,
            "grid_area": null,
            "grid_auto_columns": null,
            "grid_auto_flow": null,
            "grid_auto_rows": null,
            "grid_column": null,
            "grid_gap": null,
            "grid_row": null,
            "grid_template_areas": null,
            "grid_template_columns": null,
            "grid_template_rows": null,
            "height": null,
            "justify_content": null,
            "justify_items": null,
            "left": null,
            "margin": null,
            "max_height": null,
            "max_width": null,
            "min_height": null,
            "min_width": null,
            "object_fit": null,
            "object_position": null,
            "order": null,
            "overflow": null,
            "overflow_x": null,
            "overflow_y": null,
            "padding": null,
            "right": null,
            "top": null,
            "visibility": null,
            "width": null
          }
        },
        "a3c1003675634684b57dd8fc72065fe9": {
          "model_module": "@jupyter-widgets/controls",
          "model_name": "DescriptionStyleModel",
          "model_module_version": "1.5.0",
          "state": {
            "_model_module": "@jupyter-widgets/controls",
            "_model_module_version": "1.5.0",
            "_model_name": "DescriptionStyleModel",
            "_view_count": null,
            "_view_module": "@jupyter-widgets/base",
            "_view_module_version": "1.2.0",
            "_view_name": "StyleView",
            "description_width": ""
          }
        },
        "5e3c8b46b4584221b1a62497c5688517": {
          "model_module": "@jupyter-widgets/controls",
          "model_name": "HBoxModel",
          "model_module_version": "1.5.0",
          "state": {
            "_dom_classes": [],
            "_model_module": "@jupyter-widgets/controls",
            "_model_module_version": "1.5.0",
            "_model_name": "HBoxModel",
            "_view_count": null,
            "_view_module": "@jupyter-widgets/controls",
            "_view_module_version": "1.5.0",
            "_view_name": "HBoxView",
            "box_style": "",
            "children": [
              "IPY_MODEL_02af243121d2482190cd5cd8f8b69212",
              "IPY_MODEL_83c3045c3aa14d7a8e9e097e7c0d732d",
              "IPY_MODEL_5474e0d31f0149b89c7abdea0068976c"
            ],
            "layout": "IPY_MODEL_d3de7ef7147046088ba5ce06c442639b"
          }
        },
        "02af243121d2482190cd5cd8f8b69212": {
          "model_module": "@jupyter-widgets/controls",
          "model_name": "HTMLModel",
          "model_module_version": "1.5.0",
          "state": {
            "_dom_classes": [],
            "_model_module": "@jupyter-widgets/controls",
            "_model_module_version": "1.5.0",
            "_model_name": "HTMLModel",
            "_view_count": null,
            "_view_module": "@jupyter-widgets/controls",
            "_view_module_version": "1.5.0",
            "_view_name": "HTMLView",
            "description": "",
            "description_tooltip": null,
            "layout": "IPY_MODEL_fde3dbbeffd5498da5ab7785cf31ff62",
            "placeholder": "​",
            "style": "IPY_MODEL_71afe684977544a2aad046a8734b6135",
            "value": "model.safetensors: 100%"
          }
        },
        "83c3045c3aa14d7a8e9e097e7c0d732d": {
          "model_module": "@jupyter-widgets/controls",
          "model_name": "FloatProgressModel",
          "model_module_version": "1.5.0",
          "state": {
            "_dom_classes": [],
            "_model_module": "@jupyter-widgets/controls",
            "_model_module_version": "1.5.0",
            "_model_name": "FloatProgressModel",
            "_view_count": null,
            "_view_module": "@jupyter-widgets/controls",
            "_view_module_version": "1.5.0",
            "_view_name": "ProgressView",
            "bar_style": "success",
            "description": "",
            "description_tooltip": null,
            "layout": "IPY_MODEL_e1ad247779e64ff9958588c1fd0c91b5",
            "max": 87356926,
            "min": 0,
            "orientation": "horizontal",
            "style": "IPY_MODEL_6548c408bf3141a89dae56322f3eab09",
            "value": 87356926
          }
        },
        "5474e0d31f0149b89c7abdea0068976c": {
          "model_module": "@jupyter-widgets/controls",
          "model_name": "HTMLModel",
          "model_module_version": "1.5.0",
          "state": {
            "_dom_classes": [],
            "_model_module": "@jupyter-widgets/controls",
            "_model_module_version": "1.5.0",
            "_model_name": "HTMLModel",
            "_view_count": null,
            "_view_module": "@jupyter-widgets/controls",
            "_view_module_version": "1.5.0",
            "_view_name": "HTMLView",
            "description": "",
            "description_tooltip": null,
            "layout": "IPY_MODEL_214a79f937be4b9f89d67408b2390be0",
            "placeholder": "​",
            "style": "IPY_MODEL_23286ad8508b46c3b4df92bc7a9354d3",
            "value": " 87.4M/87.4M [00:06&lt;00:00, 17.5MB/s]"
          }
        },
        "d3de7ef7147046088ba5ce06c442639b": {
          "model_module": "@jupyter-widgets/base",
          "model_name": "LayoutModel",
          "model_module_version": "1.2.0",
          "state": {
            "_model_module": "@jupyter-widgets/base",
            "_model_module_version": "1.2.0",
            "_model_name": "LayoutModel",
            "_view_count": null,
            "_view_module": "@jupyter-widgets/base",
            "_view_module_version": "1.2.0",
            "_view_name": "LayoutView",
            "align_content": null,
            "align_items": null,
            "align_self": null,
            "border": null,
            "bottom": null,
            "display": null,
            "flex": null,
            "flex_flow": null,
            "grid_area": null,
            "grid_auto_columns": null,
            "grid_auto_flow": null,
            "grid_auto_rows": null,
            "grid_column": null,
            "grid_gap": null,
            "grid_row": null,
            "grid_template_areas": null,
            "grid_template_columns": null,
            "grid_template_rows": null,
            "height": null,
            "justify_content": null,
            "justify_items": null,
            "left": null,
            "margin": null,
            "max_height": null,
            "max_width": null,
            "min_height": null,
            "min_width": null,
            "object_fit": null,
            "object_position": null,
            "order": null,
            "overflow": null,
            "overflow_x": null,
            "overflow_y": null,
            "padding": null,
            "right": null,
            "top": null,
            "visibility": null,
            "width": null
          }
        },
        "fde3dbbeffd5498da5ab7785cf31ff62": {
          "model_module": "@jupyter-widgets/base",
          "model_name": "LayoutModel",
          "model_module_version": "1.2.0",
          "state": {
            "_model_module": "@jupyter-widgets/base",
            "_model_module_version": "1.2.0",
            "_model_name": "LayoutModel",
            "_view_count": null,
            "_view_module": "@jupyter-widgets/base",
            "_view_module_version": "1.2.0",
            "_view_name": "LayoutView",
            "align_content": null,
            "align_items": null,
            "align_self": null,
            "border": null,
            "bottom": null,
            "display": null,
            "flex": null,
            "flex_flow": null,
            "grid_area": null,
            "grid_auto_columns": null,
            "grid_auto_flow": null,
            "grid_auto_rows": null,
            "grid_column": null,
            "grid_gap": null,
            "grid_row": null,
            "grid_template_areas": null,
            "grid_template_columns": null,
            "grid_template_rows": null,
            "height": null,
            "justify_content": null,
            "justify_items": null,
            "left": null,
            "margin": null,
            "max_height": null,
            "max_width": null,
            "min_height": null,
            "min_width": null,
            "object_fit": null,
            "object_position": null,
            "order": null,
            "overflow": null,
            "overflow_x": null,
            "overflow_y": null,
            "padding": null,
            "right": null,
            "top": null,
            "visibility": null,
            "width": null
          }
        },
        "71afe684977544a2aad046a8734b6135": {
          "model_module": "@jupyter-widgets/controls",
          "model_name": "DescriptionStyleModel",
          "model_module_version": "1.5.0",
          "state": {
            "_model_module": "@jupyter-widgets/controls",
            "_model_module_version": "1.5.0",
            "_model_name": "DescriptionStyleModel",
            "_view_count": null,
            "_view_module": "@jupyter-widgets/base",
            "_view_module_version": "1.2.0",
            "_view_name": "StyleView",
            "description_width": ""
          }
        },
        "e1ad247779e64ff9958588c1fd0c91b5": {
          "model_module": "@jupyter-widgets/base",
          "model_name": "LayoutModel",
          "model_module_version": "1.2.0",
          "state": {
            "_model_module": "@jupyter-widgets/base",
            "_model_module_version": "1.2.0",
            "_model_name": "LayoutModel",
            "_view_count": null,
            "_view_module": "@jupyter-widgets/base",
            "_view_module_version": "1.2.0",
            "_view_name": "LayoutView",
            "align_content": null,
            "align_items": null,
            "align_self": null,
            "border": null,
            "bottom": null,
            "display": null,
            "flex": null,
            "flex_flow": null,
            "grid_area": null,
            "grid_auto_columns": null,
            "grid_auto_flow": null,
            "grid_auto_rows": null,
            "grid_column": null,
            "grid_gap": null,
            "grid_row": null,
            "grid_template_areas": null,
            "grid_template_columns": null,
            "grid_template_rows": null,
            "height": null,
            "justify_content": null,
            "justify_items": null,
            "left": null,
            "margin": null,
            "max_height": null,
            "max_width": null,
            "min_height": null,
            "min_width": null,
            "object_fit": null,
            "object_position": null,
            "order": null,
            "overflow": null,
            "overflow_x": null,
            "overflow_y": null,
            "padding": null,
            "right": null,
            "top": null,
            "visibility": null,
            "width": null
          }
        },
        "6548c408bf3141a89dae56322f3eab09": {
          "model_module": "@jupyter-widgets/controls",
          "model_name": "ProgressStyleModel",
          "model_module_version": "1.5.0",
          "state": {
            "_model_module": "@jupyter-widgets/controls",
            "_model_module_version": "1.5.0",
            "_model_name": "ProgressStyleModel",
            "_view_count": null,
            "_view_module": "@jupyter-widgets/base",
            "_view_module_version": "1.2.0",
            "_view_name": "StyleView",
            "bar_color": null,
            "description_width": ""
          }
        },
        "214a79f937be4b9f89d67408b2390be0": {
          "model_module": "@jupyter-widgets/base",
          "model_name": "LayoutModel",
          "model_module_version": "1.2.0",
          "state": {
            "_model_module": "@jupyter-widgets/base",
            "_model_module_version": "1.2.0",
            "_model_name": "LayoutModel",
            "_view_count": null,
            "_view_module": "@jupyter-widgets/base",
            "_view_module_version": "1.2.0",
            "_view_name": "LayoutView",
            "align_content": null,
            "align_items": null,
            "align_self": null,
            "border": null,
            "bottom": null,
            "display": null,
            "flex": null,
            "flex_flow": null,
            "grid_area": null,
            "grid_auto_columns": null,
            "grid_auto_flow": null,
            "grid_auto_rows": null,
            "grid_column": null,
            "grid_gap": null,
            "grid_row": null,
            "grid_template_areas": null,
            "grid_template_columns": null,
            "grid_template_rows": null,
            "height": null,
            "justify_content": null,
            "justify_items": null,
            "left": null,
            "margin": null,
            "max_height": null,
            "max_width": null,
            "min_height": null,
            "min_width": null,
            "object_fit": null,
            "object_position": null,
            "order": null,
            "overflow": null,
            "overflow_x": null,
            "overflow_y": null,
            "padding": null,
            "right": null,
            "top": null,
            "visibility": null,
            "width": null
          }
        },
        "23286ad8508b46c3b4df92bc7a9354d3": {
          "model_module": "@jupyter-widgets/controls",
          "model_name": "DescriptionStyleModel",
          "model_module_version": "1.5.0",
          "state": {
            "_model_module": "@jupyter-widgets/controls",
            "_model_module_version": "1.5.0",
            "_model_name": "DescriptionStyleModel",
            "_view_count": null,
            "_view_module": "@jupyter-widgets/base",
            "_view_module_version": "1.2.0",
            "_view_name": "StyleView",
            "description_width": ""
          }
        }
      }
    }
  },
  "cells": [
    {
      "cell_type": "markdown",
      "source": [
        "# Сверточные нейронные сети. Аугментация данных. Библиотека timm"
      ],
      "metadata": {
        "id": "q5w0t_WlcoLp"
      }
    },
    {
      "cell_type": "markdown",
      "source": [
        "Мы обсудили различные архитектуры нейронных сетей. Теперь попробуем поговорить о том, как можно улучшить процедуру обучения путем аугментации данных.\n",
        "\n",
        "### Что такое аугментация данных?\n",
        "\n",
        "Картинки состоят из пикселей и содержат визуальную информацию. Пусть у нас есть картинка с характерным объектом на ней (например, попугаем).\n",
        "\n",
        "Сможем ли мы распознать попугая на ней, сделав некоторые изменения пикселей?\n",
        "\n",
        "![alt text](https://camo.githubusercontent.com/0a0cea2503f569ac965d9de888206b482d13ffe751c682638c730296a352e1ba/68747470733a2f2f686162726173746f726167652e6f72672f776562742f62642f6e652f72762f62646e6572763563746b75646d73617a6e687734637273646669772e6a706567)\n",
        "\n",
        "Подобные изменения картинки, сохраняющие при этом содержание изображения, называются аугментацией данных. Такая техника позволяет `схитрить`: фактически одна картинка под действием разных преобразований для нейросети становится большим количеством разных картинок.\n",
        "\n",
        "При этом мы не тратим ресурсы на разметку: на всех аугментированных картинках по-прежнему изображен попугай, и нам не требуется переразмечать это изображение.\n",
        "\n",
        "Для внедрения аугментаций подойдет библиотека [albumentations](https://albumentations.ai/)"
      ],
      "metadata": {
        "id": "FDakVjjdczAP"
      }
    },
    {
      "cell_type": "code",
      "source": [
        "import albumentations\n",
        "from albumentations.pytorch import ToTensorV2\n",
        "\n",
        "train_transform = albumentations.Compose(\n",
        "    [\n",
        "        albumentations.ShiftScaleRotate(shift_limit=0.05, scale_limit=0.05, rotate_limit=15, p=0.5),\n",
        "        #albumentations.RandomCrop(height=128, width=128),\n",
        "        albumentations.RGBShift(r_shift_limit=15, g_shift_limit=15, b_shift_limit=15, p=0.5),\n",
        "        albumentations.RandomBrightnessContrast(p=0.5),\n",
        "        #albumentations.Normalize(mean=(0.485, 0.456, 0.406), std=(0.229, 0.224, 0.225)),\n",
        "        #ToTensorV2(),\n",
        "    ]\n",
        ")"
      ],
      "metadata": {
        "id": "tOpQIb25cuUH"
      },
      "execution_count": 9,
      "outputs": []
    },
    {
      "cell_type": "code",
      "source": [
        "import cv2\n",
        "import matplotlib.pyplot as plt\n",
        "%matplotlib inline\n",
        "\n",
        "image = cv2.imread('test_image.png')[:,:,::-1]\n",
        "image_aug = []\n",
        "for i in range(10):\n",
        "    image_aug.append(train_transform(image=image)['image'])"
      ],
      "metadata": {
        "id": "qNTwb-18rLmy"
      },
      "execution_count": 11,
      "outputs": []
    },
    {
      "cell_type": "code",
      "source": [
        "fig, ax = plt.subplots(1,10)\n",
        "for i in range(10):\n",
        "    ax[i].imshow(image_aug[i])\n",
        "    ax[i].axis('off')"
      ],
      "metadata": {
        "colab": {
          "base_uri": "https://localhost:8080/",
          "height": 79
        },
        "id": "KXJa8nd1rTB6",
        "outputId": "889967c4-898a-465b-981a-560dc3a3a413"
      },
      "execution_count": 15,
      "outputs": [
        {
          "output_type": "display_data",
          "data": {
            "text/plain": [
              "<Figure size 640x480 with 10 Axes>"
            ],
            "image/png": "[encoded data removed]"
          },
          "metadata": {}
        }
      ]
    },
    {
      "cell_type": "markdown",
      "source": [
        "Важно учесть, что аугментация **не используется** для валидационного (тестового) датасета!"
      ],
      "metadata": {
        "id": "0uBeP4Trbev_"
      }
    },
    {
      "cell_type": "code",
      "source": [
        "val_transform = albumentations.Compose(\n",
        "    [\n",
        "        albumentations.Normalize(mean=(0.485, 0.456, 0.406), std=(0.229, 0.224, 0.225)),\n",
        "        ToTensorV2(),\n",
        "    ]\n",
        ")"
      ],
      "metadata": {
        "id": "1pj3kJIsbnDC"
      },
      "execution_count": 16,
      "outputs": []
    },
    {
      "cell_type": "markdown",
      "source": [
        "## Библиотека timm"
      ],
      "metadata": {
        "id": "PQf0MQc5b_Bu"
      }
    },
    {
      "cell_type": "markdown",
      "source": [
        "Мы говорили на лекции о различных архитектурах сверточных нейронных сетей для задачи компьютерного зрения.\n",
        "\n",
        "На сегодняшний момент часто нам нет необходимости писать код для известных нейросетей с нуля - они давно интегрированы в разные библиотеки. Сегодня мы поговорим о библиотеке [timm](https://timm.fast.ai/).\n",
        "\n",
        "Библиотека `timm` активно развивается, и в нее интегрируются все современные и популярные нейросети для работы с изображениями (по мере их публикации). Также, библиотека `timm` самостоятельно умеет подгружать веса для предобученных моделей (если таковые имеются в открытом публичном доступе).\n",
        "\n",
        "## Установка `timm`\n",
        "\n",
        "Устанавливается библиотека просто: `pip install timm`"
      ],
      "metadata": {
        "id": "h9SEUhVKcGAz"
      }
    },
    {
      "cell_type": "markdown",
      "source": [
        "Примеры"
      ],
      "metadata": {
        "id": "PQkN2NWldKsb"
      }
    },
    {
      "cell_type": "code",
      "source": [
        "!pip install timm"
      ],
      "metadata": {
        "colab": {
          "base_uri": "https://localhost:8080/"
        },
        "id": "aA5GhmbrtGP4",
        "outputId": "ca1dec39-5216-44c3-fd18-07703aaef496"
      },
      "execution_count": 18,
      "outputs": [
        {
          "output_type": "stream",
          "name": "stdout",
          "text": [
            "Collecting timm\n",
            "  Downloading timm-1.0.8-py3-none-any.whl.metadata (53 kB)\n",
            "\u001b[?25l     \u001b[90m━━━━━━━━━━━━━━━━━━━━━━━━━━━━━━━━━━━━━━━━\u001b[0m \u001b[32m0.0/53.8 kB\u001b[0m \u001b[31m?\u001b[0m eta \u001b[36m-:--:--\u001b[0m\r\u001b[2K     \u001b[90m━━━━━━━━━━━━━━━━━━━━━━━━━━━━━━━━━━━━━━━━\u001b[0m \u001b[32m53.8/53.8 kB\u001b[0m \u001b[31m3.7 MB/s\u001b[0m eta \u001b[36m0:00:00\u001b[0m\n",
            "\u001b[?25hRequirement already satisfied: torch in /usr/local/lib/python3.10/dist-packages (from timm) (2.3.1+cu121)\n",
            "Requirement already satisfied: torchvision in /usr/local/lib/python3.10/dist-packages (from timm) (0.18.1+cu121)\n",
            "Requirement already satisfied: pyyaml in /usr/local/lib/python3.10/dist-packages (from timm) (6.0.2)\n",
            "Requirement already satisfied: huggingface_hub in /usr/local/lib/python3.10/dist-packages (from timm) (0.23.5)\n",
            "Requirement already satisfied: safetensors in /usr/local/lib/python3.10/dist-packages (from timm) (0.4.4)\n",
            "Requirement already satisfied: filelock in /usr/local/lib/python3.10/dist-packages (from huggingface_hub->timm) (3.15.4)\n",
            "Requirement already satisfied: fsspec>=2023.5.0 in /usr/local/lib/python3.10/dist-packages (from huggingface_hub->timm) (2024.6.1)\n",
            "Requirement already satisfied: packaging>=20.9 in /usr/local/lib/python3.10/dist-packages (from huggingface_hub->timm) (24.1)\n",
            "Requirement already satisfied: requests in /usr/local/lib/python3.10/dist-packages (from huggingface_hub->timm) (2.32.3)\n",
            "Requirement already satisfied: tqdm>=4.42.1 in /usr/local/lib/python3.10/dist-packages (from huggingface_hub->timm) (4.66.5)\n",
            "Requirement already satisfied: typing-extensions>=3.7.4.3 in /usr/local/lib/python3.10/dist-packages (from huggingface_hub->timm) (4.12.2)\n",
            "Requirement already satisfied: sympy in /usr/local/lib/python3.10/dist-packages (from torch->timm) (1.13.2)\n",
            "Requirement already satisfied: networkx in /usr/local/lib/python3.10/dist-packages (from torch->timm) (3.3)\n",
            "Requirement already satisfied: jinja2 in /usr/local/lib/python3.10/dist-packages (from torch->timm) (3.1.4)\n",
            "Collecting nvidia-cuda-nvrtc-cu12==12.1.105 (from torch->timm)\n",
            "  Using cached nvidia_cuda_nvrtc_cu12-12.1.105-py3-none-manylinux1_x86_64.whl.metadata (1.5 kB)\n",
            "Collecting nvidia-cuda-runtime-cu12==12.1.105 (from torch->timm)\n",
            "  Using cached nvidia_cuda_runtime_cu12-12.1.105-py3-none-manylinux1_x86_64.whl.metadata (1.5 kB)\n",
            "Collecting nvidia-cuda-cupti-cu12==12.1.105 (from torch->timm)\n",
            "  Using cached nvidia_cuda_cupti_cu12-12.1.105-py3-none-manylinux1_x86_64.whl.metadata (1.6 kB)\n",
            "Collecting nvidia-cudnn-cu12==8.9.2.26 (from torch->timm)\n",
            "  Using cached nvidia_cudnn_cu12-8.9.2.26-py3-none-manylinux1_x86_64.whl.metadata (1.6 kB)\n",
            "Collecting nvidia-cublas-cu12==12.1.3.1 (from torch->timm)\n",
            "  Using cached nvidia_cublas_cu12-12.1.3.1-py3-none-manylinux1_x86_64.whl.metadata (1.5 kB)\n",
            "Collecting nvidia-cufft-cu12==11.0.2.54 (from torch->timm)\n",
            "  Using cached nvidia_cufft_cu12-11.0.2.54-py3-none-manylinux1_x86_64.whl.metadata (1.5 kB)\n",
            "Collecting nvidia-curand-cu12==10.3.2.106 (from torch->timm)\n",
            "  Using cached nvidia_curand_cu12-10.3.2.106-py3-none-manylinux1_x86_64.whl.metadata (1.5 kB)\n",
            "Collecting nvidia-cusolver-cu12==11.4.5.107 (from torch->timm)\n",
            "  Using cached nvidia_cusolver_cu12-11.4.5.107-py3-none-manylinux1_x86_64.whl.metadata (1.6 kB)\n",
            "Collecting nvidia-cusparse-cu12==12.1.0.106 (from torch->timm)\n",
            "  Using cached nvidia_cusparse_cu12-12.1.0.106-py3-none-manylinux1_x86_64.whl.metadata (1.6 kB)\n",
            "Collecting nvidia-nccl-cu12==2.20.5 (from torch->timm)\n",
            "  Using cached nvidia_nccl_cu12-2.20.5-py3-none-manylinux2014_x86_64.whl.metadata (1.8 kB)\n",
            "Collecting nvidia-nvtx-cu12==12.1.105 (from torch->timm)\n",
            "  Using cached nvidia_nvtx_cu12-12.1.105-py3-none-manylinux1_x86_64.whl.metadata (1.7 kB)\n",
            "Requirement already satisfied: triton==2.3.1 in /usr/local/lib/python3.10/dist-packages (from torch->timm) (2.3.1)\n",
            "Collecting nvidia-nvjitlink-cu12 (from nvidia-cusolver-cu12==11.4.5.107->torch->timm)\n",
            "  Using cached nvidia_nvjitlink_cu12-12.6.20-py3-none-manylinux2014_x86_64.whl.metadata (1.5 kB)\n",
            "Requirement already satisfied: numpy in /usr/local/lib/python3.10/dist-packages (from torchvision->timm) (1.26.4)\n",
            "Requirement already satisfied: pillow!=8.3.*,>=5.3.0 in /usr/local/lib/python3.10/dist-packages (from torchvision->timm) (9.4.0)\n",
            "Requirement already satisfied: MarkupSafe>=2.0 in /usr/local/lib/python3.10/dist-packages (from jinja2->torch->timm) (2.1.5)\n",
            "Requirement already satisfied: charset-normalizer<4,>=2 in /usr/local/lib/python3.10/dist-packages (from requests->huggingface_hub->timm) (3.3.2)\n",
            "Requirement already satisfied: idna<4,>=2.5 in /usr/local/lib/python3.10/dist-packages (from requests->huggingface_hub->timm) (3.7)\n",
            "Requirement already satisfied: urllib3<3,>=1.21.1 in /usr/local/lib/python3.10/dist-packages (from requests->huggingface_hub->timm) (2.0.7)\n",
            "Requirement already satisfied: certifi>=2017.4.17 in /usr/local/lib/python3.10/dist-packages (from requests->huggingface_hub->timm) (2024.7.4)\n",
            "Requirement already satisfied: mpmath<1.4,>=1.1.0 in /usr/local/lib/python3.10/dist-packages (from sympy->torch->timm) (1.3.0)\n",
            "Downloading timm-1.0.8-py3-none-any.whl (2.3 MB)\n",
            "\u001b[2K   \u001b[90m━━━━━━━━━━━━━━━━━━━━━━━━━━━━━━━━━━━━━━━━\u001b[0m \u001b[32m2.3/2.3 MB\u001b[0m \u001b[31m70.8 MB/s\u001b[0m eta \u001b[36m0:00:00\u001b[0m\n",
            "\u001b[?25hUsing cached nvidia_cublas_cu12-12.1.3.1-py3-none-manylinux1_x86_64.whl (410.6 MB)\n",
            "Using cached nvidia_cuda_cupti_cu12-12.1.105-py3-none-manylinux1_x86_64.whl (14.1 MB)\n",
            "Using cached nvidia_cuda_nvrtc_cu12-12.1.105-py3-none-manylinux1_x86_64.whl (23.7 MB)\n",
            "Using cached nvidia_cuda_runtime_cu12-12.1.105-py3-none-manylinux1_x86_64.whl (823 kB)\n",
            "Using cached nvidia_cudnn_cu12-8.9.2.26-py3-none-manylinux1_x86_64.whl (731.7 MB)\n",
            "Using cached nvidia_cufft_cu12-11.0.2.54-py3-none-manylinux1_x86_64.whl (121.6 MB)\n",
            "Using cached nvidia_curand_cu12-10.3.2.106-py3-none-manylinux1_x86_64.whl (56.5 MB)\n",
            "Using cached nvidia_cusolver_cu12-11.4.5.107-py3-none-manylinux1_x86_64.whl (124.2 MB)\n",
            "Using cached nvidia_cusparse_cu12-12.1.0.106-py3-none-manylinux1_x86_64.whl (196.0 MB)\n",
            "Using cached nvidia_nccl_cu12-2.20.5-py3-none-manylinux2014_x86_64.whl (176.2 MB)\n",
            "Using cached nvidia_nvtx_cu12-12.1.105-py3-none-manylinux1_x86_64.whl (99 kB)\n",
            "Using cached nvidia_nvjitlink_cu12-12.6.20-py3-none-manylinux2014_x86_64.whl (19.7 MB)\n",
            "Installing collected packages: nvidia-nvtx-cu12, nvidia-nvjitlink-cu12, nvidia-nccl-cu12, nvidia-curand-cu12, nvidia-cufft-cu12, nvidia-cuda-runtime-cu12, nvidia-cuda-nvrtc-cu12, nvidia-cuda-cupti-cu12, nvidia-cublas-cu12, nvidia-cusparse-cu12, nvidia-cudnn-cu12, nvidia-cusolver-cu12, timm\n",
            "Successfully installed nvidia-cublas-cu12-12.1.3.1 nvidia-cuda-cupti-cu12-12.1.105 nvidia-cuda-nvrtc-cu12-12.1.105 nvidia-cuda-runtime-cu12-12.1.105 nvidia-cudnn-cu12-8.9.2.26 nvidia-cufft-cu12-11.0.2.54 nvidia-curand-cu12-10.3.2.106 nvidia-cusolver-cu12-11.4.5.107 nvidia-cusparse-cu12-12.1.0.106 nvidia-nccl-cu12-2.20.5 nvidia-nvjitlink-cu12-12.6.20 nvidia-nvtx-cu12-12.1.105 timm-1.0.8\n"
          ]
        }
      ]
    },
    {
      "cell_type": "code",
      "source": [
        "import timm\n"
      ],
      "metadata": {
        "id": "kpaSKoYMcE6u"
      },
      "execution_count": 19,
      "outputs": []
    },
    {
      "cell_type": "code",
      "source": [
        "# Example 1:\n",
        "# List all architectures which names contains 'resnet'.\n",
        "timm.list_models(\"*resnet*\")"
      ],
      "metadata": {
        "id": "wAUkDQUzdP2C",
        "colab": {
          "base_uri": "https://localhost:8080/"
        },
        "outputId": "bb4441c8-48db-435f-ba60-e3859e930d83"
      },
      "execution_count": 20,
      "outputs": [
        {
          "output_type": "execute_result",
          "data": {
            "text/plain": [
              "['cspresnet50',\n",
              " 'cspresnet50d',\n",
              " 'cspresnet50w',\n",
              " 'eca_resnet33ts',\n",
              " 'ecaresnet26t',\n",
              " 'ecaresnet50d',\n",
              " 'ecaresnet50d_pruned',\n",
              " 'ecaresnet50t',\n",
              " 'ecaresnet101d',\n",
              " 'ecaresnet101d_pruned',\n",
              " 'ecaresnet200d',\n",
              " 'ecaresnet269d',\n",
              " 'ecaresnetlight',\n",
              " 'gcresnet33ts',\n",
              " 'gcresnet50t',\n",
              " 'inception_resnet_v2',\n",
              " 'lambda_resnet26rpt_256',\n",
              " 'lambda_resnet26t',\n",
              " 'lambda_resnet50ts',\n",
              " 'legacy_seresnet18',\n",
              " 'legacy_seresnet34',\n",
              " 'legacy_seresnet50',\n",
              " 'legacy_seresnet101',\n",
              " 'legacy_seresnet152',\n",
              " 'nf_ecaresnet26',\n",
              " 'nf_ecaresnet50',\n",
              " 'nf_ecaresnet101',\n",
              " 'nf_resnet26',\n",
              " 'nf_resnet50',\n",
              " 'nf_resnet101',\n",
              " 'nf_seresnet26',\n",
              " 'nf_seresnet50',\n",
              " 'nf_seresnet101',\n",
              " 'resnet10t',\n",
              " 'resnet14t',\n",
              " 'resnet18',\n",
              " 'resnet18d',\n",
              " 'resnet26',\n",
              " 'resnet26d',\n",
              " 'resnet26t',\n",
              " 'resnet32ts',\n",
              " 'resnet33ts',\n",
              " 'resnet34',\n",
              " 'resnet34d',\n",
              " 'resnet50',\n",
              " 'resnet50_clip',\n",
              " 'resnet50_clip_gap',\n",
              " 'resnet50_gn',\n",
              " 'resnet50_mlp',\n",
              " 'resnet50c',\n",
              " 'resnet50d',\n",
              " 'resnet50s',\n",
              " 'resnet50t',\n",
              " 'resnet50x4_clip',\n",
              " 'resnet50x4_clip_gap',\n",
              " 'resnet50x16_clip',\n",
              " 'resnet50x16_clip_gap',\n",
              " 'resnet50x64_clip',\n",
              " 'resnet50x64_clip_gap',\n",
              " 'resnet51q',\n",
              " 'resnet61q',\n",
              " 'resnet101',\n",
              " 'resnet101_clip',\n",
              " 'resnet101_clip_gap',\n",
              " 'resnet101c',\n",
              " 'resnet101d',\n",
              " 'resnet101s',\n",
              " 'resnet152',\n",
              " 'resnet152c',\n",
              " 'resnet152d',\n",
              " 'resnet152s',\n",
              " 'resnet200',\n",
              " 'resnet200d',\n",
              " 'resnetaa34d',\n",
              " 'resnetaa50',\n",
              " 'resnetaa50d',\n",
              " 'resnetaa101d',\n",
              " 'resnetblur18',\n",
              " 'resnetblur50',\n",
              " 'resnetblur50d',\n",
              " 'resnetblur101d',\n",
              " 'resnetrs50',\n",
              " 'resnetrs101',\n",
              " 'resnetrs152',\n",
              " 'resnetrs200',\n",
              " 'resnetrs270',\n",
              " 'resnetrs350',\n",
              " 'resnetrs420',\n",
              " 'resnetv2_50',\n",
              " 'resnetv2_50d',\n",
              " 'resnetv2_50d_evos',\n",
              " 'resnetv2_50d_frn',\n",
              " 'resnetv2_50d_gn',\n",
              " 'resnetv2_50t',\n",
              " 'resnetv2_50x1_bit',\n",
              " 'resnetv2_50x3_bit',\n",
              " 'resnetv2_101',\n",
              " 'resnetv2_101d',\n",
              " 'resnetv2_101x1_bit',\n",
              " 'resnetv2_101x3_bit',\n",
              " 'resnetv2_152',\n",
              " 'resnetv2_152d',\n",
              " 'resnetv2_152x2_bit',\n",
              " 'resnetv2_152x4_bit',\n",
              " 'seresnet18',\n",
              " 'seresnet33ts',\n",
              " 'seresnet34',\n",
              " 'seresnet50',\n",
              " 'seresnet50t',\n",
              " 'seresnet101',\n",
              " 'seresnet152',\n",
              " 'seresnet152d',\n",
              " 'seresnet200d',\n",
              " 'seresnet269d',\n",
              " 'seresnetaa50d',\n",
              " 'skresnet18',\n",
              " 'skresnet34',\n",
              " 'skresnet50',\n",
              " 'skresnet50d',\n",
              " 'tresnet_l',\n",
              " 'tresnet_m',\n",
              " 'tresnet_v2_l',\n",
              " 'tresnet_xl',\n",
              " 'vit_base_resnet26d_224',\n",
              " 'vit_base_resnet50d_224',\n",
              " 'vit_small_resnet26d_224',\n",
              " 'vit_small_resnet50d_s16_224',\n",
              " 'wide_resnet50_2',\n",
              " 'wide_resnet101_2']"
            ]
          },
          "metadata": {},
          "execution_count": 20
        }
      ]
    },
    {
      "cell_type": "code",
      "source": [
        "# Example 2:\n",
        "# List all models which have pretrained weights.\n",
        "timm.list_models(pretrained=True)[:5]"
      ],
      "metadata": {
        "id": "nU8DhZ09dQ3S",
        "colab": {
          "base_uri": "https://localhost:8080/"
        },
        "outputId": "aacedf4e-2093-49c2-c713-c92a90caa2ec"
      },
      "execution_count": 22,
      "outputs": [
        {
          "output_type": "execute_result",
          "data": {
            "text/plain": [
              "['bat_resnext26ts.ch_in1k',\n",
              " 'beit_base_patch16_224.in22k_ft_in22k',\n",
              " 'beit_base_patch16_224.in22k_ft_in22k_in1k',\n",
              " 'beit_base_patch16_384.in22k_ft_in22k_in1k',\n",
              " 'beit_large_patch16_224.in22k_ft_in22k']"
            ]
          },
          "metadata": {},
          "execution_count": 22
        }
      ]
    },
    {
      "cell_type": "code",
      "source": [
        "\n",
        "model = timm.create_model(\n",
        "  # название архитектуры\n",
        "  model_name=\"resnet34.a1_in1k\",\n",
        "\n",
        "  # использовать ли веса предобученной модели\n",
        "  pretrained=True,\n",
        "\n",
        "  # использовать ли только те функции, которые можно экспортировать\n",
        "  # в универсальный формат весов нейросетей (важно для кроссплатформенной поддержки)\n",
        "  exportable=True,\n",
        "\n",
        "  # желаемое количество классов (в случае регрессии - 1 класс)\n",
        "  num_classes=10,\n",
        "\n",
        "  # количество входных каналов у картинки (у цветных - 3, у ч/б - 1)\n",
        "  in_chans=3,\n",
        "\n",
        "  # Тип пулинга в конце сверточной части.\n",
        "  # Опции:\n",
        "  # \"avg\" - global average pooling;\n",
        "  # \"max\" - global max pooling;\n",
        "  # \"avgmax\" - mean of global average pooling and global max pooling;\n",
        "  # \"catavgmax\" - concatenated average pooling and max pooling.\n",
        "  global_pool=\"avg\",\n",
        "\n",
        "  # вероятность дроп-аута (у некоторых моделей, только в полносвязных слоях)\n",
        "  drop_rate=0.1\n",
        ")"
      ],
      "metadata": {
        "id": "jrYUzAYkdcIA",
        "colab": {
          "base_uri": "https://localhost:8080/",
          "height": 181,
          "referenced_widgets": [
            "91729a6cdf2e4ad9ad9a4c1f917b28a4",
            "3ebdac42a7924e96b6ae91e58e93369e",
            "bd71e4b2495543e18c2ed950246157bc",
            "77a9d14af0334679bca7874df042ac01",
            "57642db85954422cbc7038c673d9b6c6",
            "75d47c598b19487bba9471c4bf5c8c32",
            "52f547d904de4095abf332ba7383f123",
            "140ef96356e444e484b0d51c91828b0e",
            "81ca4834f60440ffb97cecda01e8fbe0",
            "2436ece9b9f041a5abd1ccb358cc86da",
            "a3c1003675634684b57dd8fc72065fe9"
          ]
        },
        "outputId": "a5da3985-06c1-4d0f-c4a8-db835c8277c3"
      },
      "execution_count": 23,
      "outputs": [
        {
          "output_type": "stream",
          "name": "stderr",
          "text": [
            "/usr/local/lib/python3.10/dist-packages/huggingface_hub/utils/_token.py:89: UserWarning: \n",
            "The secret `HF_TOKEN` does not exist in your Colab secrets.\n",
            "To authenticate with the Hugging Face Hub, create a token in your settings tab (https://huggingface.co/settings/tokens), set it as secret in your Google Colab and restart your session.\n",
            "You will be able to reuse this secret in all of your notebooks.\n",
            "Please note that authentication is recommended but still optional to access public models or datasets.\n",
            "  warnings.warn(\n"
          ]
        },
        {
          "output_type": "display_data",
          "data": {
            "text/plain": [
              "model.safetensors:   0%|          | 0.00/87.3M [00:00<?, ?B/s]"
            ],
            "application/vnd.jupyter.widget-view+json": {
              "version_major": 2,
              "version_minor": 0,
              "model_id": "91729a6cdf2e4ad9ad9a4c1f917b28a4"
            }
          },
          "metadata": {}
        }
      ]
    },
    {
      "cell_type": "code",
      "source": [
        "model.cuda()"
      ],
      "metadata": {
        "colab": {
          "base_uri": "https://localhost:8080/"
        },
        "id": "4Zk2_2qnvTBM",
        "outputId": "5fd8ec3c-d21f-43e6-b482-7864fb4eb684"
      },
      "execution_count": 25,
      "outputs": [
        {
          "output_type": "execute_result",
          "data": {
            "text/plain": [
              "ResNet(\n",
              "  (conv1): Conv2d(3, 64, kernel_size=(7, 7), stride=(2, 2), padding=(3, 3), bias=False)\n",
              "  (bn1): BatchNorm2d(64, eps=1e-05, momentum=0.1, affine=True, track_running_stats=True)\n",
              "  (act1): ReLU(inplace=True)\n",
              "  (maxpool): MaxPool2d(kernel_size=3, stride=2, padding=1, dilation=1, ceil_mode=False)\n",
              "  (layer1): Sequential(\n",
              "    (0): BasicBlock(\n",
              "      (conv1): Conv2d(64, 64, kernel_size=(3, 3), stride=(1, 1), padding=(1, 1), bias=False)\n",
              "      (bn1): BatchNorm2d(64, eps=1e-05, momentum=0.1, affine=True, track_running_stats=True)\n",
              "      (drop_block): Identity()\n",
              "      (act1): ReLU(inplace=True)\n",
              "      (aa): Identity()\n",
              "      (conv2): Conv2d(64, 64, kernel_size=(3, 3), stride=(1, 1), padding=(1, 1), bias=False)\n",
              "      (bn2): BatchNorm2d(64, eps=1e-05, momentum=0.1, affine=True, track_running_stats=True)\n",
              "      (act2): ReLU(inplace=True)\n",
              "    )\n",
              "    (1): BasicBlock(\n",
              "      (conv1): Conv2d(64, 64, kernel_size=(3, 3), stride=(1, 1), padding=(1, 1), bias=False)\n",
              "      (bn1): BatchNorm2d(64, eps=1e-05, momentum=0.1, affine=True, track_running_stats=True)\n",
              "      (drop_block): Identity()\n",
              "      (act1): ReLU(inplace=True)\n",
              "      (aa): Identity()\n",
              "      (conv2): Conv2d(64, 64, kernel_size=(3, 3), stride=(1, 1), padding=(1, 1), bias=False)\n",
              "      (bn2): BatchNorm2d(64, eps=1e-05, momentum=0.1, affine=True, track_running_stats=True)\n",
              "      (act2): ReLU(inplace=True)\n",
              "    )\n",
              "    (2): BasicBlock(\n",
              "      (conv1): Conv2d(64, 64, kernel_size=(3, 3), stride=(1, 1), padding=(1, 1), bias=False)\n",
              "      (bn1): BatchNorm2d(64, eps=1e-05, momentum=0.1, affine=True, track_running_stats=True)\n",
              "      (drop_block): Identity()\n",
              "      (act1): ReLU(inplace=True)\n",
              "      (aa): Identity()\n",
              "      (conv2): Conv2d(64, 64, kernel_size=(3, 3), stride=(1, 1), padding=(1, 1), bias=False)\n",
              "      (bn2): BatchNorm2d(64, eps=1e-05, momentum=0.1, affine=True, track_running_stats=True)\n",
              "      (act2): ReLU(inplace=True)\n",
              "    )\n",
              "  )\n",
              "  (layer2): Sequential(\n",
              "    (0): BasicBlock(\n",
              "      (conv1): Conv2d(64, 128, kernel_size=(3, 3), stride=(2, 2), padding=(1, 1), bias=False)\n",
              "      (bn1): BatchNorm2d(128, eps=1e-05, momentum=0.1, affine=True, track_running_stats=True)\n",
              "      (drop_block): Identity()\n",
              "      (act1): ReLU(inplace=True)\n",
              "      (aa): Identity()\n",
              "      (conv2): Conv2d(128, 128, kernel_size=(3, 3), stride=(1, 1), padding=(1, 1), bias=False)\n",
              "      (bn2): BatchNorm2d(128, eps=1e-05, momentum=0.1, affine=True, track_running_stats=True)\n",
              "      (act2): ReLU(inplace=True)\n",
              "      (downsample): Sequential(\n",
              "        (0): Conv2d(64, 128, kernel_size=(1, 1), stride=(2, 2), bias=False)\n",
              "        (1): BatchNorm2d(128, eps=1e-05, momentum=0.1, affine=True, track_running_stats=True)\n",
              "      )\n",
              "    )\n",
              "    (1): BasicBlock(\n",
              "      (conv1): Conv2d(128, 128, kernel_size=(3, 3), stride=(1, 1), padding=(1, 1), bias=False)\n",
              "      (bn1): BatchNorm2d(128, eps=1e-05, momentum=0.1, affine=True, track_running_stats=True)\n",
              "      (drop_block): Identity()\n",
              "      (act1): ReLU(inplace=True)\n",
              "      (aa): Identity()\n",
              "      (conv2): Conv2d(128, 128, kernel_size=(3, 3), stride=(1, 1), padding=(1, 1), bias=False)\n",
              "      (bn2): BatchNorm2d(128, eps=1e-05, momentum=0.1, affine=True, track_running_stats=True)\n",
              "      (act2): ReLU(inplace=True)\n",
              "    )\n",
              "    (2): BasicBlock(\n",
              "      (conv1): Conv2d(128, 128, kernel_size=(3, 3), stride=(1, 1), padding=(1, 1), bias=False)\n",
              "      (bn1): BatchNorm2d(128, eps=1e-05, momentum=0.1, affine=True, track_running_stats=True)\n",
              "      (drop_block): Identity()\n",
              "      (act1): ReLU(inplace=True)\n",
              "      (aa): Identity()\n",
              "      (conv2): Conv2d(128, 128, kernel_size=(3, 3), stride=(1, 1), padding=(1, 1), bias=False)\n",
              "      (bn2): BatchNorm2d(128, eps=1e-05, momentum=0.1, affine=True, track_running_stats=True)\n",
              "      (act2): ReLU(inplace=True)\n",
              "    )\n",
              "    (3): BasicBlock(\n",
              "      (conv1): Conv2d(128, 128, kernel_size=(3, 3), stride=(1, 1), padding=(1, 1), bias=False)\n",
              "      (bn1): BatchNorm2d(128, eps=1e-05, momentum=0.1, affine=True, track_running_stats=True)\n",
              "      (drop_block): Identity()\n",
              "      (act1): ReLU(inplace=True)\n",
              "      (aa): Identity()\n",
              "      (conv2): Conv2d(128, 128, kernel_size=(3, 3), stride=(1, 1), padding=(1, 1), bias=False)\n",
              "      (bn2): BatchNorm2d(128, eps=1e-05, momentum=0.1, affine=True, track_running_stats=True)\n",
              "      (act2): ReLU(inplace=True)\n",
              "    )\n",
              "  )\n",
              "  (layer3): Sequential(\n",
              "    (0): BasicBlock(\n",
              "      (conv1): Conv2d(128, 256, kernel_size=(3, 3), stride=(2, 2), padding=(1, 1), bias=False)\n",
              "      (bn1): BatchNorm2d(256, eps=1e-05, momentum=0.1, affine=True, track_running_stats=True)\n",
              "      (drop_block): Identity()\n",
              "      (act1): ReLU(inplace=True)\n",
              "      (aa): Identity()\n",
              "      (conv2): Conv2d(256, 256, kernel_size=(3, 3), stride=(1, 1), padding=(1, 1), bias=False)\n",
              "      (bn2): BatchNorm2d(256, eps=1e-05, momentum=0.1, affine=True, track_running_stats=True)\n",
              "      (act2): ReLU(inplace=True)\n",
              "      (downsample): Sequential(\n",
              "        (0): Conv2d(128, 256, kernel_size=(1, 1), stride=(2, 2), bias=False)\n",
              "        (1): BatchNorm2d(256, eps=1e-05, momentum=0.1, affine=True, track_running_stats=True)\n",
              "      )\n",
              "    )\n",
              "    (1): BasicBlock(\n",
              "      (conv1): Conv2d(256, 256, kernel_size=(3, 3), stride=(1, 1), padding=(1, 1), bias=False)\n",
              "      (bn1): BatchNorm2d(256, eps=1e-05, momentum=0.1, affine=True, track_running_stats=True)\n",
              "      (drop_block): Identity()\n",
              "      (act1): ReLU(inplace=True)\n",
              "      (aa): Identity()\n",
              "      (conv2): Conv2d(256, 256, kernel_size=(3, 3), stride=(1, 1), padding=(1, 1), bias=False)\n",
              "      (bn2): BatchNorm2d(256, eps=1e-05, momentum=0.1, affine=True, track_running_stats=True)\n",
              "      (act2): ReLU(inplace=True)\n",
              "    )\n",
              "    (2): BasicBlock(\n",
              "      (conv1): Conv2d(256, 256, kernel_size=(3, 3), stride=(1, 1), padding=(1, 1), bias=False)\n",
              "      (bn1): BatchNorm2d(256, eps=1e-05, momentum=0.1, affine=True, track_running_stats=True)\n",
              "      (drop_block): Identity()\n",
              "      (act1): ReLU(inplace=True)\n",
              "      (aa): Identity()\n",
              "      (conv2): Conv2d(256, 256, kernel_size=(3, 3), stride=(1, 1), padding=(1, 1), bias=False)\n",
              "      (bn2): BatchNorm2d(256, eps=1e-05, momentum=0.1, affine=True, track_running_stats=True)\n",
              "      (act2): ReLU(inplace=True)\n",
              "    )\n",
              "    (3): BasicBlock(\n",
              "      (conv1): Conv2d(256, 256, kernel_size=(3, 3), stride=(1, 1), padding=(1, 1), bias=False)\n",
              "      (bn1): BatchNorm2d(256, eps=1e-05, momentum=0.1, affine=True, track_running_stats=True)\n",
              "      (drop_block): Identity()\n",
              "      (act1): ReLU(inplace=True)\n",
              "      (aa): Identity()\n",
              "      (conv2): Conv2d(256, 256, kernel_size=(3, 3), stride=(1, 1), padding=(1, 1), bias=False)\n",
              "      (bn2): BatchNorm2d(256, eps=1e-05, momentum=0.1, affine=True, track_running_stats=True)\n",
              "      (act2): ReLU(inplace=True)\n",
              "    )\n",
              "    (4): BasicBlock(\n",
              "      (conv1): Conv2d(256, 256, kernel_size=(3, 3), stride=(1, 1), padding=(1, 1), bias=False)\n",
              "      (bn1): BatchNorm2d(256, eps=1e-05, momentum=0.1, affine=True, track_running_stats=True)\n",
              "      (drop_block): Identity()\n",
              "      (act1): ReLU(inplace=True)\n",
              "      (aa): Identity()\n",
              "      (conv2): Conv2d(256, 256, kernel_size=(3, 3), stride=(1, 1), padding=(1, 1), bias=False)\n",
              "      (bn2): BatchNorm2d(256, eps=1e-05, momentum=0.1, affine=True, track_running_stats=True)\n",
              "      (act2): ReLU(inplace=True)\n",
              "    )\n",
              "    (5): BasicBlock(\n",
              "      (conv1): Conv2d(256, 256, kernel_size=(3, 3), stride=(1, 1), padding=(1, 1), bias=False)\n",
              "      (bn1): BatchNorm2d(256, eps=1e-05, momentum=0.1, affine=True, track_running_stats=True)\n",
              "      (drop_block): Identity()\n",
              "      (act1): ReLU(inplace=True)\n",
              "      (aa): Identity()\n",
              "      (conv2): Conv2d(256, 256, kernel_size=(3, 3), stride=(1, 1), padding=(1, 1), bias=False)\n",
              "      (bn2): BatchNorm2d(256, eps=1e-05, momentum=0.1, affine=True, track_running_stats=True)\n",
              "      (act2): ReLU(inplace=True)\n",
              "    )\n",
              "  )\n",
              "  (layer4): Sequential(\n",
              "    (0): BasicBlock(\n",
              "      (conv1): Conv2d(256, 512, kernel_size=(3, 3), stride=(2, 2), padding=(1, 1), bias=False)\n",
              "      (bn1): BatchNorm2d(512, eps=1e-05, momentum=0.1, affine=True, track_running_stats=True)\n",
              "      (drop_block): Identity()\n",
              "      (act1): ReLU(inplace=True)\n",
              "      (aa): Identity()\n",
              "      (conv2): Conv2d(512, 512, kernel_size=(3, 3), stride=(1, 1), padding=(1, 1), bias=False)\n",
              "      (bn2): BatchNorm2d(512, eps=1e-05, momentum=0.1, affine=True, track_running_stats=True)\n",
              "      (act2): ReLU(inplace=True)\n",
              "      (downsample): Sequential(\n",
              "        (0): Conv2d(256, 512, kernel_size=(1, 1), stride=(2, 2), bias=False)\n",
              "        (1): BatchNorm2d(512, eps=1e-05, momentum=0.1, affine=True, track_running_stats=True)\n",
              "      )\n",
              "    )\n",
              "    (1): BasicBlock(\n",
              "      (conv1): Conv2d(512, 512, kernel_size=(3, 3), stride=(1, 1), padding=(1, 1), bias=False)\n",
              "      (bn1): BatchNorm2d(512, eps=1e-05, momentum=0.1, affine=True, track_running_stats=True)\n",
              "      (drop_block): Identity()\n",
              "      (act1): ReLU(inplace=True)\n",
              "      (aa): Identity()\n",
              "      (conv2): Conv2d(512, 512, kernel_size=(3, 3), stride=(1, 1), padding=(1, 1), bias=False)\n",
              "      (bn2): BatchNorm2d(512, eps=1e-05, momentum=0.1, affine=True, track_running_stats=True)\n",
              "      (act2): ReLU(inplace=True)\n",
              "    )\n",
              "    (2): BasicBlock(\n",
              "      (conv1): Conv2d(512, 512, kernel_size=(3, 3), stride=(1, 1), padding=(1, 1), bias=False)\n",
              "      (bn1): BatchNorm2d(512, eps=1e-05, momentum=0.1, affine=True, track_running_stats=True)\n",
              "      (drop_block): Identity()\n",
              "      (act1): ReLU(inplace=True)\n",
              "      (aa): Identity()\n",
              "      (conv2): Conv2d(512, 512, kernel_size=(3, 3), stride=(1, 1), padding=(1, 1), bias=False)\n",
              "      (bn2): BatchNorm2d(512, eps=1e-05, momentum=0.1, affine=True, track_running_stats=True)\n",
              "      (act2): ReLU(inplace=True)\n",
              "    )\n",
              "  )\n",
              "  (global_pool): SelectAdaptivePool2d(pool_type=avg, flatten=Flatten(start_dim=1, end_dim=-1))\n",
              "  (fc): Linear(in_features=512, out_features=10, bias=True)\n",
              ")"
            ]
          },
          "metadata": {},
          "execution_count": 25
        }
      ]
    },
    {
      "cell_type": "markdown",
      "source": [
        "### Кастомизация модели из библиотеки `timm`"
      ],
      "metadata": {
        "id": "LCMhQq6keXcQ"
      }
    },
    {
      "cell_type": "code",
      "source": [
        "import timm\n",
        "import torch\n",
        "\n",
        "\n",
        "class NNModel(torch.nn.Module):\n",
        "  \"\"\"Implements custom ResNet18 model.\"\"\"\n",
        "\n",
        "  def __init__(\n",
        "          self,\n",
        "          model_name: str,\n",
        "          pretrained: bool,\n",
        "          exportable: bool,\n",
        "          num_classes: int,\n",
        "          global_pool: str,\n",
        "          out_features: int,\n",
        "    ) -> None:\n",
        "    \"\"\"\n",
        "    Wrapper of the timm model.\n",
        "    \"\"\"\n",
        "    super().__init__()\n",
        "    self._backbone = timm.create_model(\n",
        "      model_name=model_name,\n",
        "      pretrained=pretrained,\n",
        "      exportable=exportable,\n",
        "      num_classes=num_classes,\n",
        "      global_pool=global_pool,\n",
        "    )\n",
        "    in_features = self._backbone.get_classifier().in_features\n",
        "\n",
        "    # выключить встроенную классификационную часть (оставить ТОЛЬКО сверточные слои)\n",
        "    self._backbone.reset_classifier(num_classes=0)\n",
        "\n",
        "    # самостоятельно реализовать классификационную часть (она же `классификационная голова`)\n",
        "    self.fc = torch.nn.Sequential(\n",
        "        torch.nn.Linear(\n",
        "          in_features=in_features,\n",
        "          out_features=out_features,\n",
        "          bias=False,\n",
        "        ),\n",
        "        torch.nn.BatchNorm1d(num_features=out_features),\n",
        "        torch.nn.ReLU(inplace=True),\n",
        "        torch.nn.Linear(\n",
        "          in_features=out_features,\n",
        "          out_features=num_classes,\n",
        "        )\n",
        "    )\n",
        "\n",
        "  def forward(self, tensor: torch.Tensor) -> torch.Tensor:\n",
        "    \"\"\"\n",
        "    Perform forward pass over input tensors.\n",
        "\n",
        "    Parameters:\n",
        "      tensor: Batch of images with shape (B, C, H, W).\n",
        "\n",
        "    Returns:\n",
        "      Raw logits with shape (B, config.num_classes).\n",
        "    \"\"\"\n",
        "    return self.fc(self._backbone(tensor))"
      ],
      "metadata": {
        "id": "dmOPmvXuebBr"
      },
      "execution_count": 26,
      "outputs": []
    },
    {
      "cell_type": "markdown",
      "source": [
        "Модели из библиотеки `timm` также имеют интерфейс для извлечения промежуточных выходов слоев нейросети:\n",
        "\n",
        "```\n",
        "model = timm.create_model(\n",
        "  \"resnet18\",\n",
        "  pretrained=True,\n",
        "  \n",
        "  # необходимо включить этот параметр, теперь модель при вызове\n",
        "  # вернет все промежуточные выходы слоев\n",
        "  features_only=True\n",
        ")\n",
        "```"
      ],
      "metadata": {
        "id": "pURm4hbVgCWw"
      }
    },
    {
      "cell_type": "markdown",
      "source": [
        "# Обучение"
      ],
      "metadata": {
        "id": "2cZk_vLUgmtf"
      }
    },
    {
      "cell_type": "code",
      "source": [
        "! wget http://data.vision.ee.ethz.ch/cvl/food-101.tar.gz"
      ],
      "metadata": {
        "colab": {
          "base_uri": "https://localhost:8080/"
        },
        "id": "FjwBi0k7gmQb",
        "outputId": "dd5cb04f-26cc-46b5-d552-b5ee90bff792"
      },
      "execution_count": 27,
      "outputs": [
        {
          "output_type": "stream",
          "name": "stdout",
          "text": [
            "--2024-08-22 15:45:16--  http://data.vision.ee.ethz.ch/cvl/food-101.tar.gz\n",
            "Resolving data.vision.ee.ethz.ch (data.vision.ee.ethz.ch)... 129.132.52.178, 2001:67c:10ec:36c2::178\n",
            "Connecting to data.vision.ee.ethz.ch (data.vision.ee.ethz.ch)|129.132.52.178|:80... connected.\n",
            "HTTP request sent, awaiting response... 302 Found\n",
            "Location: https://data.vision.ee.ethz.ch/cvl/food-101.tar.gz [following]\n",
            "--2024-08-22 15:45:16--  https://data.vision.ee.ethz.ch/cvl/food-101.tar.gz\n",
            "Connecting to data.vision.ee.ethz.ch (data.vision.ee.ethz.ch)|129.132.52.178|:443... connected.\n",
            "HTTP request sent, awaiting response... 200 OK\n",
            "Length: 4996278331 (4.7G) [application/x-gzip]\n",
            "Saving to: ‘food-101.tar.gz’\n",
            "\n",
            "food-101.tar.gz     100%[===================>]   4.65G  21.3MB/s    in 3m 59s  \n",
            "\n",
            "2024-08-22 15:49:16 (20.0 MB/s) - ‘food-101.tar.gz’ saved [4996278331/4996278331]\n",
            "\n"
          ]
        }
      ]
    },
    {
      "cell_type": "code",
      "source": [
        "! tar -xzf food-101.tar.gz"
      ],
      "metadata": {
        "id": "inDDn47ShLLP"
      },
      "execution_count": 28,
      "outputs": []
    },
    {
      "cell_type": "code",
      "source": [
        "import os\n",
        "\n",
        "print(len(os.listdir('food-101/images')))\n",
        "print(os.listdir('food-101/images'))"
      ],
      "metadata": {
        "colab": {
          "base_uri": "https://localhost:8080/"
        },
        "id": "6fA-dEVKyIDx",
        "outputId": "309917bb-eec3-4a86-cf42-77a6db9962b6"
      },
      "execution_count": 29,
      "outputs": [
        {
          "output_type": "stream",
          "name": "stdout",
          "text": [
            "101\n",
            "['filet_mignon', 'ramen', 'spring_rolls', 'macarons', 'sushi', 'mussels', 'fried_calamari', 'french_toast', 'french_onion_soup', 'red_velvet_cake', 'cannoli', 'foie_gras', 'carrot_cake', 'creme_brulee', 'panna_cotta', 'club_sandwich', 'scallops', 'lobster_roll_sandwich', 'dumplings', 'eggs_benedict', 'chocolate_mousse', 'chicken_curry', 'cheesecake', 'peking_duck', 'tuna_tartare', 'clam_chowder', 'beet_salad', 'omelette', 'sashimi', 'falafel', 'croque_madame', 'gnocchi', 'caprese_salad', 'apple_pie', 'edamame', 'churros', 'risotto', 'poutine', 'grilled_cheese_sandwich', 'crab_cakes', 'beignets', 'prime_rib', 'escargots', 'spaghetti_bolognese', 'chocolate_cake', 'tiramisu', 'beef_tartare', 'pad_thai', 'baklava', 'caesar_salad', 'lasagna', 'waffles', 'baby_back_ribs', 'bibimbap', 'pho', 'gyoza', 'garlic_bread', 'pulled_pork_sandwich', 'seaweed_salad', 'ravioli', 'tacos', 'bruschetta', 'spaghetti_carbonara', 'beef_carpaccio', 'fish_and_chips', 'bread_pudding', 'paella', 'steak', 'nachos', 'guacamole', 'frozen_yogurt', 'hot_and_sour_soup', 'ceviche', 'hot_dog', 'lobster_bisque', 'greek_salad', 'pancakes', 'breakfast_burrito', 'macaroni_and_cheese', 'deviled_eggs', 'ice_cream', 'takoyaki', 'hummus', 'strawberry_shortcake', 'onion_rings', 'chicken_wings', 'oysters', 'chicken_quesadilla', 'huevos_rancheros', 'miso_soup', 'fried_rice', 'pizza', 'shrimp_and_grits', 'donuts', 'samosa', 'grilled_salmon', 'cheese_plate', 'hamburger', 'french_fries', 'pork_chop', 'cup_cakes']\n"
          ]
        }
      ]
    },
    {
      "cell_type": "markdown",
      "source": [
        "## Создание датасета с использованием аугментаций"
      ],
      "metadata": {
        "id": "tOcf1mJIgsDY"
      }
    },
    {
      "cell_type": "code",
      "source": [
        "food_classes = sorted(os.listdir('food-101/images'))"
      ],
      "metadata": {
        "id": "ytZ5f5WRh9QM"
      },
      "execution_count": 30,
      "outputs": []
    },
    {
      "cell_type": "code",
      "source": [
        "[os.path.join('food-101/images/apple_pie', file) for file in os.listdir('food-101/images/apple_pie')[:5]]"
      ],
      "metadata": {
        "colab": {
          "base_uri": "https://localhost:8080/"
        },
        "id": "ubwJjOaCzjoo",
        "outputId": "e76ff012-6367-4224-8726-7c9f27f390b7"
      },
      "execution_count": 34,
      "outputs": [
        {
          "output_type": "execute_result",
          "data": {
            "text/plain": [
              "['food-101/images/apple_pie/2490410.jpg',\n",
              " 'food-101/images/apple_pie/116705.jpg',\n",
              " 'food-101/images/apple_pie/2586267.jpg',\n",
              " 'food-101/images/apple_pie/3590485.jpg',\n",
              " 'food-101/images/apple_pie/2648160.jpg']"
            ]
          },
          "metadata": {},
          "execution_count": 34
        }
      ]
    },
    {
      "cell_type": "code",
      "source": [
        "img = cv2.imread('food-101/images/apple_pie/2490410.jpg')\n",
        "img.shape"
      ],
      "metadata": {
        "colab": {
          "base_uri": "https://localhost:8080/"
        },
        "id": "oBTHGY941MrL",
        "outputId": "a92531b8-9d44-4fc4-bae0-a3f28b29a90d"
      },
      "execution_count": 43,
      "outputs": [
        {
          "output_type": "execute_result",
          "data": {
            "text/plain": [
              "(384, 512, 3)"
            ]
          },
          "metadata": {},
          "execution_count": 43
        }
      ]
    },
    {
      "cell_type": "code",
      "source": [
        "food_classes[:5]"
      ],
      "metadata": {
        "colab": {
          "base_uri": "https://localhost:8080/"
        },
        "id": "eYNS3bJxz9Bl",
        "outputId": "9dd74868-af43-45ea-aa40-ff7c1a169c92"
      },
      "execution_count": 37,
      "outputs": [
        {
          "output_type": "execute_result",
          "data": {
            "text/plain": [
              "['apple_pie', 'baby_back_ribs', 'baklava', 'beef_carpaccio', 'beef_tartare']"
            ]
          },
          "metadata": {},
          "execution_count": 37
        }
      ]
    },
    {
      "cell_type": "code",
      "source": [
        "[food_classes.index('baklava')]*10"
      ],
      "metadata": {
        "colab": {
          "base_uri": "https://localhost:8080/"
        },
        "id": "WaiGMc37ycxr",
        "outputId": "9d7dce56-0258-44a2-d213-b07e8426374c"
      },
      "execution_count": 41,
      "outputs": [
        {
          "output_type": "execute_result",
          "data": {
            "text/plain": [
              "[2, 2, 2, 2, 2, 2, 2, 2, 2, 2]"
            ]
          },
          "metadata": {},
          "execution_count": 41
        }
      ]
    },
    {
      "cell_type": "code",
      "source": [
        "class DatasetCustom(torch.utils.data.Dataset):\n",
        "    def __init__(\n",
        "            self,\n",
        "            root: str,\n",
        "            image_size: int,\n",
        "            ordered_classes: list[str],\n",
        "            transforms: albumentations.Compose | None,\n",
        "            test_split: float = 0.9,\n",
        "            type: str = 'train',\n",
        "    ):\n",
        "        self.files = []\n",
        "        self.labels = []\n",
        "        self.transforms = transforms\n",
        "        self.image_size = image_size\n",
        "\n",
        "        for folder in os.listdir(root):\n",
        "            food_class_images = sorted(os.listdir(os.path.join(root, folder)))\n",
        "            images_length = len(food_class_images)\n",
        "            test_idx = int(images_length*test_split)\n",
        "            if type == \"train\":\n",
        "                food_class_images = food_class_images[:test_idx]\n",
        "            else:\n",
        "                food_class_images = food_class_images[test_idx:]\n",
        "            food_class_images = [\n",
        "                os.path.join(root, folder, file_) for file_ in food_class_images\n",
        "            ]\n",
        "            self.files.extend(food_class_images)\n",
        "            self.labels.extend([ordered_classes.index(folder)]*len(food_class_images))\n",
        "\n",
        "        if len(self.labels) != len(self.files):\n",
        "            raise ValueError(\"Length of files isn't equal to length of labels!\")\n",
        "\n",
        "    def __getitem__(self, idx):\n",
        "        image = cv2.imread(self.files[idx])[:, :, ::-1]\n",
        "        #image = cv2.cvtColor(image, cv2.COLOR_BGR2RGB)\n",
        "        #image = cv2.resize(image, (self.image_size, self.image_size), interpolation=cv2.INTER_AREA)\n",
        "\n",
        "        if self.transforms is not None:\n",
        "            image = self.transforms(image=image)[\"image\"]\n",
        "        label = self.labels[idx]\n",
        "\n",
        "        return image, torch.tensor(label)\n",
        "\n",
        "    def __len__(self):\n",
        "        return len(self.files)\n"
      ],
      "metadata": {
        "id": "nvssfpMKhxcG"
      },
      "execution_count": 42,
      "outputs": []
    },
    {
      "cell_type": "code",
      "source": [
        "train_transform = albumentations.Compose(\n",
        "    [\n",
        "        albumentations.ShiftScaleRotate(shift_limit=0.05, scale_limit=0.05, rotate_limit=15, p=0.5),\n",
        "        albumentations.RandomCrop(height=256, width=256),\n",
        "        albumentations.RGBShift(r_shift_limit=15, g_shift_limit=15, b_shift_limit=15, p=0.5),\n",
        "        albumentations.RandomBrightnessContrast(p=0.5),\n",
        "        albumentations.Normalize(mean=(0.485, 0.456, 0.406), std=(0.229, 0.224, 0.225)),\n",
        "        ToTensorV2(),\n",
        "    ]\n",
        ")\n",
        "\n",
        "val_transform = albumentations.Compose(\n",
        "    [\n",
        "        albumentations.CenterCrop(height=256, width=256),\n",
        "        albumentations.Normalize(mean=(0.485, 0.456, 0.406), std=(0.229, 0.224, 0.225)),\n",
        "        ToTensorV2(),\n",
        "    ]\n",
        ")"
      ],
      "metadata": {
        "id": "sHtxv9Ph1eGt"
      },
      "execution_count": 44,
      "outputs": []
    },
    {
      "cell_type": "code",
      "source": [
        "train_dataset = DatasetCustom('food-101/images', 256, food_classes, train_transform)"
      ],
      "metadata": {
        "id": "yA1UqQc01Fms"
      },
      "execution_count": 45,
      "outputs": []
    },
    {
      "cell_type": "code",
      "source": [
        "val_dataset = DatasetCustom('food-101/images', 256, food_classes, val_transform, type=\"val\")"
      ],
      "metadata": {
        "id": "R3_WUWGk2Isx"
      },
      "execution_count": 47,
      "outputs": []
    },
    {
      "cell_type": "code",
      "source": [
        "len(train_dataset), len(val_dataset)"
      ],
      "metadata": {
        "colab": {
          "base_uri": "https://localhost:8080/"
        },
        "id": "eugf5uS-2P-i",
        "outputId": "7fde8078-a364-4b92-b874-debec90a5d1b"
      },
      "execution_count": 48,
      "outputs": [
        {
          "output_type": "execute_result",
          "data": {
            "text/plain": [
              "(90900, 10100)"
            ]
          },
          "metadata": {},
          "execution_count": 48
        }
      ]
    },
    {
      "cell_type": "code",
      "source": [
        "food_classes[56]"
      ],
      "metadata": {
        "colab": {
          "base_uri": "https://localhost:8080/",
          "height": 36
        },
        "id": "qqaVewji2baH",
        "outputId": "9fa8223e-d548-4ba7-9079-987f00bd061d"
      },
      "execution_count": 63,
      "outputs": [
        {
          "output_type": "execute_result",
          "data": {
            "text/plain": [
              "'huevos_rancheros'"
            ],
            "application/vnd.google.colaboratory.intrinsic+json": {
              "type": "string"
            }
          },
          "metadata": {},
          "execution_count": 63
        }
      ]
    },
    {
      "cell_type": "code",
      "source": [
        "train_dataset[80000][1]"
      ],
      "metadata": {
        "colab": {
          "base_uri": "https://localhost:8080/"
        },
        "id": "fbsP9Nk93Bc6",
        "outputId": "c34f979d-e896-4a1f-e9ed-1711113f81f3"
      },
      "execution_count": 62,
      "outputs": [
        {
          "output_type": "execute_result",
          "data": {
            "text/plain": [
              "tensor(56)"
            ]
          },
          "metadata": {},
          "execution_count": 62
        }
      ]
    },
    {
      "cell_type": "code",
      "source": [
        "plt.imshow(train_dataset[80000][0].numpy().transpose(1,2,0))"
      ],
      "metadata": {
        "colab": {
          "base_uri": "https://localhost:8080/",
          "height": 492
        },
        "id": "Yyl-GDuQ2Wlu",
        "outputId": "72dc7626-c117-49d7-9bfb-60d530f650c0"
      },
      "execution_count": 61,
      "outputs": [
        {
          "output_type": "stream",
          "name": "stderr",
          "text": [
            "WARNING:matplotlib.image:Clipping input data to the valid range for imshow with RGB data ([0..1] for floats or [0..255] for integers).\n"
          ]
        },
        {
          "output_type": "execute_result",
          "data": {
            "text/plain": [
              "<matplotlib.image.AxesImage at 0x7ceb980c8ac0>"
            ]
          },
          "metadata": {},
          "execution_count": 61
        },
        {
          "output_type": "display_data",
          "data": {
            "text/plain": [
              "<Figure size 640x480 with 1 Axes>"
            ],
            "image/png": "[encoded data removed]"
          },
          "metadata": {}
        }
      ]
    },
    {
      "cell_type": "markdown",
      "source": [
        "## Создание модели с помощью `timm`"
      ],
      "metadata": {
        "id": "D-NqgsTTg1M1"
      }
    },
    {
      "cell_type": "code",
      "source": [
        "timm.list_models('*resnet34*', pretrained=True)"
      ],
      "metadata": {
        "colab": {
          "base_uri": "https://localhost:8080/"
        },
        "id": "sEvTxnGe3U9i",
        "outputId": "a0163e8f-119f-4a7c-f58d-23c4b17068ef"
      },
      "execution_count": 66,
      "outputs": [
        {
          "output_type": "execute_result",
          "data": {
            "text/plain": [
              "['legacy_seresnet34.in1k',\n",
              " 'resnet34.a1_in1k',\n",
              " 'resnet34.a2_in1k',\n",
              " 'resnet34.a3_in1k',\n",
              " 'resnet34.bt_in1k',\n",
              " 'resnet34.gluon_in1k',\n",
              " 'resnet34.tv_in1k',\n",
              " 'resnet34d.ra2_in1k',\n",
              " 'skresnet34.ra_in1k']"
            ]
          },
          "metadata": {},
          "execution_count": 66
        }
      ]
    },
    {
      "cell_type": "code",
      "source": [
        "len(food_classes)"
      ],
      "metadata": {
        "colab": {
          "base_uri": "https://localhost:8080/"
        },
        "id": "8_BJSHdh3hSf",
        "outputId": "41f76aed-2e1a-409e-ff3f-b38491ad69a1"
      },
      "execution_count": 67,
      "outputs": [
        {
          "output_type": "execute_result",
          "data": {
            "text/plain": [
              "101"
            ]
          },
          "metadata": {},
          "execution_count": 67
        }
      ]
    },
    {
      "cell_type": "code",
      "source": [
        "model = NNModel(\n",
        "    model_name='resnet34d.ra2_in1k',\n",
        "    pretrained=True,\n",
        "    exportable=True,\n",
        "    num_classes=101,\n",
        "    global_pool=\"avg\",\n",
        "    out_features=256,\n",
        ")"
      ],
      "metadata": {
        "id": "rPrTLL4Mkce8",
        "colab": {
          "base_uri": "https://localhost:8080/",
          "height": 49,
          "referenced_widgets": [
            "5e3c8b46b4584221b1a62497c5688517",
            "02af243121d2482190cd5cd8f8b69212",
            "83c3045c3aa14d7a8e9e097e7c0d732d",
            "5474e0d31f0149b89c7abdea0068976c",
            "d3de7ef7147046088ba5ce06c442639b",
            "fde3dbbeffd5498da5ab7785cf31ff62",
            "71afe684977544a2aad046a8734b6135",
            "e1ad247779e64ff9958588c1fd0c91b5",
            "6548c408bf3141a89dae56322f3eab09",
            "214a79f937be4b9f89d67408b2390be0",
            "23286ad8508b46c3b4df92bc7a9354d3"
          ]
        },
        "outputId": "666a51f2-0b83-46af-844c-0e9085be2a3b"
      },
      "execution_count": 69,
      "outputs": [
        {
          "output_type": "display_data",
          "data": {
            "text/plain": [
              "model.safetensors:   0%|          | 0.00/87.4M [00:00<?, ?B/s]"
            ],
            "application/vnd.jupyter.widget-view+json": {
              "version_major": 2,
              "version_minor": 0,
              "model_id": "5e3c8b46b4584221b1a62497c5688517"
            }
          },
          "metadata": {}
        }
      ]
    },
    {
      "cell_type": "code",
      "source": [
        "model(torch.randn(8, 3, 256, 256)).shape # expect (8, 101)"
      ],
      "metadata": {
        "colab": {
          "base_uri": "https://localhost:8080/"
        },
        "id": "w1tzOiiU3ysG",
        "outputId": "44073501-a353-4ca7-efd0-63a02a525ac9"
      },
      "execution_count": 70,
      "outputs": [
        {
          "output_type": "execute_result",
          "data": {
            "text/plain": [
              "torch.Size([8, 101])"
            ]
          },
          "metadata": {},
          "execution_count": 70
        }
      ]
    },
    {
      "cell_type": "markdown",
      "source": [
        "## Создание вспомогательных объектов"
      ],
      "metadata": {
        "id": "xGHEP4Sbhmnw"
      }
    },
    {
      "cell_type": "code",
      "source": [
        "train_loader = torch.utils.data.DataLoader(\n",
        "    train_dataset,\n",
        "    batch_size=32,\n",
        "    shuffle=True,\n",
        "    pin_memory=True,\n",
        "    num_workers=2,\n",
        ")\n",
        "\n",
        "# disable shuffling\n",
        "test_loader = torch.utils.data.DataLoader(\n",
        "    val_dataset,\n",
        "    batch_size=32,\n",
        "    shuffle=False,\n",
        "    pin_memory=True,\n",
        "    num_workers=2\n",
        ")"
      ],
      "metadata": {
        "id": "x-X8K7UzgynU"
      },
      "execution_count": 71,
      "outputs": []
    },
    {
      "cell_type": "code",
      "source": [
        "optimizer = torch.optim.Adam(model.parameters(), lr=1e-3)\n",
        "criterion = torch.nn.CrossEntropyLoss()"
      ],
      "metadata": {
        "id": "AWfGNimB4Kcl"
      },
      "execution_count": 72,
      "outputs": []
    },
    {
      "cell_type": "code",
      "source": [
        "N_EPOCH = 3\n",
        "\n",
        "_=model.cuda()"
      ],
      "metadata": {
        "id": "UyhMNS7akdez"
      },
      "execution_count": 74,
      "outputs": []
    },
    {
      "cell_type": "code",
      "source": [
        "for epoch in range(N_EPOCH):\n",
        "    model.train()\n",
        "    for iter, (x, y) in enumerate(train_loader):\n",
        "        x = x.cuda(non_blocking=True)\n",
        "        y = y.long().cuda(non_blocking=True)\n",
        "\n",
        "        optimizer.zero_grad(set_to_none=True)\n",
        "        y_pred = model(x)\n",
        "        loss = criterion(y_pred, y)\n",
        "        loss.backward()\n",
        "        optimizer.step()\n",
        "        if iter % 20 == 0:\n",
        "            print(f\"Epoch: {epoch+1}/{N_EPOCH}, Iter: {iter+1}/{len(train_loader)}, Loss: {loss:1.4}\")\n"
      ],
      "metadata": {
        "colab": {
          "base_uri": "https://localhost:8080/",
          "height": 1000
        },
        "id": "8JF-Bueh4f6T",
        "outputId": "b883eeff-29eb-4d04-f559-506e35f27a2c"
      },
      "execution_count": 84,
      "outputs": [
        {
          "output_type": "stream",
          "name": "stdout",
          "text": [
            "Epoch: 1/3, Iter: 1/2841, Loss: 4.03\n",
            "Epoch: 1/3, Iter: 21/2841, Loss: 3.712\n",
            "Epoch: 1/3, Iter: 41/2841, Loss: 3.444\n",
            "Epoch: 1/3, Iter: 61/2841, Loss: 2.906\n",
            "Epoch: 1/3, Iter: 81/2841, Loss: 3.29\n",
            "Epoch: 1/3, Iter: 101/2841, Loss: 3.304\n",
            "Epoch: 1/3, Iter: 121/2841, Loss: 2.948\n",
            "Epoch: 1/3, Iter: 141/2841, Loss: 3.315\n",
            "Epoch: 1/3, Iter: 161/2841, Loss: 2.48\n",
            "Epoch: 1/3, Iter: 181/2841, Loss: 3.093\n",
            "Epoch: 1/3, Iter: 201/2841, Loss: 2.711\n",
            "Epoch: 1/3, Iter: 221/2841, Loss: 2.69\n",
            "Epoch: 1/3, Iter: 241/2841, Loss: 2.723\n",
            "Epoch: 1/3, Iter: 261/2841, Loss: 2.504\n",
            "Epoch: 1/3, Iter: 281/2841, Loss: 2.755\n",
            "Epoch: 1/3, Iter: 301/2841, Loss: 2.254\n",
            "Epoch: 1/3, Iter: 321/2841, Loss: 2.107\n",
            "Epoch: 1/3, Iter: 341/2841, Loss: 2.446\n",
            "Epoch: 1/3, Iter: 361/2841, Loss: 2.972\n",
            "Epoch: 1/3, Iter: 381/2841, Loss: 2.181\n",
            "Epoch: 1/3, Iter: 401/2841, Loss: 2.909\n",
            "Epoch: 1/3, Iter: 421/2841, Loss: 2.243\n",
            "Epoch: 1/3, Iter: 441/2841, Loss: 2.392\n",
            "Epoch: 1/3, Iter: 461/2841, Loss: 2.587\n",
            "Epoch: 1/3, Iter: 481/2841, Loss: 2.315\n",
            "Epoch: 1/3, Iter: 501/2841, Loss: 2.672\n",
            "Epoch: 1/3, Iter: 521/2841, Loss: 2.416\n",
            "Epoch: 1/3, Iter: 541/2841, Loss: 2.024\n",
            "Epoch: 1/3, Iter: 561/2841, Loss: 1.782\n",
            "Epoch: 1/3, Iter: 581/2841, Loss: 2.028\n",
            "Epoch: 1/3, Iter: 601/2841, Loss: 1.62\n",
            "Epoch: 1/3, Iter: 621/2841, Loss: 2.032\n",
            "Epoch: 1/3, Iter: 641/2841, Loss: 2.118\n",
            "Epoch: 1/3, Iter: 661/2841, Loss: 2.008\n",
            "Epoch: 1/3, Iter: 681/2841, Loss: 2.093\n",
            "Epoch: 1/3, Iter: 701/2841, Loss: 1.584\n",
            "Epoch: 1/3, Iter: 721/2841, Loss: 2.358\n",
            "Epoch: 1/3, Iter: 741/2841, Loss: 2.177\n",
            "Epoch: 1/3, Iter: 761/2841, Loss: 2.082\n",
            "Epoch: 1/3, Iter: 781/2841, Loss: 2.251\n",
            "Epoch: 1/3, Iter: 801/2841, Loss: 2.153\n",
            "Epoch: 1/3, Iter: 821/2841, Loss: 2.13\n",
            "Epoch: 1/3, Iter: 841/2841, Loss: 1.856\n",
            "Epoch: 1/3, Iter: 861/2841, Loss: 2.435\n",
            "Epoch: 1/3, Iter: 881/2841, Loss: 1.548\n",
            "Epoch: 1/3, Iter: 901/2841, Loss: 1.725\n",
            "Epoch: 1/3, Iter: 921/2841, Loss: 1.733\n",
            "Epoch: 1/3, Iter: 941/2841, Loss: 2.121\n",
            "Epoch: 1/3, Iter: 961/2841, Loss: 1.864\n",
            "Epoch: 1/3, Iter: 981/2841, Loss: 2.061\n",
            "Epoch: 1/3, Iter: 1001/2841, Loss: 1.439\n",
            "Epoch: 1/3, Iter: 1021/2841, Loss: 1.043\n",
            "Epoch: 1/3, Iter: 1041/2841, Loss: 1.762\n",
            "Epoch: 1/3, Iter: 1061/2841, Loss: 1.75\n",
            "Epoch: 1/3, Iter: 1081/2841, Loss: 1.776\n",
            "Epoch: 1/3, Iter: 1101/2841, Loss: 1.752\n",
            "Epoch: 1/3, Iter: 1121/2841, Loss: 1.934\n",
            "Epoch: 1/3, Iter: 1141/2841, Loss: 1.701\n",
            "Epoch: 1/3, Iter: 1161/2841, Loss: 1.875\n",
            "Epoch: 1/3, Iter: 1181/2841, Loss: 1.961\n",
            "Epoch: 1/3, Iter: 1201/2841, Loss: 2.364\n",
            "Epoch: 1/3, Iter: 1221/2841, Loss: 2.211\n",
            "Epoch: 1/3, Iter: 1241/2841, Loss: 2.592\n",
            "Epoch: 1/3, Iter: 1261/2841, Loss: 1.607\n",
            "Epoch: 1/3, Iter: 1281/2841, Loss: 1.236\n",
            "Epoch: 1/3, Iter: 1301/2841, Loss: 2.044\n",
            "Epoch: 1/3, Iter: 1321/2841, Loss: 1.383\n",
            "Epoch: 1/3, Iter: 1341/2841, Loss: 1.67\n",
            "Epoch: 1/3, Iter: 1361/2841, Loss: 1.582\n",
            "Epoch: 1/3, Iter: 1381/2841, Loss: 1.509\n",
            "Epoch: 1/3, Iter: 1401/2841, Loss: 1.522\n",
            "Epoch: 1/3, Iter: 1421/2841, Loss: 1.653\n",
            "Epoch: 1/3, Iter: 1441/2841, Loss: 1.778\n",
            "Epoch: 1/3, Iter: 1461/2841, Loss: 1.797\n",
            "Epoch: 1/3, Iter: 1481/2841, Loss: 1.411\n"
          ]
        },
        {
          "output_type": "error",
          "ename": "KeyboardInterrupt",
          "evalue": "",
          "traceback": [
            "\u001b[0;31m---------------------------------------------------------------------------\u001b[0m",
            "\u001b[0;31mKeyboardInterrupt\u001b[0m                         Traceback (most recent call last)",
            "\u001b[0;32m<ipython-input-84-fc0d11ef36b0>\u001b[0m in \u001b[0;36m<cell line: 1>\u001b[0;34m()\u001b[0m\n\u001b[1;32m      1\u001b[0m \u001b[0;32mfor\u001b[0m \u001b[0mepoch\u001b[0m \u001b[0;32min\u001b[0m \u001b[0mrange\u001b[0m\u001b[0;34m(\u001b[0m\u001b[0mN_EPOCH\u001b[0m\u001b[0;34m)\u001b[0m\u001b[0;34m:\u001b[0m\u001b[0;34m\u001b[0m\u001b[0;34m\u001b[0m\u001b[0m\n\u001b[1;32m      2\u001b[0m     \u001b[0mmodel\u001b[0m\u001b[0;34m.\u001b[0m\u001b[0mtrain\u001b[0m\u001b[0;34m(\u001b[0m\u001b[0;34m)\u001b[0m\u001b[0;34m\u001b[0m\u001b[0;34m\u001b[0m\u001b[0m\n\u001b[0;32m----> 3\u001b[0;31m     \u001b[0;32mfor\u001b[0m \u001b[0miter\u001b[0m\u001b[0;34m,\u001b[0m \u001b[0;34m(\u001b[0m\u001b[0mx\u001b[0m\u001b[0;34m,\u001b[0m \u001b[0my\u001b[0m\u001b[0;34m)\u001b[0m \u001b[0;32min\u001b[0m \u001b[0menumerate\u001b[0m\u001b[0;34m(\u001b[0m\u001b[0mtrain_loader\u001b[0m\u001b[0;34m)\u001b[0m\u001b[0;34m:\u001b[0m\u001b[0;34m\u001b[0m\u001b[0;34m\u001b[0m\u001b[0m\n\u001b[0m\u001b[1;32m      4\u001b[0m         \u001b[0mx\u001b[0m \u001b[0;34m=\u001b[0m \u001b[0mx\u001b[0m\u001b[0;34m.\u001b[0m\u001b[0mcuda\u001b[0m\u001b[0;34m(\u001b[0m\u001b[0mnon_blocking\u001b[0m\u001b[0;34m=\u001b[0m\u001b[0;32mTrue\u001b[0m\u001b[0;34m)\u001b[0m\u001b[0;34m\u001b[0m\u001b[0;34m\u001b[0m\u001b[0m\n\u001b[1;32m      5\u001b[0m         \u001b[0my\u001b[0m \u001b[0;34m=\u001b[0m \u001b[0my\u001b[0m\u001b[0;34m.\u001b[0m\u001b[0mlong\u001b[0m\u001b[0;34m(\u001b[0m\u001b[0;34m)\u001b[0m\u001b[0;34m.\u001b[0m\u001b[0mcuda\u001b[0m\u001b[0;34m(\u001b[0m\u001b[0mnon_blocking\u001b[0m\u001b[0;34m=\u001b[0m\u001b[0;32mTrue\u001b[0m\u001b[0;34m)\u001b[0m\u001b[0;34m\u001b[0m\u001b[0;34m\u001b[0m\u001b[0m\n",
            "\u001b[0;32m/usr/local/lib/python3.10/dist-packages/torch/utils/data/dataloader.py\u001b[0m in \u001b[0;36m__next__\u001b[0;34m(self)\u001b[0m\n\u001b[1;32m    629\u001b[0m                 \u001b[0;31m# TODO(https://github.com/pytorch/pytorch/issues/76750)\u001b[0m\u001b[0;34m\u001b[0m\u001b[0;34m\u001b[0m\u001b[0m\n\u001b[1;32m    630\u001b[0m                 \u001b[0mself\u001b[0m\u001b[0;34m.\u001b[0m\u001b[0m_reset\u001b[0m\u001b[0;34m(\u001b[0m\u001b[0;34m)\u001b[0m  \u001b[0;31m# type: ignore[call-arg]\u001b[0m\u001b[0;34m\u001b[0m\u001b[0;34m\u001b[0m\u001b[0m\n\u001b[0;32m--> 631\u001b[0;31m             \u001b[0mdata\u001b[0m \u001b[0;34m=\u001b[0m \u001b[0mself\u001b[0m\u001b[0;34m.\u001b[0m\u001b[0m_next_data\u001b[0m\u001b[0;34m(\u001b[0m\u001b[0;34m)\u001b[0m\u001b[0;34m\u001b[0m\u001b[0;34m\u001b[0m\u001b[0m\n\u001b[0m\u001b[1;32m    632\u001b[0m             \u001b[0mself\u001b[0m\u001b[0;34m.\u001b[0m\u001b[0m_num_yielded\u001b[0m \u001b[0;34m+=\u001b[0m \u001b[0;36m1\u001b[0m\u001b[0;34m\u001b[0m\u001b[0;34m\u001b[0m\u001b[0m\n\u001b[1;32m    633\u001b[0m             \u001b[0;32mif\u001b[0m \u001b[0mself\u001b[0m\u001b[0;34m.\u001b[0m\u001b[0m_dataset_kind\u001b[0m \u001b[0;34m==\u001b[0m \u001b[0m_DatasetKind\u001b[0m\u001b[0;34m.\u001b[0m\u001b[0mIterable\u001b[0m \u001b[0;32mand\u001b[0m\u001b[0;31m \u001b[0m\u001b[0;31m\\\u001b[0m\u001b[0;34m\u001b[0m\u001b[0;34m\u001b[0m\u001b[0m\n",
            "\u001b[0;32m/usr/local/lib/python3.10/dist-packages/torch/utils/data/dataloader.py\u001b[0m in \u001b[0;36m_next_data\u001b[0;34m(self)\u001b[0m\n\u001b[1;32m   1327\u001b[0m \u001b[0;34m\u001b[0m\u001b[0m\n\u001b[1;32m   1328\u001b[0m             \u001b[0;32massert\u001b[0m \u001b[0;32mnot\u001b[0m \u001b[0mself\u001b[0m\u001b[0;34m.\u001b[0m\u001b[0m_shutdown\u001b[0m \u001b[0;32mand\u001b[0m \u001b[0mself\u001b[0m\u001b[0;34m.\u001b[0m\u001b[0m_tasks_outstanding\u001b[0m \u001b[0;34m>\u001b[0m \u001b[0;36m0\u001b[0m\u001b[0;34m\u001b[0m\u001b[0;34m\u001b[0m\u001b[0m\n\u001b[0;32m-> 1329\u001b[0;31m             \u001b[0midx\u001b[0m\u001b[0;34m,\u001b[0m \u001b[0mdata\u001b[0m \u001b[0;34m=\u001b[0m \u001b[0mself\u001b[0m\u001b[0;34m.\u001b[0m\u001b[0m_get_data\u001b[0m\u001b[0;34m(\u001b[0m\u001b[0;34m)\u001b[0m\u001b[0;34m\u001b[0m\u001b[0;34m\u001b[0m\u001b[0m\n\u001b[0m\u001b[1;32m   1330\u001b[0m             \u001b[0mself\u001b[0m\u001b[0;34m.\u001b[0m\u001b[0m_tasks_outstanding\u001b[0m \u001b[0;34m-=\u001b[0m \u001b[0;36m1\u001b[0m\u001b[0;34m\u001b[0m\u001b[0;34m\u001b[0m\u001b[0m\n\u001b[1;32m   1331\u001b[0m             \u001b[0;32mif\u001b[0m \u001b[0mself\u001b[0m\u001b[0;34m.\u001b[0m\u001b[0m_dataset_kind\u001b[0m \u001b[0;34m==\u001b[0m \u001b[0m_DatasetKind\u001b[0m\u001b[0;34m.\u001b[0m\u001b[0mIterable\u001b[0m\u001b[0;34m:\u001b[0m\u001b[0;34m\u001b[0m\u001b[0;34m\u001b[0m\u001b[0m\n",
            "\u001b[0;32m/usr/local/lib/python3.10/dist-packages/torch/utils/data/dataloader.py\u001b[0m in \u001b[0;36m_get_data\u001b[0;34m(self)\u001b[0m\n\u001b[1;32m   1283\u001b[0m         \u001b[0;32melif\u001b[0m \u001b[0mself\u001b[0m\u001b[0;34m.\u001b[0m\u001b[0m_pin_memory\u001b[0m\u001b[0;34m:\u001b[0m\u001b[0;34m\u001b[0m\u001b[0;34m\u001b[0m\u001b[0m\n\u001b[1;32m   1284\u001b[0m             \u001b[0;32mwhile\u001b[0m \u001b[0mself\u001b[0m\u001b[0;34m.\u001b[0m\u001b[0m_pin_memory_thread\u001b[0m\u001b[0;34m.\u001b[0m\u001b[0mis_alive\u001b[0m\u001b[0;34m(\u001b[0m\u001b[0;34m)\u001b[0m\u001b[0;34m:\u001b[0m\u001b[0;34m\u001b[0m\u001b[0;34m\u001b[0m\u001b[0m\n\u001b[0;32m-> 1285\u001b[0;31m                 \u001b[0msuccess\u001b[0m\u001b[0;34m,\u001b[0m \u001b[0mdata\u001b[0m \u001b[0;34m=\u001b[0m \u001b[0mself\u001b[0m\u001b[0;34m.\u001b[0m\u001b[0m_try_get_data\u001b[0m\u001b[0;34m(\u001b[0m\u001b[0;34m)\u001b[0m\u001b[0;34m\u001b[0m\u001b[0;34m\u001b[0m\u001b[0m\n\u001b[0m\u001b[1;32m   1286\u001b[0m                 \u001b[0;32mif\u001b[0m \u001b[0msuccess\u001b[0m\u001b[0;34m:\u001b[0m\u001b[0;34m\u001b[0m\u001b[0;34m\u001b[0m\u001b[0m\n\u001b[1;32m   1287\u001b[0m                     \u001b[0;32mreturn\u001b[0m \u001b[0mdata\u001b[0m\u001b[0;34m\u001b[0m\u001b[0;34m\u001b[0m\u001b[0m\n",
            "\u001b[0;32m/usr/local/lib/python3.10/dist-packages/torch/utils/data/dataloader.py\u001b[0m in \u001b[0;36m_try_get_data\u001b[0;34m(self, timeout)\u001b[0m\n\u001b[1;32m   1131\u001b[0m         \u001b[0;31m#   (bool: whether successfully get data, any: data if successful else None)\u001b[0m\u001b[0;34m\u001b[0m\u001b[0;34m\u001b[0m\u001b[0m\n\u001b[1;32m   1132\u001b[0m         \u001b[0;32mtry\u001b[0m\u001b[0;34m:\u001b[0m\u001b[0;34m\u001b[0m\u001b[0;34m\u001b[0m\u001b[0m\n\u001b[0;32m-> 1133\u001b[0;31m             \u001b[0mdata\u001b[0m \u001b[0;34m=\u001b[0m \u001b[0mself\u001b[0m\u001b[0;34m.\u001b[0m\u001b[0m_data_queue\u001b[0m\u001b[0;34m.\u001b[0m\u001b[0mget\u001b[0m\u001b[0;34m(\u001b[0m\u001b[0mtimeout\u001b[0m\u001b[0;34m=\u001b[0m\u001b[0mtimeout\u001b[0m\u001b[0;34m)\u001b[0m\u001b[0;34m\u001b[0m\u001b[0;34m\u001b[0m\u001b[0m\n\u001b[0m\u001b[1;32m   1134\u001b[0m             \u001b[0;32mreturn\u001b[0m \u001b[0;34m(\u001b[0m\u001b[0;32mTrue\u001b[0m\u001b[0;34m,\u001b[0m \u001b[0mdata\u001b[0m\u001b[0;34m)\u001b[0m\u001b[0;34m\u001b[0m\u001b[0;34m\u001b[0m\u001b[0m\n\u001b[1;32m   1135\u001b[0m         \u001b[0;32mexcept\u001b[0m \u001b[0mException\u001b[0m \u001b[0;32mas\u001b[0m \u001b[0me\u001b[0m\u001b[0;34m:\u001b[0m\u001b[0;34m\u001b[0m\u001b[0;34m\u001b[0m\u001b[0m\n",
            "\u001b[0;32m/usr/lib/python3.10/queue.py\u001b[0m in \u001b[0;36mget\u001b[0;34m(self, block, timeout)\u001b[0m\n\u001b[1;32m    178\u001b[0m                     \u001b[0;32mif\u001b[0m \u001b[0mremaining\u001b[0m \u001b[0;34m<=\u001b[0m \u001b[0;36m0.0\u001b[0m\u001b[0;34m:\u001b[0m\u001b[0;34m\u001b[0m\u001b[0;34m\u001b[0m\u001b[0m\n\u001b[1;32m    179\u001b[0m                         \u001b[0;32mraise\u001b[0m \u001b[0mEmpty\u001b[0m\u001b[0;34m\u001b[0m\u001b[0;34m\u001b[0m\u001b[0m\n\u001b[0;32m--> 180\u001b[0;31m                     \u001b[0mself\u001b[0m\u001b[0;34m.\u001b[0m\u001b[0mnot_empty\u001b[0m\u001b[0;34m.\u001b[0m\u001b[0mwait\u001b[0m\u001b[0;34m(\u001b[0m\u001b[0mremaining\u001b[0m\u001b[0;34m)\u001b[0m\u001b[0;34m\u001b[0m\u001b[0;34m\u001b[0m\u001b[0m\n\u001b[0m\u001b[1;32m    181\u001b[0m             \u001b[0mitem\u001b[0m \u001b[0;34m=\u001b[0m \u001b[0mself\u001b[0m\u001b[0;34m.\u001b[0m\u001b[0m_get\u001b[0m\u001b[0;34m(\u001b[0m\u001b[0;34m)\u001b[0m\u001b[0;34m\u001b[0m\u001b[0;34m\u001b[0m\u001b[0m\n\u001b[1;32m    182\u001b[0m             \u001b[0mself\u001b[0m\u001b[0;34m.\u001b[0m\u001b[0mnot_full\u001b[0m\u001b[0;34m.\u001b[0m\u001b[0mnotify\u001b[0m\u001b[0;34m(\u001b[0m\u001b[0;34m)\u001b[0m\u001b[0;34m\u001b[0m\u001b[0;34m\u001b[0m\u001b[0m\n",
            "\u001b[0;32m/usr/lib/python3.10/threading.py\u001b[0m in \u001b[0;36mwait\u001b[0;34m(self, timeout)\u001b[0m\n\u001b[1;32m    322\u001b[0m             \u001b[0;32melse\u001b[0m\u001b[0;34m:\u001b[0m\u001b[0;34m\u001b[0m\u001b[0;34m\u001b[0m\u001b[0m\n\u001b[1;32m    323\u001b[0m                 \u001b[0;32mif\u001b[0m \u001b[0mtimeout\u001b[0m \u001b[0;34m>\u001b[0m \u001b[0;36m0\u001b[0m\u001b[0;34m:\u001b[0m\u001b[0;34m\u001b[0m\u001b[0;34m\u001b[0m\u001b[0m\n\u001b[0;32m--> 324\u001b[0;31m                     \u001b[0mgotit\u001b[0m \u001b[0;34m=\u001b[0m \u001b[0mwaiter\u001b[0m\u001b[0;34m.\u001b[0m\u001b[0macquire\u001b[0m\u001b[0;34m(\u001b[0m\u001b[0;32mTrue\u001b[0m\u001b[0;34m,\u001b[0m \u001b[0mtimeout\u001b[0m\u001b[0;34m)\u001b[0m\u001b[0;34m\u001b[0m\u001b[0;34m\u001b[0m\u001b[0m\n\u001b[0m\u001b[1;32m    325\u001b[0m                 \u001b[0;32melse\u001b[0m\u001b[0;34m:\u001b[0m\u001b[0;34m\u001b[0m\u001b[0;34m\u001b[0m\u001b[0m\n\u001b[1;32m    326\u001b[0m                     \u001b[0mgotit\u001b[0m \u001b[0;34m=\u001b[0m \u001b[0mwaiter\u001b[0m\u001b[0;34m.\u001b[0m\u001b[0macquire\u001b[0m\u001b[0;34m(\u001b[0m\u001b[0;32mFalse\u001b[0m\u001b[0;34m)\u001b[0m\u001b[0;34m\u001b[0m\u001b[0;34m\u001b[0m\u001b[0m\n",
            "\u001b[0;31mKeyboardInterrupt\u001b[0m: "
          ]
        }
      ]
    },
    {
      "cell_type": "code",
      "source": [
        "y.dtype"
      ],
      "metadata": {
        "colab": {
          "base_uri": "https://localhost:8080/"
        },
        "id": "pAlYUQAa4s9H",
        "outputId": "4f608142-b611-448f-85db-474e5a5d3efe"
      },
      "execution_count": 80,
      "outputs": [
        {
          "output_type": "execute_result",
          "data": {
            "text/plain": [
              "torch.int64"
            ]
          },
          "metadata": {},
          "execution_count": 80
        }
      ]
    },
    {
      "cell_type": "code",
      "source": [
        "y_preds = []\n",
        "y_trues = []\n",
        "\n",
        "model.eval()\n",
        "for iter, (x, y) in enumerate(test_loader):\n",
        "    with torch.no_grad():\n",
        "        x = x.cuda(non_blocking=True)\n",
        "        y_trues.extend(y.tolist())\n",
        "        y = y.long().cuda(non_blocking=True)\n",
        "        y_pred = model(x).argmax(1).tolist()\n",
        "        y_preds.extend(y_pred)\n",
        "        print(f\"Iter {iter}/{len(test_loader)}\")\n"
      ],
      "metadata": {
        "colab": {
          "base_uri": "https://localhost:8080/"
        },
        "id": "8h1rwI_Q4yD3",
        "outputId": "1274921d-4310-4d08-ec1d-7c0de9fc62a6"
      },
      "execution_count": 86,
      "outputs": [
        {
          "output_type": "stream",
          "name": "stdout",
          "text": [
            "Iter 0/316\n",
            "Iter 1/316\n",
            "Iter 2/316\n",
            "Iter 3/316\n",
            "Iter 4/316\n",
            "Iter 5/316\n",
            "Iter 6/316\n",
            "Iter 7/316\n",
            "Iter 8/316\n",
            "Iter 9/316\n",
            "Iter 10/316\n",
            "Iter 11/316\n",
            "Iter 12/316\n",
            "Iter 13/316\n",
            "Iter 14/316\n",
            "Iter 15/316\n",
            "Iter 16/316\n",
            "Iter 17/316\n",
            "Iter 18/316\n",
            "Iter 19/316\n",
            "Iter 20/316\n",
            "Iter 21/316\n",
            "Iter 22/316\n",
            "Iter 23/316\n",
            "Iter 24/316\n",
            "Iter 25/316\n",
            "Iter 26/316\n",
            "Iter 27/316\n",
            "Iter 28/316\n",
            "Iter 29/316\n",
            "Iter 30/316\n",
            "Iter 31/316\n",
            "Iter 32/316\n",
            "Iter 33/316\n",
            "Iter 34/316\n",
            "Iter 35/316\n",
            "Iter 36/316\n",
            "Iter 37/316\n",
            "Iter 38/316\n",
            "Iter 39/316\n",
            "Iter 40/316\n",
            "Iter 41/316\n",
            "Iter 42/316\n",
            "Iter 43/316\n",
            "Iter 44/316\n",
            "Iter 45/316\n",
            "Iter 46/316\n",
            "Iter 47/316\n",
            "Iter 48/316\n",
            "Iter 49/316\n",
            "Iter 50/316\n",
            "Iter 51/316\n",
            "Iter 52/316\n",
            "Iter 53/316\n",
            "Iter 54/316\n",
            "Iter 55/316\n",
            "Iter 56/316\n",
            "Iter 57/316\n",
            "Iter 58/316\n",
            "Iter 59/316\n",
            "Iter 60/316\n",
            "Iter 61/316\n",
            "Iter 62/316\n",
            "Iter 63/316\n",
            "Iter 64/316\n",
            "Iter 65/316\n",
            "Iter 66/316\n",
            "Iter 67/316\n",
            "Iter 68/316\n",
            "Iter 69/316\n",
            "Iter 70/316\n",
            "Iter 71/316\n",
            "Iter 72/316\n",
            "Iter 73/316\n",
            "Iter 74/316\n",
            "Iter 75/316\n",
            "Iter 76/316\n",
            "Iter 77/316\n",
            "Iter 78/316\n",
            "Iter 79/316\n",
            "Iter 80/316\n",
            "Iter 81/316\n",
            "Iter 82/316\n",
            "Iter 83/316\n",
            "Iter 84/316\n",
            "Iter 85/316\n",
            "Iter 86/316\n",
            "Iter 87/316\n",
            "Iter 88/316\n",
            "Iter 89/316\n",
            "Iter 90/316\n",
            "Iter 91/316\n",
            "Iter 92/316\n",
            "Iter 93/316\n",
            "Iter 94/316\n",
            "Iter 95/316\n",
            "Iter 96/316\n",
            "Iter 97/316\n",
            "Iter 98/316\n",
            "Iter 99/316\n",
            "Iter 100/316\n",
            "Iter 101/316\n",
            "Iter 102/316\n",
            "Iter 103/316\n",
            "Iter 104/316\n",
            "Iter 105/316\n",
            "Iter 106/316\n",
            "Iter 107/316\n",
            "Iter 108/316\n",
            "Iter 109/316\n",
            "Iter 110/316\n",
            "Iter 111/316\n",
            "Iter 112/316\n",
            "Iter 113/316\n",
            "Iter 114/316\n",
            "Iter 115/316\n",
            "Iter 116/316\n",
            "Iter 117/316\n",
            "Iter 118/316\n",
            "Iter 119/316\n",
            "Iter 120/316\n",
            "Iter 121/316\n",
            "Iter 122/316\n",
            "Iter 123/316\n",
            "Iter 124/316\n",
            "Iter 125/316\n",
            "Iter 126/316\n",
            "Iter 127/316\n",
            "Iter 128/316\n",
            "Iter 129/316\n",
            "Iter 130/316\n",
            "Iter 131/316\n",
            "Iter 132/316\n",
            "Iter 133/316\n",
            "Iter 134/316\n",
            "Iter 135/316\n",
            "Iter 136/316\n",
            "Iter 137/316\n",
            "Iter 138/316\n",
            "Iter 139/316\n",
            "Iter 140/316\n",
            "Iter 141/316\n",
            "Iter 142/316\n",
            "Iter 143/316\n",
            "Iter 144/316\n",
            "Iter 145/316\n",
            "Iter 146/316\n",
            "Iter 147/316\n",
            "Iter 148/316\n",
            "Iter 149/316\n",
            "Iter 150/316\n",
            "Iter 151/316\n",
            "Iter 152/316\n",
            "Iter 153/316\n",
            "Iter 154/316\n",
            "Iter 155/316\n",
            "Iter 156/316\n",
            "Iter 157/316\n",
            "Iter 158/316\n",
            "Iter 159/316\n",
            "Iter 160/316\n",
            "Iter 161/316\n",
            "Iter 162/316\n",
            "Iter 163/316\n",
            "Iter 164/316\n",
            "Iter 165/316\n",
            "Iter 166/316\n",
            "Iter 167/316\n",
            "Iter 168/316\n",
            "Iter 169/316\n",
            "Iter 170/316\n",
            "Iter 171/316\n",
            "Iter 172/316\n",
            "Iter 173/316\n",
            "Iter 174/316\n",
            "Iter 175/316\n",
            "Iter 176/316\n",
            "Iter 177/316\n",
            "Iter 178/316\n",
            "Iter 179/316\n",
            "Iter 180/316\n",
            "Iter 181/316\n",
            "Iter 182/316\n",
            "Iter 183/316\n",
            "Iter 184/316\n",
            "Iter 185/316\n",
            "Iter 186/316\n",
            "Iter 187/316\n",
            "Iter 188/316\n",
            "Iter 189/316\n",
            "Iter 190/316\n",
            "Iter 191/316\n",
            "Iter 192/316\n",
            "Iter 193/316\n",
            "Iter 194/316\n",
            "Iter 195/316\n",
            "Iter 196/316\n",
            "Iter 197/316\n",
            "Iter 198/316\n",
            "Iter 199/316\n",
            "Iter 200/316\n",
            "Iter 201/316\n",
            "Iter 202/316\n",
            "Iter 203/316\n",
            "Iter 204/316\n",
            "Iter 205/316\n",
            "Iter 206/316\n",
            "Iter 207/316\n",
            "Iter 208/316\n",
            "Iter 209/316\n",
            "Iter 210/316\n",
            "Iter 211/316\n",
            "Iter 212/316\n",
            "Iter 213/316\n",
            "Iter 214/316\n",
            "Iter 215/316\n",
            "Iter 216/316\n",
            "Iter 217/316\n",
            "Iter 218/316\n",
            "Iter 219/316\n",
            "Iter 220/316\n",
            "Iter 221/316\n",
            "Iter 222/316\n",
            "Iter 223/316\n",
            "Iter 224/316\n",
            "Iter 225/316\n",
            "Iter 226/316\n",
            "Iter 227/316\n",
            "Iter 228/316\n",
            "Iter 229/316\n",
            "Iter 230/316\n",
            "Iter 231/316\n",
            "Iter 232/316\n",
            "Iter 233/316\n",
            "Iter 234/316\n",
            "Iter 235/316\n",
            "Iter 236/316\n",
            "Iter 237/316\n",
            "Iter 238/316\n",
            "Iter 239/316\n",
            "Iter 240/316\n",
            "Iter 241/316\n",
            "Iter 242/316\n",
            "Iter 243/316\n",
            "Iter 244/316\n",
            "Iter 245/316\n",
            "Iter 246/316\n",
            "Iter 247/316\n",
            "Iter 248/316\n",
            "Iter 249/316\n",
            "Iter 250/316\n",
            "Iter 251/316\n",
            "Iter 252/316\n",
            "Iter 253/316\n",
            "Iter 254/316\n",
            "Iter 255/316\n",
            "Iter 256/316\n",
            "Iter 257/316\n",
            "Iter 258/316\n",
            "Iter 259/316\n",
            "Iter 260/316\n",
            "Iter 261/316\n",
            "Iter 262/316\n",
            "Iter 263/316\n",
            "Iter 264/316\n",
            "Iter 265/316\n",
            "Iter 266/316\n",
            "Iter 267/316\n",
            "Iter 268/316\n",
            "Iter 269/316\n",
            "Iter 270/316\n",
            "Iter 271/316\n",
            "Iter 272/316\n",
            "Iter 273/316\n",
            "Iter 274/316\n",
            "Iter 275/316\n",
            "Iter 276/316\n",
            "Iter 277/316\n",
            "Iter 278/316\n",
            "Iter 279/316\n",
            "Iter 280/316\n",
            "Iter 281/316\n",
            "Iter 282/316\n",
            "Iter 283/316\n",
            "Iter 284/316\n",
            "Iter 285/316\n",
            "Iter 286/316\n",
            "Iter 287/316\n",
            "Iter 288/316\n",
            "Iter 289/316\n",
            "Iter 290/316\n",
            "Iter 291/316\n",
            "Iter 292/316\n",
            "Iter 293/316\n",
            "Iter 294/316\n",
            "Iter 295/316\n",
            "Iter 296/316\n",
            "Iter 297/316\n",
            "Iter 298/316\n",
            "Iter 299/316\n",
            "Iter 300/316\n",
            "Iter 301/316\n",
            "Iter 302/316\n",
            "Iter 303/316\n",
            "Iter 304/316\n",
            "Iter 305/316\n",
            "Iter 306/316\n",
            "Iter 307/316\n",
            "Iter 308/316\n",
            "Iter 309/316\n",
            "Iter 310/316\n",
            "Iter 311/316\n",
            "Iter 312/316\n",
            "Iter 313/316\n",
            "Iter 314/316\n",
            "Iter 315/316\n"
          ]
        }
      ]
    },
    {
      "cell_type": "code",
      "source": [
        "from sklearn.metrics import accuracy_score\n",
        "accuracy_score(y_trues, y_preds)"
      ],
      "metadata": {
        "colab": {
          "base_uri": "https://localhost:8080/"
        },
        "id": "6wtVjiA87-r0",
        "outputId": "118bdcd1-dab3-489f-c3de-c7c8003c5c93"
      },
      "execution_count": 87,
      "outputs": [
        {
          "output_type": "execute_result",
          "data": {
            "text/plain": [
              "0.5550495049504951"
            ]
          },
          "metadata": {},
          "execution_count": 87
        }
      ]
    },
    {
      "cell_type": "code",
      "source": [],
      "metadata": {
        "id": "uSrUXgal8aV2"
      },
      "execution_count": null,
      "outputs": []
    }
  ]
}